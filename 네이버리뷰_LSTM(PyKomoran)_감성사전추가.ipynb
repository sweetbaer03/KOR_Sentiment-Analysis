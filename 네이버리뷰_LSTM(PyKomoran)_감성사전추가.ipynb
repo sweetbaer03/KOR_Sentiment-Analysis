{
  "nbformat": 4,
  "nbformat_minor": 0,
  "metadata": {
    "colab": {
      "name": "네이버리뷰_LSTM(PyKomoran)_감성사전추가.ipynb",
      "provenance": [],
      "collapsed_sections": [],
      "authorship_tag": "ABX9TyPkFJP5pC9LYfLmxKzGw5Ih",
      "include_colab_link": true
    },
    "kernelspec": {
      "name": "python3",
      "display_name": "Python 3"
    },
    "accelerator": "GPU"
  },
  "cells": [
    {
      "cell_type": "markdown",
      "metadata": {
        "id": "view-in-github",
        "colab_type": "text"
      },
      "source": [
        "<a href=\"https://colab.research.google.com/github/sweetbaer03/KOR_Sentiment-Analysis/blob/main/%EB%84%A4%EC%9D%B4%EB%B2%84%EB%A6%AC%EB%B7%B0_LSTM(PyKomoran)_%EA%B0%90%EC%84%B1%EC%82%AC%EC%A0%84%EC%B6%94%EA%B0%80.ipynb\" target=\"_parent\"><img src=\"https://colab.research.google.com/assets/colab-badge.svg\" alt=\"Open In Colab\"/></a>"
      ]
    },
    {
      "cell_type": "markdown",
      "metadata": {
        "id": "rJIl5yX1sHtr"
      },
      "source": [
        "**NSMC Sentiment Analysis**\n",
        "\n",
        "LSTM 모델 사용 \n",
        "(PyKomoran 형태소 분석 사용)\n",
        "\n",
        "---\n",
        "참고소스:\n",
        "https://wikidocs.net/44249\n",
        "\n",
        "https://skettee.github.io/post/long_short_term_memory/"
      ]
    },
    {
      "cell_type": "code",
      "metadata": {
        "colab": {
          "base_uri": "https://localhost:8080/"
        },
        "id": "CSacgfw_kxdq",
        "outputId": "7c9029da-054b-426b-828b-c95b5718e0fc"
      },
      "source": [
        "#코모란 형태소 분석기 사용\r\n",
        "!pip install PyKomoran"
      ],
      "execution_count": 1,
      "outputs": [
        {
          "output_type": "stream",
          "text": [
            "Collecting PyKomoran\n",
            "\u001b[?25l  Downloading https://files.pythonhosted.org/packages/23/b0/ce6a46f311651ed64c39beb1cfe1c39a9906521139ace45430d08c489b62/PyKomoran-0.1.5-py3-none-any.whl (7.9MB)\n",
            "\u001b[K     |████████████████████████████████| 7.9MB 10.3MB/s \n",
            "\u001b[?25hCollecting py4j==0.10.8.1\n",
            "\u001b[?25l  Downloading https://files.pythonhosted.org/packages/04/de/2d314a921ef4c20b283e1de94e0780273678caac901564df06b948e4ba9b/py4j-0.10.8.1-py2.py3-none-any.whl (196kB)\n",
            "\u001b[K     |████████████████████████████████| 204kB 52.1MB/s \n",
            "\u001b[?25hInstalling collected packages: py4j, PyKomoran\n",
            "Successfully installed PyKomoran-0.1.5 py4j-0.10.8.1\n"
          ],
          "name": "stdout"
        }
      ]
    },
    {
      "cell_type": "code",
      "metadata": {
        "id": "llAfK7sV4-mZ"
      },
      "source": [
        "import tensorflow as tf\n",
        "import pandas as pd\n",
        "import numpy as np\n",
        "import random\n",
        "import time\n",
        "import re\n",
        "import os\n",
        "import pickle\n",
        "import datetime\n",
        "import urllib.request\n",
        "%matplotlib inline\n",
        "import matplotlib.pyplot as plt\n",
        "\n",
        "from keras.preprocessing.sequence import pad_sequences\n",
        "from sklearn.model_selection import train_test_split\n",
        "from keras.preprocessing.text import Tokenizer\n",
        "from keras.preprocessing.sequence import pad_sequences\n",
        "from sklearn.preprocessing import LabelEncoder\n",
        "from tensorflow.keras.layers import Embedding, Dense, LSTM\n",
        "from tensorflow.keras.models import Sequential\n",
        "from tensorflow.keras.models import load_model\n",
        "from tensorflow.keras.callbacks import EarlyStopping, ModelCheckpoint\n",
        "from PyKomoran import *"
      ],
      "execution_count": 2,
      "outputs": []
    },
    {
      "cell_type": "code",
      "metadata": {
        "colab": {
          "base_uri": "https://localhost:8080/"
        },
        "id": "kTcP5SkI5CGp",
        "outputId": "475efcbf-cbb8-4f43-ba7b-079e8c5a7857"
      },
      "source": [
        "from google.colab import drive\n",
        "drive.mount('/content/drive')"
      ],
      "execution_count": 3,
      "outputs": [
        {
          "output_type": "stream",
          "text": [
            "Mounted at /content/drive\n"
          ],
          "name": "stdout"
        }
      ]
    },
    {
      "cell_type": "markdown",
      "metadata": {
        "id": "74VXDJUmvfj2"
      },
      "source": [
        "github에서 필요한 데이터파일 다운"
      ]
    },
    {
      "cell_type": "code",
      "metadata": {
        "colab": {
          "base_uri": "https://localhost:8080/"
        },
        "id": "1P3jXyTVve1F",
        "outputId": "d8e60328-ab2e-4bfa-a753-0fd1c4e0561e"
      },
      "source": [
        "!git clone https://github.com/sweetbaer03/KOR_Sentiment-Analysis.git"
      ],
      "execution_count": 44,
      "outputs": [
        {
          "output_type": "stream",
          "text": [
            "fatal: destination path 'KOR_Sentiment-Analysis' already exists and is not an empty directory.\n"
          ],
          "name": "stdout"
        }
      ]
    },
    {
      "cell_type": "code",
      "metadata": {
        "id": "H7HKhusK5KGP"
      },
      "source": [
        "# train/test set 데이터 로드\n",
        "train_data = pd.read_csv(\"KOR_Sentiment-Analysis/data_in/ratings_train.txt\", sep='\\t')\n",
        "test_tmp = pd.read_csv(\"KOR_Sentiment-Analysis/data_in/ratings_test.txt\", sep='\\t')"
      ],
      "execution_count": 45,
      "outputs": []
    },
    {
      "cell_type": "code",
      "metadata": {
        "colab": {
          "base_uri": "https://localhost:8080/",
          "height": 204
        },
        "id": "zFLKv8jG5M1u",
        "outputId": "f3db8d5a-c4ee-495a-f0f0-1af4f5ab6d31"
      },
      "source": [
        "train_data.head()"
      ],
      "execution_count": 46,
      "outputs": [
        {
          "output_type": "execute_result",
          "data": {
            "text/html": [
              "<div>\n",
              "<style scoped>\n",
              "    .dataframe tbody tr th:only-of-type {\n",
              "        vertical-align: middle;\n",
              "    }\n",
              "\n",
              "    .dataframe tbody tr th {\n",
              "        vertical-align: top;\n",
              "    }\n",
              "\n",
              "    .dataframe thead th {\n",
              "        text-align: right;\n",
              "    }\n",
              "</style>\n",
              "<table border=\"1\" class=\"dataframe\">\n",
              "  <thead>\n",
              "    <tr style=\"text-align: right;\">\n",
              "      <th></th>\n",
              "      <th>id</th>\n",
              "      <th>document</th>\n",
              "      <th>label</th>\n",
              "    </tr>\n",
              "  </thead>\n",
              "  <tbody>\n",
              "    <tr>\n",
              "      <th>0</th>\n",
              "      <td>9976970</td>\n",
              "      <td>아 더빙.. 진짜 짜증나네요 목소리</td>\n",
              "      <td>0</td>\n",
              "    </tr>\n",
              "    <tr>\n",
              "      <th>1</th>\n",
              "      <td>3819312</td>\n",
              "      <td>흠...포스터보고 초딩영화줄....오버연기조차 가볍지 않구나</td>\n",
              "      <td>1</td>\n",
              "    </tr>\n",
              "    <tr>\n",
              "      <th>2</th>\n",
              "      <td>10265843</td>\n",
              "      <td>너무재밓었다그래서보는것을추천한다</td>\n",
              "      <td>0</td>\n",
              "    </tr>\n",
              "    <tr>\n",
              "      <th>3</th>\n",
              "      <td>9045019</td>\n",
              "      <td>교도소 이야기구먼 ..솔직히 재미는 없다..평점 조정</td>\n",
              "      <td>0</td>\n",
              "    </tr>\n",
              "    <tr>\n",
              "      <th>4</th>\n",
              "      <td>6483659</td>\n",
              "      <td>사이몬페그의 익살스런 연기가 돋보였던 영화!스파이더맨에서 늙어보이기만 했던 커스틴 ...</td>\n",
              "      <td>1</td>\n",
              "    </tr>\n",
              "  </tbody>\n",
              "</table>\n",
              "</div>"
            ],
            "text/plain": [
              "         id                                           document  label\n",
              "0   9976970                                아 더빙.. 진짜 짜증나네요 목소리      0\n",
              "1   3819312                  흠...포스터보고 초딩영화줄....오버연기조차 가볍지 않구나      1\n",
              "2  10265843                                  너무재밓었다그래서보는것을추천한다      0\n",
              "3   9045019                      교도소 이야기구먼 ..솔직히 재미는 없다..평점 조정      0\n",
              "4   6483659  사이몬페그의 익살스런 연기가 돋보였던 영화!스파이더맨에서 늙어보이기만 했던 커스틴 ...      1"
            ]
          },
          "metadata": {
            "tags": []
          },
          "execution_count": 46
        }
      ]
    },
    {
      "cell_type": "code",
      "metadata": {
        "id": "Lh-0EJ4LbU6b",
        "colab": {
          "base_uri": "https://localhost:8080/",
          "height": 204
        },
        "outputId": "a81db531-9c8a-4d41-cd47-7b8f9645a829"
      },
      "source": [
        "test_tmp[:5]"
      ],
      "execution_count": 48,
      "outputs": [
        {
          "output_type": "execute_result",
          "data": {
            "text/html": [
              "<div>\n",
              "<style scoped>\n",
              "    .dataframe tbody tr th:only-of-type {\n",
              "        vertical-align: middle;\n",
              "    }\n",
              "\n",
              "    .dataframe tbody tr th {\n",
              "        vertical-align: top;\n",
              "    }\n",
              "\n",
              "    .dataframe thead th {\n",
              "        text-align: right;\n",
              "    }\n",
              "</style>\n",
              "<table border=\"1\" class=\"dataframe\">\n",
              "  <thead>\n",
              "    <tr style=\"text-align: right;\">\n",
              "      <th></th>\n",
              "      <th>id</th>\n",
              "      <th>document</th>\n",
              "      <th>label</th>\n",
              "    </tr>\n",
              "  </thead>\n",
              "  <tbody>\n",
              "    <tr>\n",
              "      <th>0</th>\n",
              "      <td>6270596</td>\n",
              "      <td>굳 ㅋ</td>\n",
              "      <td>1</td>\n",
              "    </tr>\n",
              "    <tr>\n",
              "      <th>1</th>\n",
              "      <td>9274899</td>\n",
              "      <td>GDNTOPCLASSINTHECLUB</td>\n",
              "      <td>0</td>\n",
              "    </tr>\n",
              "    <tr>\n",
              "      <th>2</th>\n",
              "      <td>8544678</td>\n",
              "      <td>뭐야 이 평점들은.... 나쁘진 않지만 10점 짜리는 더더욱 아니잖아</td>\n",
              "      <td>0</td>\n",
              "    </tr>\n",
              "    <tr>\n",
              "      <th>3</th>\n",
              "      <td>6825595</td>\n",
              "      <td>지루하지는 않은데 완전 막장임... 돈주고 보기에는....</td>\n",
              "      <td>0</td>\n",
              "    </tr>\n",
              "    <tr>\n",
              "      <th>4</th>\n",
              "      <td>6723715</td>\n",
              "      <td>3D만 아니었어도 별 다섯 개 줬을텐데.. 왜 3D로 나와서 제 심기를 불편하게 하죠??</td>\n",
              "      <td>0</td>\n",
              "    </tr>\n",
              "  </tbody>\n",
              "</table>\n",
              "</div>"
            ],
            "text/plain": [
              "        id                                           document  label\n",
              "0  6270596                                                굳 ㅋ      1\n",
              "1  9274899                               GDNTOPCLASSINTHECLUB      0\n",
              "2  8544678             뭐야 이 평점들은.... 나쁘진 않지만 10점 짜리는 더더욱 아니잖아      0\n",
              "3  6825595                   지루하지는 않은데 완전 막장임... 돈주고 보기에는....      0\n",
              "4  6723715  3D만 아니었어도 별 다섯 개 줬을텐데.. 왜 3D로 나와서 제 심기를 불편하게 하죠??      0"
            ]
          },
          "metadata": {
            "tags": []
          },
          "execution_count": 48
        }
      ]
    },
    {
      "cell_type": "code",
      "metadata": {
        "id": "ZWlxRe9XbUwO",
        "colab": {
          "base_uri": "https://localhost:8080/"
        },
        "outputId": "782bd9fb-abf3-43f9-b58b-5f4c037926ae"
      },
      "source": [
        "print('훈련용 리뷰 개수 :',len(train_data)) # 훈련용 리뷰 개수 출력\r\n",
        "print('테스트용 리뷰 개수 :',len(test_tmp)) # 테스트용 리뷰 개수 출력"
      ],
      "execution_count": 49,
      "outputs": [
        {
          "output_type": "stream",
          "text": [
            "훈련용 리뷰 개수 : 150000\n",
            "테스트용 리뷰 개수 : 50000\n"
          ],
          "name": "stdout"
        }
      ]
    },
    {
      "cell_type": "markdown",
      "metadata": {
        "id": "QVG_PlXBlaSD"
      },
      "source": [
        "## 캐글데이터 불러오기"
      ]
    },
    {
      "cell_type": "code",
      "metadata": {
        "colab": {
          "base_uri": "https://localhost:8080/",
          "height": 204
        },
        "id": "uXmhgbOulZKR",
        "outputId": "75b4a460-b411-4410-e0c9-581636bede83"
      },
      "source": [
        "test_csv = pd.read_csv('KOR_Sentiment-Analysis/data_in/ko_data.csv', encoding = 'cp949')\r\n",
        "test_csv.head()"
      ],
      "execution_count": 50,
      "outputs": [
        {
          "output_type": "execute_result",
          "data": {
            "text/html": [
              "<div>\n",
              "<style scoped>\n",
              "    .dataframe tbody tr th:only-of-type {\n",
              "        vertical-align: middle;\n",
              "    }\n",
              "\n",
              "    .dataframe tbody tr th {\n",
              "        vertical-align: top;\n",
              "    }\n",
              "\n",
              "    .dataframe thead th {\n",
              "        text-align: right;\n",
              "    }\n",
              "</style>\n",
              "<table border=\"1\" class=\"dataframe\">\n",
              "  <thead>\n",
              "    <tr style=\"text-align: right;\">\n",
              "      <th></th>\n",
              "      <th>Id</th>\n",
              "      <th>Sentence</th>\n",
              "    </tr>\n",
              "  </thead>\n",
              "  <tbody>\n",
              "    <tr>\n",
              "      <th>0</th>\n",
              "      <td>0</td>\n",
              "      <td>정말 많이 울었던 영화입니다.</td>\n",
              "    </tr>\n",
              "    <tr>\n",
              "      <th>1</th>\n",
              "      <td>1</td>\n",
              "      <td>시간 낭비예요.</td>\n",
              "    </tr>\n",
              "    <tr>\n",
              "      <th>2</th>\n",
              "      <td>2</td>\n",
              "      <td>포스터를 저렇게밖에 만들지 못했던 제작자의 소심함에 침을 뱉고 싶다.</td>\n",
              "    </tr>\n",
              "    <tr>\n",
              "      <th>3</th>\n",
              "      <td>3</td>\n",
              "      <td>지금 봐도 재미있는 영화!!! 코믹과 감동!!! 그리고 요리!!!</td>\n",
              "    </tr>\n",
              "    <tr>\n",
              "      <th>4</th>\n",
              "      <td>4</td>\n",
              "      <td>이걸 영화로 만드는 거야?얼마나 가는지 보자.</td>\n",
              "    </tr>\n",
              "  </tbody>\n",
              "</table>\n",
              "</div>"
            ],
            "text/plain": [
              "   Id                                Sentence\n",
              "0   0                        정말 많이 울었던 영화입니다.\n",
              "1   1                                시간 낭비예요.\n",
              "2   2  포스터를 저렇게밖에 만들지 못했던 제작자의 소심함에 침을 뱉고 싶다.\n",
              "3   3    지금 봐도 재미있는 영화!!! 코믹과 감동!!! 그리고 요리!!!\n",
              "4   4               이걸 영화로 만드는 거야?얼마나 가는지 보자."
            ]
          },
          "metadata": {
            "tags": []
          },
          "execution_count": 50
        }
      ]
    },
    {
      "cell_type": "markdown",
      "metadata": {
        "id": "K_OJD2j38bIF"
      },
      "source": [
        "# 데이터 정제하기"
      ]
    },
    {
      "cell_type": "code",
      "metadata": {
        "colab": {
          "base_uri": "https://localhost:8080/"
        },
        "id": "xzFRdEoTlZQQ",
        "outputId": "10d9997d-ca02-449a-9197-cc0df6aa62d8"
      },
      "source": [
        "train_data.isnull().any()\r\n",
        "test_tmp.isnull().any()"
      ],
      "execution_count": 51,
      "outputs": [
        {
          "output_type": "execute_result",
          "data": {
            "text/plain": [
              "id          False\n",
              "document     True\n",
              "label       False\n",
              "dtype: bool"
            ]
          },
          "metadata": {
            "tags": []
          },
          "execution_count": 51
        }
      ]
    },
    {
      "cell_type": "code",
      "metadata": {
        "id": "y_vdPzWclZSX"
      },
      "source": [
        "train_data = train_data.dropna(axis=0).reset_index(drop=True)\r\n",
        "test_tmp = test_tmp.dropna(axis=0).reset_index(drop=True)"
      ],
      "execution_count": 52,
      "outputs": []
    },
    {
      "cell_type": "code",
      "metadata": {
        "colab": {
          "base_uri": "https://localhost:8080/"
        },
        "id": "_1Y88Tyul4Dl",
        "outputId": "28675318-b906-4bb5-e492-abdc37534933"
      },
      "source": [
        "print('훈련용 리뷰 개수 :',len(train_data)) # 훈련용 리뷰 개수 출력\r\n",
        "print('테스트용 리뷰 개수 :',len(test_tmp)) # 테스트용 리뷰 개수 출력"
      ],
      "execution_count": 53,
      "outputs": [
        {
          "output_type": "stream",
          "text": [
            "훈련용 리뷰 개수 : 149995\n",
            "테스트용 리뷰 개수 : 49997\n"
          ],
          "name": "stdout"
        }
      ]
    },
    {
      "cell_type": "markdown",
      "metadata": {
        "id": "DyNIuDjNLUPj"
      },
      "source": [
        "# 감정사전 추가"
      ]
    },
    {
      "cell_type": "code",
      "metadata": {
        "colab": {
          "base_uri": "https://localhost:8080/",
          "height": 419
        },
        "id": "4NSTIQqYLSzp",
        "outputId": "c7445786-f09d-4443-d220-c2af79eca5f0"
      },
      "source": [
        "dic_data_value = pd.read_table('KOR_Sentiment-Analysis/data_in/SentiWord_Dict.txt', header=None)\r\n",
        "dic_data_value.rename(columns={dic_data_value.columns[0] : 'document', dic_data_value.columns[1] : 'label'}, inplace=True)\r\n",
        "dic_data_value"
      ],
      "execution_count": 38,
      "outputs": [
        {
          "output_type": "execute_result",
          "data": {
            "text/html": [
              "<div>\n",
              "<style scoped>\n",
              "    .dataframe tbody tr th:only-of-type {\n",
              "        vertical-align: middle;\n",
              "    }\n",
              "\n",
              "    .dataframe tbody tr th {\n",
              "        vertical-align: top;\n",
              "    }\n",
              "\n",
              "    .dataframe thead th {\n",
              "        text-align: right;\n",
              "    }\n",
              "</style>\n",
              "<table border=\"1\" class=\"dataframe\">\n",
              "  <thead>\n",
              "    <tr style=\"text-align: right;\">\n",
              "      <th></th>\n",
              "      <th>document</th>\n",
              "      <th>label</th>\n",
              "    </tr>\n",
              "  </thead>\n",
              "  <tbody>\n",
              "    <tr>\n",
              "      <th>0</th>\n",
              "      <td>(-;</td>\n",
              "      <td>1.0</td>\n",
              "    </tr>\n",
              "    <tr>\n",
              "      <th>1</th>\n",
              "      <td>(;_;)</td>\n",
              "      <td>-1.0</td>\n",
              "    </tr>\n",
              "    <tr>\n",
              "      <th>2</th>\n",
              "      <td>(^^)</td>\n",
              "      <td>1.0</td>\n",
              "    </tr>\n",
              "    <tr>\n",
              "      <th>3</th>\n",
              "      <td>(^-^)</td>\n",
              "      <td>1.0</td>\n",
              "    </tr>\n",
              "    <tr>\n",
              "      <th>4</th>\n",
              "      <td>(^^*</td>\n",
              "      <td>1.0</td>\n",
              "    </tr>\n",
              "    <tr>\n",
              "      <th>...</th>\n",
              "      <td>...</td>\n",
              "      <td>...</td>\n",
              "    </tr>\n",
              "    <tr>\n",
              "      <th>14850</th>\n",
              "      <td>갈등 -1</td>\n",
              "      <td>NaN</td>\n",
              "    </tr>\n",
              "    <tr>\n",
              "      <th>14851</th>\n",
              "      <td>의혹</td>\n",
              "      <td>-1.0</td>\n",
              "    </tr>\n",
              "    <tr>\n",
              "      <th>14852</th>\n",
              "      <td>내팽개치다</td>\n",
              "      <td>-2.0</td>\n",
              "    </tr>\n",
              "    <tr>\n",
              "      <th>14853</th>\n",
              "      <td>횡령</td>\n",
              "      <td>-2.0</td>\n",
              "    </tr>\n",
              "    <tr>\n",
              "      <th>14854</th>\n",
              "      <td>불안증</td>\n",
              "      <td>-2.0</td>\n",
              "    </tr>\n",
              "  </tbody>\n",
              "</table>\n",
              "<p>14855 rows × 2 columns</p>\n",
              "</div>"
            ],
            "text/plain": [
              "      document  label\n",
              "0          (-;    1.0\n",
              "1        (;_;)   -1.0\n",
              "2         (^^)    1.0\n",
              "3        (^-^)    1.0\n",
              "4         (^^*    1.0\n",
              "...        ...    ...\n",
              "14850    갈등 -1    NaN\n",
              "14851       의혹   -1.0\n",
              "14852    내팽개치다   -2.0\n",
              "14853       횡령   -2.0\n",
              "14854      불안증   -2.0\n",
              "\n",
              "[14855 rows x 2 columns]"
            ]
          },
          "metadata": {
            "tags": []
          },
          "execution_count": 38
        }
      ]
    },
    {
      "cell_type": "code",
      "metadata": {
        "colab": {
          "base_uri": "https://localhost:8080/"
        },
        "id": "7VowLTLNLlA0",
        "outputId": "f9bf0f9e-b24e-4cd7-959c-daa8118cd484"
      },
      "source": [
        "dic_data_value['document'] = dic_data_value['document'].str.replace(\"[^ㄱ-ㅎㅏ-ㅣ가-힣 ]\",\"\") # 정규 표현식 수행\r\n",
        "dic_data_value['document'].replace('', np.nan, inplace=True) # 공백은 Null 값으로 변경\r\n",
        "dic_data_value = dic_data_value.dropna(how='any') # Null 값 제거\r\n",
        "dic_data_value = dic_data_value.dropna(how = 'any') # Null 값이 존재하는 행 제거\r\n",
        "print(dic_data_value.isnull().values.any()) # Null 값이 존재하는지 확인\r\n",
        "#감성이 없는 단어 삭제\r\n",
        "idx_ = dic_data_value[dic_data_value['label']==0.0].index\r\n",
        "dic_data_value = dic_data_value.drop(idx_)\r\n",
        "print(dic_data_value.groupby(['label']).size().reset_index(name = 'count'))"
      ],
      "execution_count": 39,
      "outputs": [
        {
          "output_type": "stream",
          "text": [
            "False\n",
            "   label  count\n",
            "0   -2.0   4799\n",
            "1   -1.0   5016\n",
            "2    1.0   2246\n",
            "3    2.0   2603\n"
          ],
          "name": "stdout"
        }
      ]
    },
    {
      "cell_type": "code",
      "metadata": {
        "colab": {
          "base_uri": "https://localhost:8080/",
          "height": 419
        },
        "id": "alxmVMdcLmKv",
        "outputId": "6504fa40-3f28-4f4c-a1b0-31f74320a165"
      },
      "source": [
        "# 감정을 숫자로 변환\r\n",
        "def emotion_labeling_dic(emotion):\r\n",
        "   return{-2.0 : 0, -1.0: 0, 1.0: 1, 2.0: 1}[emotion]\r\n",
        "\r\n",
        "emotion_labels = []\r\n",
        "\r\n",
        "for e in dic_data_value['label']:\r\n",
        "   emotion_labels.append(emotion_labeling_dic(e))\r\n",
        "\r\n",
        "dic_data_value['label'] = emotion_labels\r\n",
        "dic_data_value"
      ],
      "execution_count": 40,
      "outputs": [
        {
          "output_type": "execute_result",
          "data": {
            "text/html": [
              "<div>\n",
              "<style scoped>\n",
              "    .dataframe tbody tr th:only-of-type {\n",
              "        vertical-align: middle;\n",
              "    }\n",
              "\n",
              "    .dataframe tbody tr th {\n",
              "        vertical-align: top;\n",
              "    }\n",
              "\n",
              "    .dataframe thead th {\n",
              "        text-align: right;\n",
              "    }\n",
              "</style>\n",
              "<table border=\"1\" class=\"dataframe\">\n",
              "  <thead>\n",
              "    <tr style=\"text-align: right;\">\n",
              "      <th></th>\n",
              "      <th>document</th>\n",
              "      <th>label</th>\n",
              "    </tr>\n",
              "  </thead>\n",
              "  <tbody>\n",
              "    <tr>\n",
              "      <th>10</th>\n",
              "      <td>ㅡㅡ</td>\n",
              "      <td>0</td>\n",
              "    </tr>\n",
              "    <tr>\n",
              "      <th>28</th>\n",
              "      <td>ㅅ</td>\n",
              "      <td>0</td>\n",
              "    </tr>\n",
              "    <tr>\n",
              "      <th>41</th>\n",
              "      <td>ㄱㅅ</td>\n",
              "      <td>1</td>\n",
              "    </tr>\n",
              "    <tr>\n",
              "      <th>42</th>\n",
              "      <td>ㄱㅇㄷ</td>\n",
              "      <td>1</td>\n",
              "    </tr>\n",
              "    <tr>\n",
              "      <th>43</th>\n",
              "      <td>가격이 싸다</td>\n",
              "      <td>1</td>\n",
              "    </tr>\n",
              "    <tr>\n",
              "      <th>...</th>\n",
              "      <td>...</td>\n",
              "      <td>...</td>\n",
              "    </tr>\n",
              "    <tr>\n",
              "      <th>14849</th>\n",
              "      <td>오류</td>\n",
              "      <td>0</td>\n",
              "    </tr>\n",
              "    <tr>\n",
              "      <th>14851</th>\n",
              "      <td>의혹</td>\n",
              "      <td>0</td>\n",
              "    </tr>\n",
              "    <tr>\n",
              "      <th>14852</th>\n",
              "      <td>내팽개치다</td>\n",
              "      <td>0</td>\n",
              "    </tr>\n",
              "    <tr>\n",
              "      <th>14853</th>\n",
              "      <td>횡령</td>\n",
              "      <td>0</td>\n",
              "    </tr>\n",
              "    <tr>\n",
              "      <th>14854</th>\n",
              "      <td>불안증</td>\n",
              "      <td>0</td>\n",
              "    </tr>\n",
              "  </tbody>\n",
              "</table>\n",
              "<p>14664 rows × 2 columns</p>\n",
              "</div>"
            ],
            "text/plain": [
              "      document  label\n",
              "10          ㅡㅡ      0\n",
              "28           ㅅ      0\n",
              "41          ㄱㅅ      1\n",
              "42         ㄱㅇㄷ      1\n",
              "43      가격이 싸다      1\n",
              "...        ...    ...\n",
              "14849       오류      0\n",
              "14851       의혹      0\n",
              "14852    내팽개치다      0\n",
              "14853       횡령      0\n",
              "14854      불안증      0\n",
              "\n",
              "[14664 rows x 2 columns]"
            ]
          },
          "metadata": {
            "tags": []
          },
          "execution_count": 40
        }
      ]
    },
    {
      "cell_type": "code",
      "metadata": {
        "colab": {
          "base_uri": "https://localhost:8080/",
          "height": 419
        },
        "id": "Nk7LPPybLq8J",
        "outputId": "9e2ef114-da9a-4fd5-9913-2dd68aa277cd"
      },
      "source": [
        "dic_data_value.reset_index(drop=True)"
      ],
      "execution_count": 41,
      "outputs": [
        {
          "output_type": "execute_result",
          "data": {
            "text/html": [
              "<div>\n",
              "<style scoped>\n",
              "    .dataframe tbody tr th:only-of-type {\n",
              "        vertical-align: middle;\n",
              "    }\n",
              "\n",
              "    .dataframe tbody tr th {\n",
              "        vertical-align: top;\n",
              "    }\n",
              "\n",
              "    .dataframe thead th {\n",
              "        text-align: right;\n",
              "    }\n",
              "</style>\n",
              "<table border=\"1\" class=\"dataframe\">\n",
              "  <thead>\n",
              "    <tr style=\"text-align: right;\">\n",
              "      <th></th>\n",
              "      <th>document</th>\n",
              "      <th>label</th>\n",
              "    </tr>\n",
              "  </thead>\n",
              "  <tbody>\n",
              "    <tr>\n",
              "      <th>0</th>\n",
              "      <td>ㅡㅡ</td>\n",
              "      <td>0</td>\n",
              "    </tr>\n",
              "    <tr>\n",
              "      <th>1</th>\n",
              "      <td>ㅅ</td>\n",
              "      <td>0</td>\n",
              "    </tr>\n",
              "    <tr>\n",
              "      <th>2</th>\n",
              "      <td>ㄱㅅ</td>\n",
              "      <td>1</td>\n",
              "    </tr>\n",
              "    <tr>\n",
              "      <th>3</th>\n",
              "      <td>ㄱㅇㄷ</td>\n",
              "      <td>1</td>\n",
              "    </tr>\n",
              "    <tr>\n",
              "      <th>4</th>\n",
              "      <td>가격이 싸다</td>\n",
              "      <td>1</td>\n",
              "    </tr>\n",
              "    <tr>\n",
              "      <th>...</th>\n",
              "      <td>...</td>\n",
              "      <td>...</td>\n",
              "    </tr>\n",
              "    <tr>\n",
              "      <th>14659</th>\n",
              "      <td>오류</td>\n",
              "      <td>0</td>\n",
              "    </tr>\n",
              "    <tr>\n",
              "      <th>14660</th>\n",
              "      <td>의혹</td>\n",
              "      <td>0</td>\n",
              "    </tr>\n",
              "    <tr>\n",
              "      <th>14661</th>\n",
              "      <td>내팽개치다</td>\n",
              "      <td>0</td>\n",
              "    </tr>\n",
              "    <tr>\n",
              "      <th>14662</th>\n",
              "      <td>횡령</td>\n",
              "      <td>0</td>\n",
              "    </tr>\n",
              "    <tr>\n",
              "      <th>14663</th>\n",
              "      <td>불안증</td>\n",
              "      <td>0</td>\n",
              "    </tr>\n",
              "  </tbody>\n",
              "</table>\n",
              "<p>14664 rows × 2 columns</p>\n",
              "</div>"
            ],
            "text/plain": [
              "      document  label\n",
              "0           ㅡㅡ      0\n",
              "1            ㅅ      0\n",
              "2           ㄱㅅ      1\n",
              "3          ㄱㅇㄷ      1\n",
              "4       가격이 싸다      1\n",
              "...        ...    ...\n",
              "14659       오류      0\n",
              "14660       의혹      0\n",
              "14661    내팽개치다      0\n",
              "14662       횡령      0\n",
              "14663      불안증      0\n",
              "\n",
              "[14664 rows x 2 columns]"
            ]
          },
          "metadata": {
            "tags": []
          },
          "execution_count": 41
        }
      ]
    },
    {
      "cell_type": "code",
      "metadata": {
        "colab": {
          "base_uri": "https://localhost:8080/"
        },
        "id": "J4b7BzmiLtxb",
        "outputId": "149c0c58-1eae-4ad6-f5d5-b6b3f5581da6"
      },
      "source": [
        "print('전처리 후 사전 샘플의 개수 :',len(dic_data_value))"
      ],
      "execution_count": 42,
      "outputs": [
        {
          "output_type": "stream",
          "text": [
            "전처리 후 사전 샘플의 개수 : 14664\n"
          ],
          "name": "stdout"
        }
      ]
    },
    {
      "cell_type": "markdown",
      "metadata": {
        "id": "cJAZ3bFWLv0f"
      },
      "source": [
        "# 학습데이터 합치기"
      ]
    },
    {
      "cell_type": "code",
      "metadata": {
        "id": "Ex2kyLQWLuy1"
      },
      "source": [
        "#합치기 위해 포멧 통일\r\n",
        "train_data.drop(labels='id', axis=\"columns\", inplace=True)"
      ],
      "execution_count": 54,
      "outputs": []
    },
    {
      "cell_type": "code",
      "metadata": {
        "colab": {
          "base_uri": "https://localhost:8080/",
          "height": 419
        },
        "id": "-Kby9v3oLzlv",
        "outputId": "34e747a5-f590-429e-8eab-d25e361e3325"
      },
      "source": [
        "train = pd.concat([dic_data_value, train_data])\r\n",
        "#인덱스 재정렬\r\n",
        "train.reset_index(drop=True, inplace=True)\r\n",
        "train"
      ],
      "execution_count": 55,
      "outputs": [
        {
          "output_type": "execute_result",
          "data": {
            "text/html": [
              "<div>\n",
              "<style scoped>\n",
              "    .dataframe tbody tr th:only-of-type {\n",
              "        vertical-align: middle;\n",
              "    }\n",
              "\n",
              "    .dataframe tbody tr th {\n",
              "        vertical-align: top;\n",
              "    }\n",
              "\n",
              "    .dataframe thead th {\n",
              "        text-align: right;\n",
              "    }\n",
              "</style>\n",
              "<table border=\"1\" class=\"dataframe\">\n",
              "  <thead>\n",
              "    <tr style=\"text-align: right;\">\n",
              "      <th></th>\n",
              "      <th>document</th>\n",
              "      <th>label</th>\n",
              "    </tr>\n",
              "  </thead>\n",
              "  <tbody>\n",
              "    <tr>\n",
              "      <th>0</th>\n",
              "      <td>ㅡㅡ</td>\n",
              "      <td>0</td>\n",
              "    </tr>\n",
              "    <tr>\n",
              "      <th>1</th>\n",
              "      <td>ㅅ</td>\n",
              "      <td>0</td>\n",
              "    </tr>\n",
              "    <tr>\n",
              "      <th>2</th>\n",
              "      <td>ㄱㅅ</td>\n",
              "      <td>1</td>\n",
              "    </tr>\n",
              "    <tr>\n",
              "      <th>3</th>\n",
              "      <td>ㄱㅇㄷ</td>\n",
              "      <td>1</td>\n",
              "    </tr>\n",
              "    <tr>\n",
              "      <th>4</th>\n",
              "      <td>가격이 싸다</td>\n",
              "      <td>1</td>\n",
              "    </tr>\n",
              "    <tr>\n",
              "      <th>...</th>\n",
              "      <td>...</td>\n",
              "      <td>...</td>\n",
              "    </tr>\n",
              "    <tr>\n",
              "      <th>164654</th>\n",
              "      <td>인간이 문제지.. 소는 뭔죄인가..</td>\n",
              "      <td>0</td>\n",
              "    </tr>\n",
              "    <tr>\n",
              "      <th>164655</th>\n",
              "      <td>평점이 너무 낮아서...</td>\n",
              "      <td>1</td>\n",
              "    </tr>\n",
              "    <tr>\n",
              "      <th>164656</th>\n",
              "      <td>이게 뭐요? 한국인은 거들먹거리고 필리핀 혼혈은 착하다?</td>\n",
              "      <td>0</td>\n",
              "    </tr>\n",
              "    <tr>\n",
              "      <th>164657</th>\n",
              "      <td>청춘 영화의 최고봉.방황과 우울했던 날들의 자화상</td>\n",
              "      <td>1</td>\n",
              "    </tr>\n",
              "    <tr>\n",
              "      <th>164658</th>\n",
              "      <td>한국 영화 최초로 수간하는 내용이 담긴 영화</td>\n",
              "      <td>0</td>\n",
              "    </tr>\n",
              "  </tbody>\n",
              "</table>\n",
              "<p>164659 rows × 2 columns</p>\n",
              "</div>"
            ],
            "text/plain": [
              "                               document  label\n",
              "0                                    ㅡㅡ      0\n",
              "1                                     ㅅ      0\n",
              "2                                    ㄱㅅ      1\n",
              "3                                   ㄱㅇㄷ      1\n",
              "4                                가격이 싸다      1\n",
              "...                                 ...    ...\n",
              "164654              인간이 문제지.. 소는 뭔죄인가..      0\n",
              "164655                    평점이 너무 낮아서...      1\n",
              "164656  이게 뭐요? 한국인은 거들먹거리고 필리핀 혼혈은 착하다?      0\n",
              "164657      청춘 영화의 최고봉.방황과 우울했던 날들의 자화상      1\n",
              "164658         한국 영화 최초로 수간하는 내용이 담긴 영화      0\n",
              "\n",
              "[164659 rows x 2 columns]"
            ]
          },
          "metadata": {
            "tags": []
          },
          "execution_count": 55
        }
      ]
    },
    {
      "cell_type": "markdown",
      "metadata": {
        "id": "JERxFbya8Wx0"
      },
      "source": [
        "# 토큰화"
      ]
    },
    {
      "cell_type": "code",
      "metadata": {
        "id": "D5R6rhkwYo6L"
      },
      "source": [
        "train_data = train[['document', 'label']]\r\n",
        "test_tmp = test_tmp[['document', 'label']]"
      ],
      "execution_count": 56,
      "outputs": []
    },
    {
      "cell_type": "code",
      "metadata": {
        "colab": {
          "base_uri": "https://localhost:8080/"
        },
        "id": "eOjjj0AJYrbC",
        "outputId": "4502b08f-38bc-43fc-f3a0-c1766e3be66c"
      },
      "source": [
        "print('Train data shape: ', train_data.shape)\r\n",
        "n_lebel = len(train_data[train_data.label == 0])\r\n",
        "print('Label 0 in Train data: {} ({:.1f}%)'.format(n_lebel, n_lebel*100/len(train_data)))\r\n",
        "n_lebel = len(train_data[train_data.label == 1])\r\n",
        "print('Label 1 in Train data: {} ({:.1f}%)'.format(n_lebel, n_lebel*100/len(train_data)))\r\n",
        "\r\n",
        "print('\\nTest data shape: ', test_tmp.shape)\r\n",
        "n_lebel = len(test_tmp[test_tmp.label == 0])\r\n",
        "print('Label 0 in Test data: {} ({:.1f}%)'.format(n_lebel, n_lebel*100/len(test_tmp)))\r\n",
        "n_lebel = len(test_tmp[test_tmp.label == 1])\r\n",
        "print('Label 1 in Test data: {} ({:.1f}%)'.format(n_lebel, n_lebel*100/len(test_tmp)))"
      ],
      "execution_count": 57,
      "outputs": [
        {
          "output_type": "stream",
          "text": [
            "Train data shape:  (164659, 2)\n",
            "Label 0 in Train data: 84985 (51.6%)\n",
            "Label 1 in Train data: 79674 (48.4%)\n",
            "\n",
            "Test data shape:  (49997, 2)\n",
            "Label 0 in Test data: 24826 (49.7%)\n",
            "Label 1 in Test data: 25171 (50.3%)\n"
          ],
          "name": "stdout"
        }
      ]
    },
    {
      "cell_type": "code",
      "metadata": {
        "id": "6hwkRor7Xyqo"
      },
      "source": [
        "komoran = Komoran(\"STABLE\")\r\n",
        "stop_pos_tags =  ['IC', 'JKS', 'JKC', 'JKG', 'JKO', 'JKB', 'JKV', 'JKQ', 'JX', \r\n",
        "                   'EF', 'ETN', 'ETM', 'XSA', 'SF', 'SP', 'SS', 'SE', 'SO', 'SL', 'SH', \r\n",
        "                   'SW', 'NF', 'NV', 'SN', 'NA']"
      ],
      "execution_count": 58,
      "outputs": []
    },
    {
      "cell_type": "code",
      "metadata": {
        "id": "exzvN4FHXys_"
      },
      "source": [
        "def tokenize(corpus, stop_pos_tags):\r\n",
        "    result = []\r\n",
        "    pairs = komoran.get_list(corpus)\r\n",
        "    for pair in pairs:\r\n",
        "        morph = pair.get_first()\r\n",
        "        pos = pair.get_second()\r\n",
        "        if pos not in stop_pos_tags:\r\n",
        "            if pos in ['VV', 'VA', 'VX', 'VCP', 'VCN']:\r\n",
        "                morph = morph + '다'\r\n",
        "            result.append(morph)\r\n",
        "    return result"
      ],
      "execution_count": 59,
      "outputs": []
    },
    {
      "cell_type": "code",
      "metadata": {
        "id": "AjiQwa8xX709"
      },
      "source": [
        "tokens_list = []\r\n",
        "\r\n",
        "for i in range(len(train_data['document'])):\r\n",
        "    tokens_list.append(tokenize(train_data['document'][i], stop_pos_tags))"
      ],
      "execution_count": 60,
      "outputs": []
    },
    {
      "cell_type": "code",
      "metadata": {
        "colab": {
          "base_uri": "https://localhost:8080/",
          "height": 204
        },
        "id": "NVzul8ScX73P",
        "outputId": "9333b7c6-2c6a-4c1c-b50b-735f48cb0980"
      },
      "source": [
        "train_data['tokens'] = tokens_list\r\n",
        "train_data.head()"
      ],
      "execution_count": 61,
      "outputs": [
        {
          "output_type": "execute_result",
          "data": {
            "text/html": [
              "<div>\n",
              "<style scoped>\n",
              "    .dataframe tbody tr th:only-of-type {\n",
              "        vertical-align: middle;\n",
              "    }\n",
              "\n",
              "    .dataframe tbody tr th {\n",
              "        vertical-align: top;\n",
              "    }\n",
              "\n",
              "    .dataframe thead th {\n",
              "        text-align: right;\n",
              "    }\n",
              "</style>\n",
              "<table border=\"1\" class=\"dataframe\">\n",
              "  <thead>\n",
              "    <tr style=\"text-align: right;\">\n",
              "      <th></th>\n",
              "      <th>document</th>\n",
              "      <th>label</th>\n",
              "      <th>tokens</th>\n",
              "    </tr>\n",
              "  </thead>\n",
              "  <tbody>\n",
              "    <tr>\n",
              "      <th>0</th>\n",
              "      <td>ㅡㅡ</td>\n",
              "      <td>0</td>\n",
              "      <td>[]</td>\n",
              "    </tr>\n",
              "    <tr>\n",
              "      <th>1</th>\n",
              "      <td>ㅅ</td>\n",
              "      <td>0</td>\n",
              "      <td>[]</td>\n",
              "    </tr>\n",
              "    <tr>\n",
              "      <th>2</th>\n",
              "      <td>ㄱㅅ</td>\n",
              "      <td>1</td>\n",
              "      <td>[]</td>\n",
              "    </tr>\n",
              "    <tr>\n",
              "      <th>3</th>\n",
              "      <td>ㄱㅇㄷ</td>\n",
              "      <td>1</td>\n",
              "      <td>[]</td>\n",
              "    </tr>\n",
              "    <tr>\n",
              "      <th>4</th>\n",
              "      <td>가격이 싸다</td>\n",
              "      <td>1</td>\n",
              "      <td>[가격, 싸다, 다]</td>\n",
              "    </tr>\n",
              "  </tbody>\n",
              "</table>\n",
              "</div>"
            ],
            "text/plain": [
              "  document  label       tokens\n",
              "0       ㅡㅡ      0           []\n",
              "1        ㅅ      0           []\n",
              "2       ㄱㅅ      1           []\n",
              "3      ㄱㅇㄷ      1           []\n",
              "4   가격이 싸다      1  [가격, 싸다, 다]"
            ]
          },
          "metadata": {
            "tags": []
          },
          "execution_count": 61
        }
      ]
    },
    {
      "cell_type": "code",
      "metadata": {
        "id": "ZhuL09BWhRYq"
      },
      "source": [
        "train_data = train_data[train_data['tokens'].str.len() > 2]"
      ],
      "execution_count": 62,
      "outputs": []
    },
    {
      "cell_type": "code",
      "metadata": {
        "colab": {
          "base_uri": "https://localhost:8080/",
          "height": 255
        },
        "id": "WbH5-uLoX75b",
        "outputId": "175cce4c-77f6-4392-87fa-3d7ded8d53da"
      },
      "source": [
        "tokens_list = []\r\n",
        "\r\n",
        "for i in range(len(test_tmp['document'])):\r\n",
        "    tokens_list.append(tokenize(test_tmp['document'][i], stop_pos_tags))\r\n",
        "test_tmp['tokens'] = tokens_list\r\n",
        "\r\n",
        "test_tmp.head()"
      ],
      "execution_count": 63,
      "outputs": [
        {
          "output_type": "execute_result",
          "data": {
            "text/html": [
              "<div>\n",
              "<style scoped>\n",
              "    .dataframe tbody tr th:only-of-type {\n",
              "        vertical-align: middle;\n",
              "    }\n",
              "\n",
              "    .dataframe tbody tr th {\n",
              "        vertical-align: top;\n",
              "    }\n",
              "\n",
              "    .dataframe thead th {\n",
              "        text-align: right;\n",
              "    }\n",
              "</style>\n",
              "<table border=\"1\" class=\"dataframe\">\n",
              "  <thead>\n",
              "    <tr style=\"text-align: right;\">\n",
              "      <th></th>\n",
              "      <th>document</th>\n",
              "      <th>label</th>\n",
              "      <th>tokens</th>\n",
              "    </tr>\n",
              "  </thead>\n",
              "  <tbody>\n",
              "    <tr>\n",
              "      <th>0</th>\n",
              "      <td>굳 ㅋ</td>\n",
              "      <td>1</td>\n",
              "      <td>[굳다]</td>\n",
              "    </tr>\n",
              "    <tr>\n",
              "      <th>1</th>\n",
              "      <td>GDNTOPCLASSINTHECLUB</td>\n",
              "      <td>0</td>\n",
              "      <td>[]</td>\n",
              "    </tr>\n",
              "    <tr>\n",
              "      <th>2</th>\n",
              "      <td>뭐야 이 평점들은.... 나쁘진 않지만 10점 짜리는 더더욱 아니잖아</td>\n",
              "      <td>0</td>\n",
              "      <td>[뭐, 이, 평점, 들, 나쁘다, 지, 않다, 지만, 점, 짜리, 더더욱, 아니다,...</td>\n",
              "    </tr>\n",
              "    <tr>\n",
              "      <th>3</th>\n",
              "      <td>지루하지는 않은데 완전 막장임... 돈주고 보기에는....</td>\n",
              "      <td>0</td>\n",
              "      <td>[지루, 지, 않다, 은데, 완전, 막장, 이다, 돈, 주다, 고, 보다]</td>\n",
              "    </tr>\n",
              "    <tr>\n",
              "      <th>4</th>\n",
              "      <td>3D만 아니었어도 별 다섯 개 줬을텐데.. 왜 3D로 나와서 제 심기를 불편하게 하죠??</td>\n",
              "      <td>0</td>\n",
              "      <td>[아니다, 었, 어도, 별, 다섯, 개, 주다, 었, 텐, 데, 왜, 나오다, 아서...</td>\n",
              "    </tr>\n",
              "  </tbody>\n",
              "</table>\n",
              "</div>"
            ],
            "text/plain": [
              "                                            document  ...                                             tokens\n",
              "0                                                굳 ㅋ  ...                                               [굳다]\n",
              "1                               GDNTOPCLASSINTHECLUB  ...                                                 []\n",
              "2             뭐야 이 평점들은.... 나쁘진 않지만 10점 짜리는 더더욱 아니잖아  ...  [뭐, 이, 평점, 들, 나쁘다, 지, 않다, 지만, 점, 짜리, 더더욱, 아니다,...\n",
              "3                   지루하지는 않은데 완전 막장임... 돈주고 보기에는....  ...          [지루, 지, 않다, 은데, 완전, 막장, 이다, 돈, 주다, 고, 보다]\n",
              "4  3D만 아니었어도 별 다섯 개 줬을텐데.. 왜 3D로 나와서 제 심기를 불편하게 하죠??  ...  [아니다, 었, 어도, 별, 다섯, 개, 주다, 었, 텐, 데, 왜, 나오다, 아서...\n",
              "\n",
              "[5 rows x 3 columns]"
            ]
          },
          "metadata": {
            "tags": []
          },
          "execution_count": 63
        }
      ]
    },
    {
      "cell_type": "code",
      "metadata": {
        "id": "FyPKLRDQX77V"
      },
      "source": [
        "test_tmp = test_tmp[test_tmp['tokens'].str.len() > 2]"
      ],
      "execution_count": 64,
      "outputs": []
    },
    {
      "cell_type": "code",
      "metadata": {
        "id": "Vy2G4FnFX79k"
      },
      "source": [
        "max_words = 35000\r\n",
        "tokenizer = Tokenizer(num_words=max_words, oov_token = True)\r\n",
        "tokenizer.fit_on_texts(train_data.tokens)\r\n",
        "train_data.tokens = tokenizer.texts_to_sequences(train_data.tokens)\r\n",
        "test_tmp.tokens = tokenizer.texts_to_sequences(test_tmp.tokens)"
      ],
      "execution_count": 65,
      "outputs": []
    },
    {
      "cell_type": "code",
      "metadata": {
        "colab": {
          "base_uri": "https://localhost:8080/",
          "height": 204
        },
        "id": "ciYSIEVyt5RD",
        "outputId": "aee22953-4968-4258-a131-83c5f96f184c"
      },
      "source": [
        "train_data.head()"
      ],
      "execution_count": 66,
      "outputs": [
        {
          "output_type": "execute_result",
          "data": {
            "text/html": [
              "<div>\n",
              "<style scoped>\n",
              "    .dataframe tbody tr th:only-of-type {\n",
              "        vertical-align: middle;\n",
              "    }\n",
              "\n",
              "    .dataframe tbody tr th {\n",
              "        vertical-align: top;\n",
              "    }\n",
              "\n",
              "    .dataframe thead th {\n",
              "        text-align: right;\n",
              "    }\n",
              "</style>\n",
              "<table border=\"1\" class=\"dataframe\">\n",
              "  <thead>\n",
              "    <tr style=\"text-align: right;\">\n",
              "      <th></th>\n",
              "      <th>document</th>\n",
              "      <th>label</th>\n",
              "      <th>tokens</th>\n",
              "    </tr>\n",
              "  </thead>\n",
              "  <tbody>\n",
              "    <tr>\n",
              "      <th>4</th>\n",
              "      <td>가격이 싸다</td>\n",
              "      <td>1</td>\n",
              "      <td>[6341, 680, 9]</td>\n",
              "    </tr>\n",
              "    <tr>\n",
              "      <th>5</th>\n",
              "      <td>가까이 사귀어</td>\n",
              "      <td>1</td>\n",
              "      <td>[2563, 3824, 11]</td>\n",
              "    </tr>\n",
              "    <tr>\n",
              "      <th>6</th>\n",
              "      <td>가까이하다</td>\n",
              "      <td>1</td>\n",
              "      <td>[2563, 5, 9]</td>\n",
              "    </tr>\n",
              "    <tr>\n",
              "      <th>7</th>\n",
              "      <td>가꾸러뜨리다</td>\n",
              "      <td>0</td>\n",
              "      <td>[14212, 298, 541, 6342]</td>\n",
              "    </tr>\n",
              "    <tr>\n",
              "      <th>8</th>\n",
              "      <td>가꾸러트리다</td>\n",
              "      <td>0</td>\n",
              "      <td>[14212, 298, 382, 6342]</td>\n",
              "    </tr>\n",
              "  </tbody>\n",
              "</table>\n",
              "</div>"
            ],
            "text/plain": [
              "  document  label                   tokens\n",
              "4   가격이 싸다      1           [6341, 680, 9]\n",
              "5  가까이 사귀어      1         [2563, 3824, 11]\n",
              "6    가까이하다      1             [2563, 5, 9]\n",
              "7   가꾸러뜨리다      0  [14212, 298, 541, 6342]\n",
              "8   가꾸러트리다      0  [14212, 298, 382, 6342]"
            ]
          },
          "metadata": {
            "tags": []
          },
          "execution_count": 66
        }
      ]
    },
    {
      "cell_type": "code",
      "metadata": {
        "colab": {
          "base_uri": "https://localhost:8080/",
          "height": 255
        },
        "id": "C51-_MRfX7_X",
        "outputId": "8ee26ea7-db7d-4b5b-d331-8a4ed5809b0e"
      },
      "source": [
        "test_tmp.head()"
      ],
      "execution_count": 67,
      "outputs": [
        {
          "output_type": "execute_result",
          "data": {
            "text/html": [
              "<div>\n",
              "<style scoped>\n",
              "    .dataframe tbody tr th:only-of-type {\n",
              "        vertical-align: middle;\n",
              "    }\n",
              "\n",
              "    .dataframe tbody tr th {\n",
              "        vertical-align: top;\n",
              "    }\n",
              "\n",
              "    .dataframe thead th {\n",
              "        text-align: right;\n",
              "    }\n",
              "</style>\n",
              "<table border=\"1\" class=\"dataframe\">\n",
              "  <thead>\n",
              "    <tr style=\"text-align: right;\">\n",
              "      <th></th>\n",
              "      <th>document</th>\n",
              "      <th>label</th>\n",
              "      <th>tokens</th>\n",
              "    </tr>\n",
              "  </thead>\n",
              "  <tbody>\n",
              "    <tr>\n",
              "      <th>2</th>\n",
              "      <td>뭐야 이 평점들은.... 나쁘진 않지만 10점 짜리는 더더욱 아니잖아</td>\n",
              "      <td>0</td>\n",
              "      <td>[54, 18, 48, 13, 450, 15, 32, 37, 26, 610, 318...</td>\n",
              "    </tr>\n",
              "    <tr>\n",
              "      <th>3</th>\n",
              "      <td>지루하지는 않은데 완전 막장임... 돈주고 보기에는....</td>\n",
              "      <td>0</td>\n",
              "      <td>[77, 15, 32, 239, 128, 344, 3, 140, 22, 6, 4]</td>\n",
              "    </tr>\n",
              "    <tr>\n",
              "      <th>4</th>\n",
              "      <td>3D만 아니었어도 별 다섯 개 줬을텐데.. 왜 3D로 나와서 제 심기를 불편하게 하죠??</td>\n",
              "      <td>0</td>\n",
              "      <td>[41, 10, 244, 194, 1971, 109, 22, 10, 673, 188...</td>\n",
              "    </tr>\n",
              "    <tr>\n",
              "      <th>5</th>\n",
              "      <td>음악이 주가 된, 최고의 음악영화</td>\n",
              "      <td>1</td>\n",
              "      <td>[217, 3535, 45, 49, 217, 2]</td>\n",
              "    </tr>\n",
              "    <tr>\n",
              "      <th>7</th>\n",
              "      <td>마치 미국애니에서 튀어나온듯한 창의력없는 로봇디자인부터가,고개를 젖게한다</td>\n",
              "      <td>0</td>\n",
              "      <td>[1067, 398, 374, 4417, 284, 12, 6554, 17, 1393...</td>\n",
              "    </tr>\n",
              "  </tbody>\n",
              "</table>\n",
              "</div>"
            ],
            "text/plain": [
              "                                            document  ...                                             tokens\n",
              "2             뭐야 이 평점들은.... 나쁘진 않지만 10점 짜리는 더더욱 아니잖아  ...  [54, 18, 48, 13, 450, 15, 32, 37, 26, 610, 318...\n",
              "3                   지루하지는 않은데 완전 막장임... 돈주고 보기에는....  ...      [77, 15, 32, 239, 128, 344, 3, 140, 22, 6, 4]\n",
              "4  3D만 아니었어도 별 다섯 개 줬을텐데.. 왜 3D로 나와서 제 심기를 불편하게 하죠??  ...  [41, 10, 244, 194, 1971, 109, 22, 10, 673, 188...\n",
              "5                                 음악이 주가 된, 최고의 음악영화  ...                        [217, 3535, 45, 49, 217, 2]\n",
              "7           마치 미국애니에서 튀어나온듯한 창의력없는 로봇디자인부터가,고개를 젖게한다  ...  [1067, 398, 374, 4417, 284, 12, 6554, 17, 1393...\n",
              "\n",
              "[5 rows x 3 columns]"
            ]
          },
          "metadata": {
            "tags": []
          },
          "execution_count": 67
        }
      ]
    },
    {
      "cell_type": "code",
      "metadata": {
        "colab": {
          "base_uri": "https://localhost:8080/"
        },
        "id": "BM6TSbn0Xyvf",
        "outputId": "81c548fe-5f7d-491d-f075-703f9734aa68"
      },
      "source": [
        "X_train = train_data.tokens\r\n",
        "Y_train = train_data.label\r\n",
        "\r\n",
        "X_test = test_tmp.tokens\r\n",
        "Y_test = test_tmp.label\r\n",
        "\r\n",
        "print('X_train shape: ', X_train.shape)\r\n",
        "print('Y_train shape: ', Y_train.shape)\r\n",
        "print('\\nX_test shape: ', X_test.shape)\r\n",
        "print('Y_test shape: ', Y_test.shape)"
      ],
      "execution_count": 68,
      "outputs": [
        {
          "output_type": "stream",
          "text": [
            "X_train shape:  (144448,)\n",
            "Y_train shape:  (144448,)\n",
            "\n",
            "X_test shape:  (45780,)\n",
            "Y_test shape:  (45780,)\n"
          ],
          "name": "stdout"
        }
      ]
    },
    {
      "cell_type": "code",
      "metadata": {
        "colab": {
          "base_uri": "https://localhost:8080/"
        },
        "id": "-9lq-JZ0q_Hg",
        "outputId": "62e35ea1-441e-4d51-9486-c5cfb6b3e3fb"
      },
      "source": [
        "max_len=30\r\n",
        "X_train = pad_sequences(X_train, maxlen=max_len)\r\n",
        "X_test = pad_sequences(X_test, maxlen=max_len)\r\n",
        "\r\n",
        "print('X_train shape: ', X_train.shape)\r\n",
        "print('X_test shape: ', X_test.shape)"
      ],
      "execution_count": 69,
      "outputs": [
        {
          "output_type": "stream",
          "text": [
            "X_train shape:  (144448, 30)\n",
            "X_test shape:  (45780, 30)\n"
          ],
          "name": "stdout"
        }
      ]
    },
    {
      "cell_type": "code",
      "metadata": {
        "colab": {
          "base_uri": "https://localhost:8080/"
        },
        "id": "o_5geou6q_Jx",
        "outputId": "62c6eabc-cf6d-4803-d481-2f132afb92ec"
      },
      "source": [
        "encoder = LabelEncoder()\r\n",
        "\r\n",
        "# Train\r\n",
        "batch_size = Y_train.shape[0]\r\n",
        "input_dim = 1\r\n",
        "Y_train = encoder.fit_transform(Y_train) # Labeling\r\n",
        "Y_train = np.reshape(Y_train, (batch_size, input_dim)) # Reshape\r\n",
        "\r\n",
        "# Test\r\n",
        "batch_size = Y_test.shape[0]\r\n",
        "Y_test = encoder.transform(Y_test) # Labeling\r\n",
        "Y_test = np.reshape(Y_test, (batch_size, input_dim)) # Reshape\r\n",
        "\r\n",
        "print(Y_train.shape)\r\n",
        "print(Y_test.shape)"
      ],
      "execution_count": 70,
      "outputs": [
        {
          "output_type": "stream",
          "text": [
            "(144448, 1)\n",
            "(45780, 1)\n"
          ],
          "name": "stdout"
        }
      ]
    },
    {
      "cell_type": "markdown",
      "metadata": {
        "id": "7ExlA_lHrOyY"
      },
      "source": [
        "# 모델링"
      ]
    },
    {
      "cell_type": "code",
      "metadata": {
        "colab": {
          "base_uri": "https://localhost:8080/"
        },
        "id": "xb_EruY0q_Om",
        "outputId": "c0d466b0-4130-493a-ef76-9b1fb6c2d07c"
      },
      "source": [
        "model = Sequential()\r\n",
        "model.add(Embedding(max_words, 128))\r\n",
        "model.add(LSTM(128, dropout=0.2, recurrent_dropout=0.2))\r\n",
        "model.add(Dense(1, activation='sigmoid'))\r\n",
        "model.compile(loss='binary_crossentropy', optimizer='adam', metrics=['acc'])"
      ],
      "execution_count": 74,
      "outputs": [
        {
          "output_type": "stream",
          "text": [
            "WARNING:tensorflow:Layer lstm_2 will not use cuDNN kernel since it doesn't meet the cuDNN kernel criteria. It will use generic GPU kernel as fallback when running on GPU\n"
          ],
          "name": "stdout"
        },
        {
          "output_type": "stream",
          "text": [
            "WARNING:tensorflow:Layer lstm_2 will not use cuDNN kernel since it doesn't meet the cuDNN kernel criteria. It will use generic GPU kernel as fallback when running on GPU\n"
          ],
          "name": "stderr"
        }
      ]
    },
    {
      "cell_type": "code",
      "metadata": {
        "id": "4bxctIFsu8Di"
      },
      "source": [
        "es = EarlyStopping(monitor='val_loss', mode='min', verbose=1, patience=4)\r\n",
        "mc = ModelCheckpoint('best_model_LSTM.h5', monitor='val_acc', mode='max', verbose=1, save_best_only=True)"
      ],
      "execution_count": 75,
      "outputs": []
    },
    {
      "cell_type": "code",
      "metadata": {
        "colab": {
          "base_uri": "https://localhost:8080/"
        },
        "id": "PpYP6nF-q_Qr",
        "outputId": "d2c2e35b-2bcc-4ec9-eb1a-5a6f258b4297"
      },
      "source": [
        "hist = model.fit(X_train, Y_train, batch_size=32, epochs=20\r\n",
        "                 , callbacks=[es, mc], validation_split=0.2)\r\n",
        "\r\n",
        "#model.compile(optimizer='rmsprop', loss='binary_crossentropy', metrics=['acc'])\r\n",
        "#history = model.fit(X_train, y_train, epochs=15, callbacks=[es, mc], batch_size=60, validation_split=0.2)"
      ],
      "execution_count": 76,
      "outputs": [
        {
          "output_type": "stream",
          "text": [
            "Epoch 1/20\n",
            "3612/3612 [==============================] - 675s 186ms/step - loss: 0.4463 - acc: 0.7841 - val_loss: 0.3528 - val_acc: 0.8433\n",
            "\n",
            "Epoch 00001: val_acc improved from -inf to 0.84327, saving model to best_model_LSTM.h5\n",
            "Epoch 2/20\n",
            "3612/3612 [==============================] - 672s 186ms/step - loss: 0.3012 - acc: 0.8736 - val_loss: 0.3463 - val_acc: 0.8486\n",
            "\n",
            "Epoch 00002: val_acc improved from 0.84327 to 0.84860, saving model to best_model_LSTM.h5\n",
            "Epoch 3/20\n",
            "3612/3612 [==============================] - 663s 184ms/step - loss: 0.2492 - acc: 0.8963 - val_loss: 0.3604 - val_acc: 0.8481\n",
            "\n",
            "Epoch 00003: val_acc did not improve from 0.84860\n",
            "Epoch 4/20\n",
            "3612/3612 [==============================] - 653s 181ms/step - loss: 0.2037 - acc: 0.9182 - val_loss: 0.3831 - val_acc: 0.8443\n",
            "\n",
            "Epoch 00004: val_acc did not improve from 0.84860\n",
            "Epoch 5/20\n",
            "3612/3612 [==============================] - 652s 180ms/step - loss: 0.1694 - acc: 0.9338 - val_loss: 0.4424 - val_acc: 0.8439\n",
            "\n",
            "Epoch 00005: val_acc did not improve from 0.84860\n",
            "Epoch 6/20\n",
            "3612/3612 [==============================] - 645s 179ms/step - loss: 0.1394 - acc: 0.9454 - val_loss: 0.4873 - val_acc: 0.8399\n",
            "\n",
            "Epoch 00006: val_acc did not improve from 0.84860\n",
            "Epoch 00006: early stopping\n"
          ],
          "name": "stdout"
        }
      ]
    },
    {
      "cell_type": "code",
      "metadata": {
        "colab": {
          "base_uri": "https://localhost:8080/",
          "height": 397
        },
        "id": "YwGzhm3GGGGV",
        "outputId": "44e2df8d-f7cf-4fdc-baac-fdb6f5371c05"
      },
      "source": [
        "tf.keras.utils.plot_model(model, show_shapes=True, dpi=90) "
      ],
      "execution_count": 77,
      "outputs": [
        {
          "output_type": "execute_result",
          "data": {
            "image/png": "[encoded data removed]",
            "text/plain": [
              "<IPython.core.display.Image object>"
            ]
          },
          "metadata": {
            "tags": []
          },
          "execution_count": 77
        }
      ]
    },
    {
      "cell_type": "code",
      "metadata": {
        "colab": {
          "base_uri": "https://localhost:8080/"
        },
        "id": "Tji76j_Eq_S5",
        "outputId": "8f52c2c2-c117-458a-9774-5d1f64652a3d"
      },
      "source": [
        "loss, acc = model.evaluate(X_test, Y_test, batch_size=32)\r\n",
        "\r\n",
        "print('Test loss {0:.4f}:'.format(loss))\r\n",
        "print('Test accuracy {0:.4f}:'.format(acc))"
      ],
      "execution_count": 78,
      "outputs": [
        {
          "output_type": "stream",
          "text": [
            "1431/1431 [==============================] - 15s 11ms/step - loss: 0.4916 - acc: 0.8387\n",
            "Test loss 0.4916:\n",
            "Test accuracy 0.8387:\n"
          ],
          "name": "stdout"
        }
      ]
    },
    {
      "cell_type": "code",
      "metadata": {
        "id": "09yVNm1OMtgT"
      },
      "source": [
        "y_pred = (model.predict(X_test)>=0.5).astype('int')"
      ],
      "execution_count": 79,
      "outputs": []
    },
    {
      "cell_type": "code",
      "metadata": {
        "colab": {
          "base_uri": "https://localhost:8080/"
        },
        "id": "gVXa80eNM0PA",
        "outputId": "e9c247c1-c311-4e5b-dfc5-0016bf0d82e2"
      },
      "source": [
        "y_pred"
      ],
      "execution_count": 80,
      "outputs": [
        {
          "output_type": "execute_result",
          "data": {
            "text/plain": [
              "array([[0],\n",
              "       [0],\n",
              "       [0],\n",
              "       ...,\n",
              "       [0],\n",
              "       [0],\n",
              "       [0]])"
            ]
          },
          "metadata": {
            "tags": []
          },
          "execution_count": 80
        }
      ]
    },
    {
      "cell_type": "code",
      "metadata": {
        "colab": {
          "base_uri": "https://localhost:8080/"
        },
        "id": "9aVLqf6qra51",
        "outputId": "79d89e69-ba56-4ac4-bbe6-5b6910add0a3"
      },
      "source": [
        "# Evaluate the model\r\n",
        "from sklearn.metrics import classification_report, confusion_matrix\r\n",
        "\r\n",
        "print(confusion_matrix(Y_test, y_pred))\r\n",
        "print(classification_report(Y_test, y_pred))"
      ],
      "execution_count": 81,
      "outputs": [
        {
          "output_type": "stream",
          "text": [
            "[[19250  3699]\n",
            " [ 3685 19146]]\n",
            "              precision    recall  f1-score   support\n",
            "\n",
            "           0       0.84      0.84      0.84     22949\n",
            "           1       0.84      0.84      0.84     22831\n",
            "\n",
            "    accuracy                           0.84     45780\n",
            "   macro avg       0.84      0.84      0.84     45780\n",
            "weighted avg       0.84      0.84      0.84     45780\n",
            "\n"
          ],
          "name": "stdout"
        }
      ]
    },
    {
      "cell_type": "code",
      "metadata": {
        "colab": {
          "base_uri": "https://localhost:8080/"
        },
        "id": "ryzioefyra8C",
        "outputId": "0724f523-8d38-406d-bc8d-e9e5c6120851"
      },
      "source": [
        "from sklearn.metrics import precision_score, recall_score, f1_score\r\n",
        "p = precision_score(Y_test, y_pred)\r\n",
        "print('precision_score {0:.4f}'.format(p))\r\n",
        "r = recall_score(Y_test, y_pred)\r\n",
        "print('recall_score {0:.4f}'.format(r))\r\n",
        "f1 = f1_score(Y_test, y_pred)\r\n",
        "print('f1_score {0:.4f}'.format(f1))"
      ],
      "execution_count": 82,
      "outputs": [
        {
          "output_type": "stream",
          "text": [
            "precision_score 0.8381\n",
            "recall_score 0.8386\n",
            "f1_score 0.8383\n"
          ],
          "name": "stdout"
        }
      ]
    }
  ]
}