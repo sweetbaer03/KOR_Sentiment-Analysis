{
  "nbformat": 4,
  "nbformat_minor": 0,
  "metadata": {
    "colab": {
      "name": "네이버리뷰_bi-LSTM(PyKomoran)_감성사전추가.ipynb",
      "provenance": [],
      "collapsed_sections": [],
      "authorship_tag": "ABX9TyNPh8gnrqr0+XTtWWr9MHfy",
      "include_colab_link": true
    },
    "kernelspec": {
      "name": "python3",
      "display_name": "Python 3"
    },
    "accelerator": "GPU"
  },
  "cells": [
    {
      "cell_type": "markdown",
      "metadata": {
        "id": "view-in-github",
        "colab_type": "text"
      },
      "source": [
        "<a href=\"https://colab.research.google.com/github/sweetbaer03/KOR_Sentiment-Analysis/blob/main/%EB%84%A4%EC%9D%B4%EB%B2%84%EB%A6%AC%EB%B7%B0_bi_LSTM(PyKomoran)_%EA%B0%90%EC%84%B1%EC%82%AC%EC%A0%84%EC%B6%94%EA%B0%80.ipynb\" target=\"_parent\"><img src=\"https://colab.research.google.com/assets/colab-badge.svg\" alt=\"Open In Colab\"/></a>"
      ]
    },
    {
      "cell_type": "markdown",
      "metadata": {
        "id": "rJIl5yX1sHtr"
      },
      "source": [
        "**NSMC Sentiment Analysis**\n",
        "\n",
        "bi-LSTM 모델 사용 감성사전추가\n",
        "(PyKomoran 형태소 분석 사용)\n",
        "\n",
        "---\n",
        "참고소스:\n",
        "https://wikidocs.net/44249\n",
        "\n",
        "https://skettee.github.io/post/long_short_term_memory/"
      ]
    },
    {
      "cell_type": "code",
      "metadata": {
        "colab": {
          "base_uri": "https://localhost:8080/"
        },
        "id": "CSacgfw_kxdq",
        "outputId": "a161f8bc-cb8f-4c22-d864-c2f4193846f8"
      },
      "source": [
        "#코모란 형태소 분석기 사용\r\n",
        "!pip install PyKomoran"
      ],
      "execution_count": 6,
      "outputs": [
        {
          "output_type": "stream",
          "text": [
            "Requirement already satisfied: PyKomoran in /usr/local/lib/python3.6/dist-packages (0.1.5)\n",
            "Requirement already satisfied: py4j==0.10.8.1 in /usr/local/lib/python3.6/dist-packages (from PyKomoran) (0.10.8.1)\n"
          ],
          "name": "stdout"
        }
      ]
    },
    {
      "cell_type": "code",
      "metadata": {
        "id": "llAfK7sV4-mZ"
      },
      "source": [
        "import tensorflow as tf\n",
        "import pandas as pd\n",
        "import numpy as np\n",
        "import random\n",
        "import time\n",
        "import re\n",
        "import os\n",
        "import pickle\n",
        "import datetime\n",
        "import urllib.request\n",
        "%matplotlib inline\n",
        "import matplotlib.pyplot as plt\n",
        "\n",
        "from keras.preprocessing.sequence import pad_sequences\n",
        "from sklearn.model_selection import train_test_split\n",
        "from keras.preprocessing.text import Tokenizer\n",
        "from keras.preprocessing.sequence import pad_sequences\n",
        "from sklearn.preprocessing import LabelEncoder\n",
        "from tensorflow.keras.layers import Embedding, Dense, LSTM,Bidirectional\n",
        "from tensorflow.keras.models import Sequential\n",
        "from tensorflow.keras.models import load_model\n",
        "from tensorflow.keras.callbacks import EarlyStopping, ModelCheckpoint\n",
        "from PyKomoran import *"
      ],
      "execution_count": 7,
      "outputs": []
    },
    {
      "cell_type": "markdown",
      "metadata": {
        "id": "74VXDJUmvfj2"
      },
      "source": [
        "github에서 필요한 데이터파일 다운"
      ]
    },
    {
      "cell_type": "code",
      "metadata": {
        "colab": {
          "base_uri": "https://localhost:8080/"
        },
        "id": "1P3jXyTVve1F",
        "outputId": "265f88e8-9ecf-4363-a124-477185dfcd91"
      },
      "source": [
        "!git clone https://github.com/sweetbaer03/KOR_Sentiment-Analysis.git"
      ],
      "execution_count": 8,
      "outputs": [
        {
          "output_type": "stream",
          "text": [
            "fatal: destination path 'KOR_Sentiment-Analysis' already exists and is not an empty directory.\n"
          ],
          "name": "stdout"
        }
      ]
    },
    {
      "cell_type": "code",
      "metadata": {
        "id": "xihCZn3wy0Mb"
      },
      "source": [
        "# train/test set 데이터 로드\n",
        "train_data = pd.read_csv(\"KOR_Sentiment-Analysis/data_in/ratings_train.txt\", sep='\\t')\n",
        "test_tmp = pd.read_csv(\"KOR_Sentiment-Analysis/data_in/ratings_test.txt\", sep='\\t')"
      ],
      "execution_count": 9,
      "outputs": []
    },
    {
      "cell_type": "code",
      "metadata": {
        "colab": {
          "base_uri": "https://localhost:8080/",
          "height": 204
        },
        "id": "zFLKv8jG5M1u",
        "outputId": "8f3204dd-4997-4d97-e320-2c4210993fc0"
      },
      "source": [
        "train_data.head()"
      ],
      "execution_count": 10,
      "outputs": [
        {
          "output_type": "execute_result",
          "data": {
            "text/html": [
              "<div>\n",
              "<style scoped>\n",
              "    .dataframe tbody tr th:only-of-type {\n",
              "        vertical-align: middle;\n",
              "    }\n",
              "\n",
              "    .dataframe tbody tr th {\n",
              "        vertical-align: top;\n",
              "    }\n",
              "\n",
              "    .dataframe thead th {\n",
              "        text-align: right;\n",
              "    }\n",
              "</style>\n",
              "<table border=\"1\" class=\"dataframe\">\n",
              "  <thead>\n",
              "    <tr style=\"text-align: right;\">\n",
              "      <th></th>\n",
              "      <th>id</th>\n",
              "      <th>document</th>\n",
              "      <th>label</th>\n",
              "    </tr>\n",
              "  </thead>\n",
              "  <tbody>\n",
              "    <tr>\n",
              "      <th>0</th>\n",
              "      <td>9976970</td>\n",
              "      <td>아 더빙.. 진짜 짜증나네요 목소리</td>\n",
              "      <td>0</td>\n",
              "    </tr>\n",
              "    <tr>\n",
              "      <th>1</th>\n",
              "      <td>3819312</td>\n",
              "      <td>흠...포스터보고 초딩영화줄....오버연기조차 가볍지 않구나</td>\n",
              "      <td>1</td>\n",
              "    </tr>\n",
              "    <tr>\n",
              "      <th>2</th>\n",
              "      <td>10265843</td>\n",
              "      <td>너무재밓었다그래서보는것을추천한다</td>\n",
              "      <td>0</td>\n",
              "    </tr>\n",
              "    <tr>\n",
              "      <th>3</th>\n",
              "      <td>9045019</td>\n",
              "      <td>교도소 이야기구먼 ..솔직히 재미는 없다..평점 조정</td>\n",
              "      <td>0</td>\n",
              "    </tr>\n",
              "    <tr>\n",
              "      <th>4</th>\n",
              "      <td>6483659</td>\n",
              "      <td>사이몬페그의 익살스런 연기가 돋보였던 영화!스파이더맨에서 늙어보이기만 했던 커스틴 ...</td>\n",
              "      <td>1</td>\n",
              "    </tr>\n",
              "  </tbody>\n",
              "</table>\n",
              "</div>"
            ],
            "text/plain": [
              "         id                                           document  label\n",
              "0   9976970                                아 더빙.. 진짜 짜증나네요 목소리      0\n",
              "1   3819312                  흠...포스터보고 초딩영화줄....오버연기조차 가볍지 않구나      1\n",
              "2  10265843                                  너무재밓었다그래서보는것을추천한다      0\n",
              "3   9045019                      교도소 이야기구먼 ..솔직히 재미는 없다..평점 조정      0\n",
              "4   6483659  사이몬페그의 익살스런 연기가 돋보였던 영화!스파이더맨에서 늙어보이기만 했던 커스틴 ...      1"
            ]
          },
          "metadata": {
            "tags": []
          },
          "execution_count": 10
        }
      ]
    },
    {
      "cell_type": "code",
      "metadata": {
        "id": "Lh-0EJ4LbU6b",
        "colab": {
          "base_uri": "https://localhost:8080/",
          "height": 204
        },
        "outputId": "1f55415d-e5a1-4851-aea3-2ed749978dcb"
      },
      "source": [
        "test_tmp[:5]"
      ],
      "execution_count": 11,
      "outputs": [
        {
          "output_type": "execute_result",
          "data": {
            "text/html": [
              "<div>\n",
              "<style scoped>\n",
              "    .dataframe tbody tr th:only-of-type {\n",
              "        vertical-align: middle;\n",
              "    }\n",
              "\n",
              "    .dataframe tbody tr th {\n",
              "        vertical-align: top;\n",
              "    }\n",
              "\n",
              "    .dataframe thead th {\n",
              "        text-align: right;\n",
              "    }\n",
              "</style>\n",
              "<table border=\"1\" class=\"dataframe\">\n",
              "  <thead>\n",
              "    <tr style=\"text-align: right;\">\n",
              "      <th></th>\n",
              "      <th>id</th>\n",
              "      <th>document</th>\n",
              "      <th>label</th>\n",
              "    </tr>\n",
              "  </thead>\n",
              "  <tbody>\n",
              "    <tr>\n",
              "      <th>0</th>\n",
              "      <td>6270596</td>\n",
              "      <td>굳 ㅋ</td>\n",
              "      <td>1</td>\n",
              "    </tr>\n",
              "    <tr>\n",
              "      <th>1</th>\n",
              "      <td>9274899</td>\n",
              "      <td>GDNTOPCLASSINTHECLUB</td>\n",
              "      <td>0</td>\n",
              "    </tr>\n",
              "    <tr>\n",
              "      <th>2</th>\n",
              "      <td>8544678</td>\n",
              "      <td>뭐야 이 평점들은.... 나쁘진 않지만 10점 짜리는 더더욱 아니잖아</td>\n",
              "      <td>0</td>\n",
              "    </tr>\n",
              "    <tr>\n",
              "      <th>3</th>\n",
              "      <td>6825595</td>\n",
              "      <td>지루하지는 않은데 완전 막장임... 돈주고 보기에는....</td>\n",
              "      <td>0</td>\n",
              "    </tr>\n",
              "    <tr>\n",
              "      <th>4</th>\n",
              "      <td>6723715</td>\n",
              "      <td>3D만 아니었어도 별 다섯 개 줬을텐데.. 왜 3D로 나와서 제 심기를 불편하게 하죠??</td>\n",
              "      <td>0</td>\n",
              "    </tr>\n",
              "  </tbody>\n",
              "</table>\n",
              "</div>"
            ],
            "text/plain": [
              "        id                                           document  label\n",
              "0  6270596                                                굳 ㅋ      1\n",
              "1  9274899                               GDNTOPCLASSINTHECLUB      0\n",
              "2  8544678             뭐야 이 평점들은.... 나쁘진 않지만 10점 짜리는 더더욱 아니잖아      0\n",
              "3  6825595                   지루하지는 않은데 완전 막장임... 돈주고 보기에는....      0\n",
              "4  6723715  3D만 아니었어도 별 다섯 개 줬을텐데.. 왜 3D로 나와서 제 심기를 불편하게 하죠??      0"
            ]
          },
          "metadata": {
            "tags": []
          },
          "execution_count": 11
        }
      ]
    },
    {
      "cell_type": "code",
      "metadata": {
        "id": "ZWlxRe9XbUwO",
        "colab": {
          "base_uri": "https://localhost:8080/"
        },
        "outputId": "f4e62421-a956-4e7d-a08c-2a198a7757eb"
      },
      "source": [
        "print('훈련용 리뷰 개수 :',len(train_data)) # 훈련용 리뷰 개수 출력\r\n",
        "print('테스트용 리뷰 개수 :',len(test_tmp)) # 테스트용 리뷰 개수 출력"
      ],
      "execution_count": 12,
      "outputs": [
        {
          "output_type": "stream",
          "text": [
            "훈련용 리뷰 개수 : 150000\n",
            "테스트용 리뷰 개수 : 50000\n"
          ],
          "name": "stdout"
        }
      ]
    },
    {
      "cell_type": "markdown",
      "metadata": {
        "id": "QVG_PlXBlaSD"
      },
      "source": [
        "## 캐글데이터 불러오기"
      ]
    },
    {
      "cell_type": "code",
      "metadata": {
        "colab": {
          "base_uri": "https://localhost:8080/",
          "height": 204
        },
        "id": "uXmhgbOulZKR",
        "outputId": "9412a04b-8d38-4803-cfe2-bac9b6660c8c"
      },
      "source": [
        "test_csv = pd.read_csv('KOR_Sentiment-Analysis/data_in/ko_data.csv', encoding = 'cp949')\r\n",
        "test_csv.head()"
      ],
      "execution_count": 13,
      "outputs": [
        {
          "output_type": "execute_result",
          "data": {
            "text/html": [
              "<div>\n",
              "<style scoped>\n",
              "    .dataframe tbody tr th:only-of-type {\n",
              "        vertical-align: middle;\n",
              "    }\n",
              "\n",
              "    .dataframe tbody tr th {\n",
              "        vertical-align: top;\n",
              "    }\n",
              "\n",
              "    .dataframe thead th {\n",
              "        text-align: right;\n",
              "    }\n",
              "</style>\n",
              "<table border=\"1\" class=\"dataframe\">\n",
              "  <thead>\n",
              "    <tr style=\"text-align: right;\">\n",
              "      <th></th>\n",
              "      <th>Id</th>\n",
              "      <th>Sentence</th>\n",
              "    </tr>\n",
              "  </thead>\n",
              "  <tbody>\n",
              "    <tr>\n",
              "      <th>0</th>\n",
              "      <td>0</td>\n",
              "      <td>정말 많이 울었던 영화입니다.</td>\n",
              "    </tr>\n",
              "    <tr>\n",
              "      <th>1</th>\n",
              "      <td>1</td>\n",
              "      <td>시간 낭비예요.</td>\n",
              "    </tr>\n",
              "    <tr>\n",
              "      <th>2</th>\n",
              "      <td>2</td>\n",
              "      <td>포스터를 저렇게밖에 만들지 못했던 제작자의 소심함에 침을 뱉고 싶다.</td>\n",
              "    </tr>\n",
              "    <tr>\n",
              "      <th>3</th>\n",
              "      <td>3</td>\n",
              "      <td>지금 봐도 재미있는 영화!!! 코믹과 감동!!! 그리고 요리!!!</td>\n",
              "    </tr>\n",
              "    <tr>\n",
              "      <th>4</th>\n",
              "      <td>4</td>\n",
              "      <td>이걸 영화로 만드는 거야?얼마나 가는지 보자.</td>\n",
              "    </tr>\n",
              "  </tbody>\n",
              "</table>\n",
              "</div>"
            ],
            "text/plain": [
              "   Id                                Sentence\n",
              "0   0                        정말 많이 울었던 영화입니다.\n",
              "1   1                                시간 낭비예요.\n",
              "2   2  포스터를 저렇게밖에 만들지 못했던 제작자의 소심함에 침을 뱉고 싶다.\n",
              "3   3    지금 봐도 재미있는 영화!!! 코믹과 감동!!! 그리고 요리!!!\n",
              "4   4               이걸 영화로 만드는 거야?얼마나 가는지 보자."
            ]
          },
          "metadata": {
            "tags": []
          },
          "execution_count": 13
        }
      ]
    },
    {
      "cell_type": "markdown",
      "metadata": {
        "id": "K_OJD2j38bIF"
      },
      "source": [
        "# 데이터 정제하기"
      ]
    },
    {
      "cell_type": "code",
      "metadata": {
        "colab": {
          "base_uri": "https://localhost:8080/"
        },
        "id": "xzFRdEoTlZQQ",
        "outputId": "1afebb80-d917-42a2-cf66-d4adfccec85f"
      },
      "source": [
        "train_data.isnull().any()\r\n",
        "test_tmp.isnull().any()"
      ],
      "execution_count": 14,
      "outputs": [
        {
          "output_type": "execute_result",
          "data": {
            "text/plain": [
              "id          False\n",
              "document     True\n",
              "label       False\n",
              "dtype: bool"
            ]
          },
          "metadata": {
            "tags": []
          },
          "execution_count": 14
        }
      ]
    },
    {
      "cell_type": "code",
      "metadata": {
        "id": "y_vdPzWclZSX"
      },
      "source": [
        "train_data = train_data.dropna(axis=0).reset_index(drop=True)\r\n",
        "test_tmp = test_tmp.dropna(axis=0).reset_index(drop=True)"
      ],
      "execution_count": 15,
      "outputs": []
    },
    {
      "cell_type": "code",
      "metadata": {
        "colab": {
          "base_uri": "https://localhost:8080/"
        },
        "id": "_1Y88Tyul4Dl",
        "outputId": "7bec794d-24d6-4692-c353-4068c377225c"
      },
      "source": [
        "print('훈련용 리뷰 개수 :',len(train_data)) # 훈련용 리뷰 개수 출력\r\n",
        "print('테스트용 리뷰 개수 :',len(test_tmp)) # 테스트용 리뷰 개수 출력"
      ],
      "execution_count": 16,
      "outputs": [
        {
          "output_type": "stream",
          "text": [
            "훈련용 리뷰 개수 : 149995\n",
            "테스트용 리뷰 개수 : 49997\n"
          ],
          "name": "stdout"
        }
      ]
    },
    {
      "cell_type": "markdown",
      "metadata": {
        "id": "DyNIuDjNLUPj"
      },
      "source": [
        "# 감정사전 추가"
      ]
    },
    {
      "cell_type": "code",
      "metadata": {
        "colab": {
          "base_uri": "https://localhost:8080/",
          "height": 419
        },
        "id": "4NSTIQqYLSzp",
        "outputId": "13cce334-b41f-48b8-aaf8-be8300559202"
      },
      "source": [
        "dic_data_value = pd.read_table('KOR_Sentiment-Analysis/data_in/SentiWord_Dict.txt', header=None)\r\n",
        "dic_data_value.rename(columns={dic_data_value.columns[0] : 'document', dic_data_value.columns[1] : 'label'}, inplace=True)\r\n",
        "dic_data_value"
      ],
      "execution_count": 17,
      "outputs": [
        {
          "output_type": "execute_result",
          "data": {
            "text/html": [
              "<div>\n",
              "<style scoped>\n",
              "    .dataframe tbody tr th:only-of-type {\n",
              "        vertical-align: middle;\n",
              "    }\n",
              "\n",
              "    .dataframe tbody tr th {\n",
              "        vertical-align: top;\n",
              "    }\n",
              "\n",
              "    .dataframe thead th {\n",
              "        text-align: right;\n",
              "    }\n",
              "</style>\n",
              "<table border=\"1\" class=\"dataframe\">\n",
              "  <thead>\n",
              "    <tr style=\"text-align: right;\">\n",
              "      <th></th>\n",
              "      <th>document</th>\n",
              "      <th>label</th>\n",
              "    </tr>\n",
              "  </thead>\n",
              "  <tbody>\n",
              "    <tr>\n",
              "      <th>0</th>\n",
              "      <td>(-;</td>\n",
              "      <td>1.0</td>\n",
              "    </tr>\n",
              "    <tr>\n",
              "      <th>1</th>\n",
              "      <td>(;_;)</td>\n",
              "      <td>-1.0</td>\n",
              "    </tr>\n",
              "    <tr>\n",
              "      <th>2</th>\n",
              "      <td>(^^)</td>\n",
              "      <td>1.0</td>\n",
              "    </tr>\n",
              "    <tr>\n",
              "      <th>3</th>\n",
              "      <td>(^-^)</td>\n",
              "      <td>1.0</td>\n",
              "    </tr>\n",
              "    <tr>\n",
              "      <th>4</th>\n",
              "      <td>(^^*</td>\n",
              "      <td>1.0</td>\n",
              "    </tr>\n",
              "    <tr>\n",
              "      <th>...</th>\n",
              "      <td>...</td>\n",
              "      <td>...</td>\n",
              "    </tr>\n",
              "    <tr>\n",
              "      <th>14850</th>\n",
              "      <td>갈등 -1</td>\n",
              "      <td>NaN</td>\n",
              "    </tr>\n",
              "    <tr>\n",
              "      <th>14851</th>\n",
              "      <td>의혹</td>\n",
              "      <td>-1.0</td>\n",
              "    </tr>\n",
              "    <tr>\n",
              "      <th>14852</th>\n",
              "      <td>내팽개치다</td>\n",
              "      <td>-2.0</td>\n",
              "    </tr>\n",
              "    <tr>\n",
              "      <th>14853</th>\n",
              "      <td>횡령</td>\n",
              "      <td>-2.0</td>\n",
              "    </tr>\n",
              "    <tr>\n",
              "      <th>14854</th>\n",
              "      <td>불안증</td>\n",
              "      <td>-2.0</td>\n",
              "    </tr>\n",
              "  </tbody>\n",
              "</table>\n",
              "<p>14855 rows × 2 columns</p>\n",
              "</div>"
            ],
            "text/plain": [
              "      document  label\n",
              "0          (-;    1.0\n",
              "1        (;_;)   -1.0\n",
              "2         (^^)    1.0\n",
              "3        (^-^)    1.0\n",
              "4         (^^*    1.0\n",
              "...        ...    ...\n",
              "14850    갈등 -1    NaN\n",
              "14851       의혹   -1.0\n",
              "14852    내팽개치다   -2.0\n",
              "14853       횡령   -2.0\n",
              "14854      불안증   -2.0\n",
              "\n",
              "[14855 rows x 2 columns]"
            ]
          },
          "metadata": {
            "tags": []
          },
          "execution_count": 17
        }
      ]
    },
    {
      "cell_type": "code",
      "metadata": {
        "colab": {
          "base_uri": "https://localhost:8080/"
        },
        "id": "7VowLTLNLlA0",
        "outputId": "b5875c07-8162-4d4d-b74a-1eb7a777236c"
      },
      "source": [
        "dic_data_value['document'] = dic_data_value['document'].str.replace(\"[^ㄱ-ㅎㅏ-ㅣ가-힣 ]\",\"\") # 정규 표현식 수행\r\n",
        "dic_data_value['document'].replace('', np.nan, inplace=True) # 공백은 Null 값으로 변경\r\n",
        "dic_data_value = dic_data_value.dropna(how='any') # Null 값 제거\r\n",
        "dic_data_value = dic_data_value.dropna(how = 'any') # Null 값이 존재하는 행 제거\r\n",
        "print(dic_data_value.isnull().values.any()) # Null 값이 존재하는지 확인\r\n",
        "#감성이 없는 단어 삭제\r\n",
        "idx_ = dic_data_value[dic_data_value['label']==0.0].index\r\n",
        "dic_data_value = dic_data_value.drop(idx_)\r\n",
        "print(dic_data_value.groupby(['label']).size().reset_index(name = 'count'))"
      ],
      "execution_count": 18,
      "outputs": [
        {
          "output_type": "stream",
          "text": [
            "False\n",
            "   label  count\n",
            "0   -2.0   4799\n",
            "1   -1.0   5016\n",
            "2    1.0   2246\n",
            "3    2.0   2603\n"
          ],
          "name": "stdout"
        }
      ]
    },
    {
      "cell_type": "code",
      "metadata": {
        "colab": {
          "base_uri": "https://localhost:8080/",
          "height": 419
        },
        "id": "alxmVMdcLmKv",
        "outputId": "bf88b7ac-bb9e-40f6-f199-4c64e20610e2"
      },
      "source": [
        "# 감정을 숫자로 변환\r\n",
        "def emotion_labeling_dic(emotion):\r\n",
        "   return{-2.0 : 0, -1.0: 0, 1.0: 1, 2.0: 1}[emotion]\r\n",
        "\r\n",
        "emotion_labels = []\r\n",
        "\r\n",
        "for e in dic_data_value['label']:\r\n",
        "   emotion_labels.append(emotion_labeling_dic(e))\r\n",
        "\r\n",
        "dic_data_value['label'] = emotion_labels\r\n",
        "dic_data_value"
      ],
      "execution_count": 19,
      "outputs": [
        {
          "output_type": "execute_result",
          "data": {
            "text/html": [
              "<div>\n",
              "<style scoped>\n",
              "    .dataframe tbody tr th:only-of-type {\n",
              "        vertical-align: middle;\n",
              "    }\n",
              "\n",
              "    .dataframe tbody tr th {\n",
              "        vertical-align: top;\n",
              "    }\n",
              "\n",
              "    .dataframe thead th {\n",
              "        text-align: right;\n",
              "    }\n",
              "</style>\n",
              "<table border=\"1\" class=\"dataframe\">\n",
              "  <thead>\n",
              "    <tr style=\"text-align: right;\">\n",
              "      <th></th>\n",
              "      <th>document</th>\n",
              "      <th>label</th>\n",
              "    </tr>\n",
              "  </thead>\n",
              "  <tbody>\n",
              "    <tr>\n",
              "      <th>10</th>\n",
              "      <td>ㅡㅡ</td>\n",
              "      <td>0</td>\n",
              "    </tr>\n",
              "    <tr>\n",
              "      <th>28</th>\n",
              "      <td>ㅅ</td>\n",
              "      <td>0</td>\n",
              "    </tr>\n",
              "    <tr>\n",
              "      <th>41</th>\n",
              "      <td>ㄱㅅ</td>\n",
              "      <td>1</td>\n",
              "    </tr>\n",
              "    <tr>\n",
              "      <th>42</th>\n",
              "      <td>ㄱㅇㄷ</td>\n",
              "      <td>1</td>\n",
              "    </tr>\n",
              "    <tr>\n",
              "      <th>43</th>\n",
              "      <td>가격이 싸다</td>\n",
              "      <td>1</td>\n",
              "    </tr>\n",
              "    <tr>\n",
              "      <th>...</th>\n",
              "      <td>...</td>\n",
              "      <td>...</td>\n",
              "    </tr>\n",
              "    <tr>\n",
              "      <th>14849</th>\n",
              "      <td>오류</td>\n",
              "      <td>0</td>\n",
              "    </tr>\n",
              "    <tr>\n",
              "      <th>14851</th>\n",
              "      <td>의혹</td>\n",
              "      <td>0</td>\n",
              "    </tr>\n",
              "    <tr>\n",
              "      <th>14852</th>\n",
              "      <td>내팽개치다</td>\n",
              "      <td>0</td>\n",
              "    </tr>\n",
              "    <tr>\n",
              "      <th>14853</th>\n",
              "      <td>횡령</td>\n",
              "      <td>0</td>\n",
              "    </tr>\n",
              "    <tr>\n",
              "      <th>14854</th>\n",
              "      <td>불안증</td>\n",
              "      <td>0</td>\n",
              "    </tr>\n",
              "  </tbody>\n",
              "</table>\n",
              "<p>14664 rows × 2 columns</p>\n",
              "</div>"
            ],
            "text/plain": [
              "      document  label\n",
              "10          ㅡㅡ      0\n",
              "28           ㅅ      0\n",
              "41          ㄱㅅ      1\n",
              "42         ㄱㅇㄷ      1\n",
              "43      가격이 싸다      1\n",
              "...        ...    ...\n",
              "14849       오류      0\n",
              "14851       의혹      0\n",
              "14852    내팽개치다      0\n",
              "14853       횡령      0\n",
              "14854      불안증      0\n",
              "\n",
              "[14664 rows x 2 columns]"
            ]
          },
          "metadata": {
            "tags": []
          },
          "execution_count": 19
        }
      ]
    },
    {
      "cell_type": "code",
      "metadata": {
        "colab": {
          "base_uri": "https://localhost:8080/",
          "height": 419
        },
        "id": "Nk7LPPybLq8J",
        "outputId": "c9a2942c-e41b-4c01-f379-368f678d9f8b"
      },
      "source": [
        "dic_data_value.reset_index(drop=True)"
      ],
      "execution_count": 20,
      "outputs": [
        {
          "output_type": "execute_result",
          "data": {
            "text/html": [
              "<div>\n",
              "<style scoped>\n",
              "    .dataframe tbody tr th:only-of-type {\n",
              "        vertical-align: middle;\n",
              "    }\n",
              "\n",
              "    .dataframe tbody tr th {\n",
              "        vertical-align: top;\n",
              "    }\n",
              "\n",
              "    .dataframe thead th {\n",
              "        text-align: right;\n",
              "    }\n",
              "</style>\n",
              "<table border=\"1\" class=\"dataframe\">\n",
              "  <thead>\n",
              "    <tr style=\"text-align: right;\">\n",
              "      <th></th>\n",
              "      <th>document</th>\n",
              "      <th>label</th>\n",
              "    </tr>\n",
              "  </thead>\n",
              "  <tbody>\n",
              "    <tr>\n",
              "      <th>0</th>\n",
              "      <td>ㅡㅡ</td>\n",
              "      <td>0</td>\n",
              "    </tr>\n",
              "    <tr>\n",
              "      <th>1</th>\n",
              "      <td>ㅅ</td>\n",
              "      <td>0</td>\n",
              "    </tr>\n",
              "    <tr>\n",
              "      <th>2</th>\n",
              "      <td>ㄱㅅ</td>\n",
              "      <td>1</td>\n",
              "    </tr>\n",
              "    <tr>\n",
              "      <th>3</th>\n",
              "      <td>ㄱㅇㄷ</td>\n",
              "      <td>1</td>\n",
              "    </tr>\n",
              "    <tr>\n",
              "      <th>4</th>\n",
              "      <td>가격이 싸다</td>\n",
              "      <td>1</td>\n",
              "    </tr>\n",
              "    <tr>\n",
              "      <th>...</th>\n",
              "      <td>...</td>\n",
              "      <td>...</td>\n",
              "    </tr>\n",
              "    <tr>\n",
              "      <th>14659</th>\n",
              "      <td>오류</td>\n",
              "      <td>0</td>\n",
              "    </tr>\n",
              "    <tr>\n",
              "      <th>14660</th>\n",
              "      <td>의혹</td>\n",
              "      <td>0</td>\n",
              "    </tr>\n",
              "    <tr>\n",
              "      <th>14661</th>\n",
              "      <td>내팽개치다</td>\n",
              "      <td>0</td>\n",
              "    </tr>\n",
              "    <tr>\n",
              "      <th>14662</th>\n",
              "      <td>횡령</td>\n",
              "      <td>0</td>\n",
              "    </tr>\n",
              "    <tr>\n",
              "      <th>14663</th>\n",
              "      <td>불안증</td>\n",
              "      <td>0</td>\n",
              "    </tr>\n",
              "  </tbody>\n",
              "</table>\n",
              "<p>14664 rows × 2 columns</p>\n",
              "</div>"
            ],
            "text/plain": [
              "      document  label\n",
              "0           ㅡㅡ      0\n",
              "1            ㅅ      0\n",
              "2           ㄱㅅ      1\n",
              "3          ㄱㅇㄷ      1\n",
              "4       가격이 싸다      1\n",
              "...        ...    ...\n",
              "14659       오류      0\n",
              "14660       의혹      0\n",
              "14661    내팽개치다      0\n",
              "14662       횡령      0\n",
              "14663      불안증      0\n",
              "\n",
              "[14664 rows x 2 columns]"
            ]
          },
          "metadata": {
            "tags": []
          },
          "execution_count": 20
        }
      ]
    },
    {
      "cell_type": "code",
      "metadata": {
        "colab": {
          "base_uri": "https://localhost:8080/"
        },
        "id": "J4b7BzmiLtxb",
        "outputId": "71ce07e9-fbae-408f-e360-055c95e30521"
      },
      "source": [
        "print('전처리 후 사전 샘플의 개수 :',len(dic_data_value))"
      ],
      "execution_count": 21,
      "outputs": [
        {
          "output_type": "stream",
          "text": [
            "전처리 후 사전 샘플의 개수 : 14664\n"
          ],
          "name": "stdout"
        }
      ]
    },
    {
      "cell_type": "markdown",
      "metadata": {
        "id": "cJAZ3bFWLv0f"
      },
      "source": [
        "# 학습데이터 합치기"
      ]
    },
    {
      "cell_type": "code",
      "metadata": {
        "id": "Ex2kyLQWLuy1"
      },
      "source": [
        "#합치기 위해 포멧 통일\r\n",
        "train_data.drop(labels='id', axis=\"columns\", inplace=True)"
      ],
      "execution_count": 22,
      "outputs": []
    },
    {
      "cell_type": "code",
      "metadata": {
        "colab": {
          "base_uri": "https://localhost:8080/",
          "height": 419
        },
        "id": "-Kby9v3oLzlv",
        "outputId": "4bc2e0b5-b084-44dd-f3e1-ad8bb800ffcb"
      },
      "source": [
        "train = pd.concat([dic_data_value, train_data])\r\n",
        "#인덱스 재정렬\r\n",
        "train.reset_index(drop=True, inplace=True)\r\n",
        "train"
      ],
      "execution_count": 23,
      "outputs": [
        {
          "output_type": "execute_result",
          "data": {
            "text/html": [
              "<div>\n",
              "<style scoped>\n",
              "    .dataframe tbody tr th:only-of-type {\n",
              "        vertical-align: middle;\n",
              "    }\n",
              "\n",
              "    .dataframe tbody tr th {\n",
              "        vertical-align: top;\n",
              "    }\n",
              "\n",
              "    .dataframe thead th {\n",
              "        text-align: right;\n",
              "    }\n",
              "</style>\n",
              "<table border=\"1\" class=\"dataframe\">\n",
              "  <thead>\n",
              "    <tr style=\"text-align: right;\">\n",
              "      <th></th>\n",
              "      <th>document</th>\n",
              "      <th>label</th>\n",
              "    </tr>\n",
              "  </thead>\n",
              "  <tbody>\n",
              "    <tr>\n",
              "      <th>0</th>\n",
              "      <td>ㅡㅡ</td>\n",
              "      <td>0</td>\n",
              "    </tr>\n",
              "    <tr>\n",
              "      <th>1</th>\n",
              "      <td>ㅅ</td>\n",
              "      <td>0</td>\n",
              "    </tr>\n",
              "    <tr>\n",
              "      <th>2</th>\n",
              "      <td>ㄱㅅ</td>\n",
              "      <td>1</td>\n",
              "    </tr>\n",
              "    <tr>\n",
              "      <th>3</th>\n",
              "      <td>ㄱㅇㄷ</td>\n",
              "      <td>1</td>\n",
              "    </tr>\n",
              "    <tr>\n",
              "      <th>4</th>\n",
              "      <td>가격이 싸다</td>\n",
              "      <td>1</td>\n",
              "    </tr>\n",
              "    <tr>\n",
              "      <th>...</th>\n",
              "      <td>...</td>\n",
              "      <td>...</td>\n",
              "    </tr>\n",
              "    <tr>\n",
              "      <th>164654</th>\n",
              "      <td>인간이 문제지.. 소는 뭔죄인가..</td>\n",
              "      <td>0</td>\n",
              "    </tr>\n",
              "    <tr>\n",
              "      <th>164655</th>\n",
              "      <td>평점이 너무 낮아서...</td>\n",
              "      <td>1</td>\n",
              "    </tr>\n",
              "    <tr>\n",
              "      <th>164656</th>\n",
              "      <td>이게 뭐요? 한국인은 거들먹거리고 필리핀 혼혈은 착하다?</td>\n",
              "      <td>0</td>\n",
              "    </tr>\n",
              "    <tr>\n",
              "      <th>164657</th>\n",
              "      <td>청춘 영화의 최고봉.방황과 우울했던 날들의 자화상</td>\n",
              "      <td>1</td>\n",
              "    </tr>\n",
              "    <tr>\n",
              "      <th>164658</th>\n",
              "      <td>한국 영화 최초로 수간하는 내용이 담긴 영화</td>\n",
              "      <td>0</td>\n",
              "    </tr>\n",
              "  </tbody>\n",
              "</table>\n",
              "<p>164659 rows × 2 columns</p>\n",
              "</div>"
            ],
            "text/plain": [
              "                               document  label\n",
              "0                                    ㅡㅡ      0\n",
              "1                                     ㅅ      0\n",
              "2                                    ㄱㅅ      1\n",
              "3                                   ㄱㅇㄷ      1\n",
              "4                                가격이 싸다      1\n",
              "...                                 ...    ...\n",
              "164654              인간이 문제지.. 소는 뭔죄인가..      0\n",
              "164655                    평점이 너무 낮아서...      1\n",
              "164656  이게 뭐요? 한국인은 거들먹거리고 필리핀 혼혈은 착하다?      0\n",
              "164657      청춘 영화의 최고봉.방황과 우울했던 날들의 자화상      1\n",
              "164658         한국 영화 최초로 수간하는 내용이 담긴 영화      0\n",
              "\n",
              "[164659 rows x 2 columns]"
            ]
          },
          "metadata": {
            "tags": []
          },
          "execution_count": 23
        }
      ]
    },
    {
      "cell_type": "markdown",
      "metadata": {
        "id": "JERxFbya8Wx0"
      },
      "source": [
        "# 토큰화"
      ]
    },
    {
      "cell_type": "code",
      "metadata": {
        "id": "D5R6rhkwYo6L"
      },
      "source": [
        "train_data = train[['document', 'label']]\r\n",
        "test_tmp = test_tmp[['document', 'label']]"
      ],
      "execution_count": 26,
      "outputs": []
    },
    {
      "cell_type": "code",
      "metadata": {
        "colab": {
          "base_uri": "https://localhost:8080/"
        },
        "id": "eOjjj0AJYrbC",
        "outputId": "1ac7e4ec-7bab-4416-afca-a59092a84160"
      },
      "source": [
        "print('Train data shape: ', train_data.shape)\r\n",
        "n_lebel = len(train_data[train_data.label == 0])\r\n",
        "print('Label 0 in Train data: {} ({:.1f}%)'.format(n_lebel, n_lebel*100/len(train_data)))\r\n",
        "n_lebel = len(train_data[train_data.label == 1])\r\n",
        "print('Label 1 in Train data: {} ({:.1f}%)'.format(n_lebel, n_lebel*100/len(train_data)))\r\n",
        "\r\n",
        "print('\\nTest data shape: ', test_tmp.shape)\r\n",
        "n_lebel = len(test_tmp[test_tmp.label == 0])\r\n",
        "print('Label 0 in Test data: {} ({:.1f}%)'.format(n_lebel, n_lebel*100/len(test_tmp)))\r\n",
        "n_lebel = len(test_tmp[test_tmp.label == 1])\r\n",
        "print('Label 1 in Test data: {} ({:.1f}%)'.format(n_lebel, n_lebel*100/len(test_tmp)))"
      ],
      "execution_count": 27,
      "outputs": [
        {
          "output_type": "stream",
          "text": [
            "Train data shape:  (164659, 2)\n",
            "Label 0 in Train data: 84985 (51.6%)\n",
            "Label 1 in Train data: 79674 (48.4%)\n",
            "\n",
            "Test data shape:  (49997, 2)\n",
            "Label 0 in Test data: 24826 (49.7%)\n",
            "Label 1 in Test data: 25171 (50.3%)\n"
          ],
          "name": "stdout"
        }
      ]
    },
    {
      "cell_type": "code",
      "metadata": {
        "id": "6hwkRor7Xyqo"
      },
      "source": [
        "komoran = Komoran(\"STABLE\")\r\n",
        "stop_pos_tags =  ['IC', 'JKS', 'JKC', 'JKG', 'JKO', 'JKB', 'JKV', 'JKQ', 'JX', \r\n",
        "                   'EF', 'ETN', 'ETM', 'XSA', 'SF', 'SP', 'SS', 'SE', 'SO', 'SL', 'SH', \r\n",
        "                   'SW', 'NF', 'NV', 'SN', 'NA']"
      ],
      "execution_count": 28,
      "outputs": []
    },
    {
      "cell_type": "code",
      "metadata": {
        "id": "exzvN4FHXys_"
      },
      "source": [
        "def tokenize(corpus, stop_pos_tags):\r\n",
        "    result = []\r\n",
        "    pairs = komoran.get_list(corpus)\r\n",
        "    for pair in pairs:\r\n",
        "        morph = pair.get_first()\r\n",
        "        pos = pair.get_second()\r\n",
        "        if pos not in stop_pos_tags:\r\n",
        "            if pos in ['VV', 'VA', 'VX', 'VCP', 'VCN']:\r\n",
        "                morph = morph + '다'\r\n",
        "            result.append(morph)\r\n",
        "    return result"
      ],
      "execution_count": 29,
      "outputs": []
    },
    {
      "cell_type": "code",
      "metadata": {
        "id": "AjiQwa8xX709"
      },
      "source": [
        "tokens_list = []\r\n",
        "\r\n",
        "for i in range(len(train_data['document'])):\r\n",
        "    tokens_list.append(tokenize(train_data['document'][i], stop_pos_tags))"
      ],
      "execution_count": 30,
      "outputs": []
    },
    {
      "cell_type": "code",
      "metadata": {
        "colab": {
          "base_uri": "https://localhost:8080/",
          "height": 204
        },
        "id": "NVzul8ScX73P",
        "outputId": "56638932-2b72-4644-d145-1221f03c5fbc"
      },
      "source": [
        "train_data['tokens'] = tokens_list\r\n",
        "train_data.head()"
      ],
      "execution_count": 31,
      "outputs": [
        {
          "output_type": "execute_result",
          "data": {
            "text/html": [
              "<div>\n",
              "<style scoped>\n",
              "    .dataframe tbody tr th:only-of-type {\n",
              "        vertical-align: middle;\n",
              "    }\n",
              "\n",
              "    .dataframe tbody tr th {\n",
              "        vertical-align: top;\n",
              "    }\n",
              "\n",
              "    .dataframe thead th {\n",
              "        text-align: right;\n",
              "    }\n",
              "</style>\n",
              "<table border=\"1\" class=\"dataframe\">\n",
              "  <thead>\n",
              "    <tr style=\"text-align: right;\">\n",
              "      <th></th>\n",
              "      <th>document</th>\n",
              "      <th>label</th>\n",
              "      <th>tokens</th>\n",
              "    </tr>\n",
              "  </thead>\n",
              "  <tbody>\n",
              "    <tr>\n",
              "      <th>0</th>\n",
              "      <td>ㅡㅡ</td>\n",
              "      <td>0</td>\n",
              "      <td>[]</td>\n",
              "    </tr>\n",
              "    <tr>\n",
              "      <th>1</th>\n",
              "      <td>ㅅ</td>\n",
              "      <td>0</td>\n",
              "      <td>[]</td>\n",
              "    </tr>\n",
              "    <tr>\n",
              "      <th>2</th>\n",
              "      <td>ㄱㅅ</td>\n",
              "      <td>1</td>\n",
              "      <td>[]</td>\n",
              "    </tr>\n",
              "    <tr>\n",
              "      <th>3</th>\n",
              "      <td>ㄱㅇㄷ</td>\n",
              "      <td>1</td>\n",
              "      <td>[]</td>\n",
              "    </tr>\n",
              "    <tr>\n",
              "      <th>4</th>\n",
              "      <td>가격이 싸다</td>\n",
              "      <td>1</td>\n",
              "      <td>[가격, 싸다, 다]</td>\n",
              "    </tr>\n",
              "  </tbody>\n",
              "</table>\n",
              "</div>"
            ],
            "text/plain": [
              "  document  label       tokens\n",
              "0       ㅡㅡ      0           []\n",
              "1        ㅅ      0           []\n",
              "2       ㄱㅅ      1           []\n",
              "3      ㄱㅇㄷ      1           []\n",
              "4   가격이 싸다      1  [가격, 싸다, 다]"
            ]
          },
          "metadata": {
            "tags": []
          },
          "execution_count": 31
        }
      ]
    },
    {
      "cell_type": "code",
      "metadata": {
        "id": "ZhuL09BWhRYq"
      },
      "source": [
        "train_data = train_data[train_data['tokens'].str.len() > 2]"
      ],
      "execution_count": 32,
      "outputs": []
    },
    {
      "cell_type": "code",
      "metadata": {
        "colab": {
          "base_uri": "https://localhost:8080/",
          "height": 255
        },
        "id": "WbH5-uLoX75b",
        "outputId": "fe271bab-d5c1-4ea5-d5cf-7d535211442a"
      },
      "source": [
        "tokens_list = []\r\n",
        "\r\n",
        "for i in range(len(test_tmp['document'])):\r\n",
        "    tokens_list.append(tokenize(test_tmp['document'][i], stop_pos_tags))\r\n",
        "test_tmp['tokens'] = tokens_list\r\n",
        "\r\n",
        "test_tmp.head()"
      ],
      "execution_count": 33,
      "outputs": [
        {
          "output_type": "execute_result",
          "data": {
            "text/html": [
              "<div>\n",
              "<style scoped>\n",
              "    .dataframe tbody tr th:only-of-type {\n",
              "        vertical-align: middle;\n",
              "    }\n",
              "\n",
              "    .dataframe tbody tr th {\n",
              "        vertical-align: top;\n",
              "    }\n",
              "\n",
              "    .dataframe thead th {\n",
              "        text-align: right;\n",
              "    }\n",
              "</style>\n",
              "<table border=\"1\" class=\"dataframe\">\n",
              "  <thead>\n",
              "    <tr style=\"text-align: right;\">\n",
              "      <th></th>\n",
              "      <th>document</th>\n",
              "      <th>label</th>\n",
              "      <th>tokens</th>\n",
              "    </tr>\n",
              "  </thead>\n",
              "  <tbody>\n",
              "    <tr>\n",
              "      <th>0</th>\n",
              "      <td>굳 ㅋ</td>\n",
              "      <td>1</td>\n",
              "      <td>[굳다]</td>\n",
              "    </tr>\n",
              "    <tr>\n",
              "      <th>1</th>\n",
              "      <td>GDNTOPCLASSINTHECLUB</td>\n",
              "      <td>0</td>\n",
              "      <td>[]</td>\n",
              "    </tr>\n",
              "    <tr>\n",
              "      <th>2</th>\n",
              "      <td>뭐야 이 평점들은.... 나쁘진 않지만 10점 짜리는 더더욱 아니잖아</td>\n",
              "      <td>0</td>\n",
              "      <td>[뭐, 이, 평점, 들, 나쁘다, 지, 않다, 지만, 점, 짜리, 더더욱, 아니다,...</td>\n",
              "    </tr>\n",
              "    <tr>\n",
              "      <th>3</th>\n",
              "      <td>지루하지는 않은데 완전 막장임... 돈주고 보기에는....</td>\n",
              "      <td>0</td>\n",
              "      <td>[지루, 지, 않다, 은데, 완전, 막장, 이다, 돈, 주다, 고, 보다]</td>\n",
              "    </tr>\n",
              "    <tr>\n",
              "      <th>4</th>\n",
              "      <td>3D만 아니었어도 별 다섯 개 줬을텐데.. 왜 3D로 나와서 제 심기를 불편하게 하죠??</td>\n",
              "      <td>0</td>\n",
              "      <td>[아니다, 었, 어도, 별, 다섯, 개, 주다, 었, 텐, 데, 왜, 나오다, 아서...</td>\n",
              "    </tr>\n",
              "  </tbody>\n",
              "</table>\n",
              "</div>"
            ],
            "text/plain": [
              "                                            document  ...                                             tokens\n",
              "0                                                굳 ㅋ  ...                                               [굳다]\n",
              "1                               GDNTOPCLASSINTHECLUB  ...                                                 []\n",
              "2             뭐야 이 평점들은.... 나쁘진 않지만 10점 짜리는 더더욱 아니잖아  ...  [뭐, 이, 평점, 들, 나쁘다, 지, 않다, 지만, 점, 짜리, 더더욱, 아니다,...\n",
              "3                   지루하지는 않은데 완전 막장임... 돈주고 보기에는....  ...          [지루, 지, 않다, 은데, 완전, 막장, 이다, 돈, 주다, 고, 보다]\n",
              "4  3D만 아니었어도 별 다섯 개 줬을텐데.. 왜 3D로 나와서 제 심기를 불편하게 하죠??  ...  [아니다, 었, 어도, 별, 다섯, 개, 주다, 었, 텐, 데, 왜, 나오다, 아서...\n",
              "\n",
              "[5 rows x 3 columns]"
            ]
          },
          "metadata": {
            "tags": []
          },
          "execution_count": 33
        }
      ]
    },
    {
      "cell_type": "code",
      "metadata": {
        "id": "FyPKLRDQX77V"
      },
      "source": [
        "test_tmp = test_tmp[test_tmp['tokens'].str.len() > 2]"
      ],
      "execution_count": 34,
      "outputs": []
    },
    {
      "cell_type": "code",
      "metadata": {
        "id": "Vy2G4FnFX79k"
      },
      "source": [
        "max_words = 20000\r\n",
        "tokenizer = Tokenizer(num_words=max_words, oov_token = True)\r\n",
        "tokenizer.fit_on_texts(train_data.tokens)\r\n",
        "train_data.tokens = tokenizer.texts_to_sequences(train_data.tokens)\r\n",
        "test_tmp.tokens = tokenizer.texts_to_sequences(test_tmp.tokens)"
      ],
      "execution_count": 35,
      "outputs": []
    },
    {
      "cell_type": "code",
      "metadata": {
        "colab": {
          "base_uri": "https://localhost:8080/",
          "height": 204
        },
        "id": "ciYSIEVyt5RD",
        "outputId": "0dfd2ba9-768b-46be-e716-16c7a233d194"
      },
      "source": [
        "train_data.head()"
      ],
      "execution_count": 36,
      "outputs": [
        {
          "output_type": "execute_result",
          "data": {
            "text/html": [
              "<div>\n",
              "<style scoped>\n",
              "    .dataframe tbody tr th:only-of-type {\n",
              "        vertical-align: middle;\n",
              "    }\n",
              "\n",
              "    .dataframe tbody tr th {\n",
              "        vertical-align: top;\n",
              "    }\n",
              "\n",
              "    .dataframe thead th {\n",
              "        text-align: right;\n",
              "    }\n",
              "</style>\n",
              "<table border=\"1\" class=\"dataframe\">\n",
              "  <thead>\n",
              "    <tr style=\"text-align: right;\">\n",
              "      <th></th>\n",
              "      <th>document</th>\n",
              "      <th>label</th>\n",
              "      <th>tokens</th>\n",
              "    </tr>\n",
              "  </thead>\n",
              "  <tbody>\n",
              "    <tr>\n",
              "      <th>4</th>\n",
              "      <td>가격이 싸다</td>\n",
              "      <td>1</td>\n",
              "      <td>[6341, 680, 9]</td>\n",
              "    </tr>\n",
              "    <tr>\n",
              "      <th>5</th>\n",
              "      <td>가까이 사귀어</td>\n",
              "      <td>1</td>\n",
              "      <td>[2563, 3824, 11]</td>\n",
              "    </tr>\n",
              "    <tr>\n",
              "      <th>6</th>\n",
              "      <td>가까이하다</td>\n",
              "      <td>1</td>\n",
              "      <td>[2563, 5, 9]</td>\n",
              "    </tr>\n",
              "    <tr>\n",
              "      <th>7</th>\n",
              "      <td>가꾸러뜨리다</td>\n",
              "      <td>0</td>\n",
              "      <td>[14212, 298, 541, 6342]</td>\n",
              "    </tr>\n",
              "    <tr>\n",
              "      <th>8</th>\n",
              "      <td>가꾸러트리다</td>\n",
              "      <td>0</td>\n",
              "      <td>[14212, 298, 382, 6342]</td>\n",
              "    </tr>\n",
              "  </tbody>\n",
              "</table>\n",
              "</div>"
            ],
            "text/plain": [
              "  document  label                   tokens\n",
              "4   가격이 싸다      1           [6341, 680, 9]\n",
              "5  가까이 사귀어      1         [2563, 3824, 11]\n",
              "6    가까이하다      1             [2563, 5, 9]\n",
              "7   가꾸러뜨리다      0  [14212, 298, 541, 6342]\n",
              "8   가꾸러트리다      0  [14212, 298, 382, 6342]"
            ]
          },
          "metadata": {
            "tags": []
          },
          "execution_count": 36
        }
      ]
    },
    {
      "cell_type": "code",
      "metadata": {
        "colab": {
          "base_uri": "https://localhost:8080/",
          "height": 272
        },
        "id": "C51-_MRfX7_X",
        "outputId": "46b5346d-4659-48ad-9f9c-842275a7aa59"
      },
      "source": [
        "test_tmp.head()"
      ],
      "execution_count": 37,
      "outputs": [
        {
          "output_type": "execute_result",
          "data": {
            "text/html": [
              "<div>\n",
              "<style scoped>\n",
              "    .dataframe tbody tr th:only-of-type {\n",
              "        vertical-align: middle;\n",
              "    }\n",
              "\n",
              "    .dataframe tbody tr th {\n",
              "        vertical-align: top;\n",
              "    }\n",
              "\n",
              "    .dataframe thead th {\n",
              "        text-align: right;\n",
              "    }\n",
              "</style>\n",
              "<table border=\"1\" class=\"dataframe\">\n",
              "  <thead>\n",
              "    <tr style=\"text-align: right;\">\n",
              "      <th></th>\n",
              "      <th>document</th>\n",
              "      <th>label</th>\n",
              "      <th>tokens</th>\n",
              "    </tr>\n",
              "  </thead>\n",
              "  <tbody>\n",
              "    <tr>\n",
              "      <th>2</th>\n",
              "      <td>뭐야 이 평점들은.... 나쁘진 않지만 10점 짜리는 더더욱 아니잖아</td>\n",
              "      <td>0</td>\n",
              "      <td>[54, 18, 48, 13, 450, 15, 32, 37, 26, 610, 318...</td>\n",
              "    </tr>\n",
              "    <tr>\n",
              "      <th>3</th>\n",
              "      <td>지루하지는 않은데 완전 막장임... 돈주고 보기에는....</td>\n",
              "      <td>0</td>\n",
              "      <td>[77, 15, 32, 239, 128, 344, 3, 140, 22, 6, 4]</td>\n",
              "    </tr>\n",
              "    <tr>\n",
              "      <th>4</th>\n",
              "      <td>3D만 아니었어도 별 다섯 개 줬을텐데.. 왜 3D로 나와서 제 심기를 불편하게 하죠??</td>\n",
              "      <td>0</td>\n",
              "      <td>[41, 10, 244, 194, 1971, 109, 22, 10, 673, 188...</td>\n",
              "    </tr>\n",
              "    <tr>\n",
              "      <th>5</th>\n",
              "      <td>음악이 주가 된, 최고의 음악영화</td>\n",
              "      <td>1</td>\n",
              "      <td>[217, 3535, 45, 49, 217, 2]</td>\n",
              "    </tr>\n",
              "    <tr>\n",
              "      <th>7</th>\n",
              "      <td>마치 미국애니에서 튀어나온듯한 창의력없는 로봇디자인부터가,고개를 젖게한다</td>\n",
              "      <td>0</td>\n",
              "      <td>[1067, 398, 374, 4417, 284, 12, 6554, 17, 1393...</td>\n",
              "    </tr>\n",
              "  </tbody>\n",
              "</table>\n",
              "</div>"
            ],
            "text/plain": [
              "                                            document  ...                                             tokens\n",
              "2             뭐야 이 평점들은.... 나쁘진 않지만 10점 짜리는 더더욱 아니잖아  ...  [54, 18, 48, 13, 450, 15, 32, 37, 26, 610, 318...\n",
              "3                   지루하지는 않은데 완전 막장임... 돈주고 보기에는....  ...      [77, 15, 32, 239, 128, 344, 3, 140, 22, 6, 4]\n",
              "4  3D만 아니었어도 별 다섯 개 줬을텐데.. 왜 3D로 나와서 제 심기를 불편하게 하죠??  ...  [41, 10, 244, 194, 1971, 109, 22, 10, 673, 188...\n",
              "5                                 음악이 주가 된, 최고의 음악영화  ...                        [217, 3535, 45, 49, 217, 2]\n",
              "7           마치 미국애니에서 튀어나온듯한 창의력없는 로봇디자인부터가,고개를 젖게한다  ...  [1067, 398, 374, 4417, 284, 12, 6554, 17, 1393...\n",
              "\n",
              "[5 rows x 3 columns]"
            ]
          },
          "metadata": {
            "tags": []
          },
          "execution_count": 37
        }
      ]
    },
    {
      "cell_type": "code",
      "metadata": {
        "colab": {
          "base_uri": "https://localhost:8080/"
        },
        "id": "BM6TSbn0Xyvf",
        "outputId": "1a2e4e24-625f-4ebb-f7bd-8596b7e3b72a"
      },
      "source": [
        "X_train = train_data.tokens\r\n",
        "Y_train = train_data.label\r\n",
        "\r\n",
        "X_test = test_tmp.tokens\r\n",
        "Y_test = test_tmp.label\r\n",
        "\r\n",
        "print('X_train shape: ', X_train.shape)\r\n",
        "print('Y_train shape: ', Y_train.shape)\r\n",
        "print('\\nX_test shape: ', X_test.shape)\r\n",
        "print('Y_test shape: ', Y_test.shape)"
      ],
      "execution_count": 38,
      "outputs": [
        {
          "output_type": "stream",
          "text": [
            "X_train shape:  (144448,)\n",
            "Y_train shape:  (144448,)\n",
            "\n",
            "X_test shape:  (45780,)\n",
            "Y_test shape:  (45780,)\n"
          ],
          "name": "stdout"
        }
      ]
    },
    {
      "cell_type": "code",
      "metadata": {
        "colab": {
          "base_uri": "https://localhost:8080/"
        },
        "id": "-9lq-JZ0q_Hg",
        "outputId": "8c5bbe3e-602f-4cc0-8f70-ed966c3894d5"
      },
      "source": [
        "max_len=30\r\n",
        "X_train = pad_sequences(X_train, maxlen=max_len)\r\n",
        "X_test = pad_sequences(X_test, maxlen=max_len)\r\n",
        "\r\n",
        "print('X_train shape: ', X_train.shape)\r\n",
        "print('X_test shape: ', X_test.shape)"
      ],
      "execution_count": 39,
      "outputs": [
        {
          "output_type": "stream",
          "text": [
            "X_train shape:  (144448, 30)\n",
            "X_test shape:  (45780, 30)\n"
          ],
          "name": "stdout"
        }
      ]
    },
    {
      "cell_type": "code",
      "metadata": {
        "colab": {
          "base_uri": "https://localhost:8080/"
        },
        "id": "o_5geou6q_Jx",
        "outputId": "ec2c8728-bc2e-4666-e6cb-99c39026a796"
      },
      "source": [
        "encoder = LabelEncoder()\r\n",
        "\r\n",
        "# Train\r\n",
        "batch_size = Y_train.shape[0]\r\n",
        "input_dim = 1\r\n",
        "Y_train = encoder.fit_transform(Y_train) # Labeling\r\n",
        "Y_train = np.reshape(Y_train, (batch_size, input_dim)) # Reshape\r\n",
        "\r\n",
        "# Test\r\n",
        "batch_size = Y_test.shape[0]\r\n",
        "Y_test = encoder.transform(Y_test) # Labeling\r\n",
        "Y_test = np.reshape(Y_test, (batch_size, input_dim)) # Reshape\r\n",
        "\r\n",
        "print(Y_train.shape)\r\n",
        "print(Y_test.shape)"
      ],
      "execution_count": 40,
      "outputs": [
        {
          "output_type": "stream",
          "text": [
            "(144448, 1)\n",
            "(45780, 1)\n"
          ],
          "name": "stdout"
        }
      ]
    },
    {
      "cell_type": "code",
      "metadata": {
        "id": "UL0rDLyrTVaH"
      },
      "source": [
        "vocab_size = 20000"
      ],
      "execution_count": 41,
      "outputs": []
    },
    {
      "cell_type": "markdown",
      "metadata": {
        "id": "7ExlA_lHrOyY"
      },
      "source": [
        "# 모델링"
      ]
    },
    {
      "cell_type": "code",
      "metadata": {
        "id": "xb_EruY0q_Om"
      },
      "source": [
        "model = Sequential()\r\n",
        "model.add(Embedding(vocab_size, 100))\r\n",
        "model.add(Bidirectional(LSTM(100)))\r\n",
        "model.add(Dense(1, activation='sigmoid'))"
      ],
      "execution_count": 42,
      "outputs": []
    },
    {
      "cell_type": "code",
      "metadata": {
        "id": "SgPgp2MrTbRC"
      },
      "source": [
        "es = EarlyStopping(monitor='val_loss', mode='min', verbose=1, patience=4)\r\n",
        "mc = ModelCheckpoint('best_model_bi_LSTM.h5', monitor='val_acc', mode='max', verbose=1, save_best_only=True)"
      ],
      "execution_count": 43,
      "outputs": []
    },
    {
      "cell_type": "code",
      "metadata": {
        "id": "V-RQCn6ATbTD",
        "colab": {
          "base_uri": "https://localhost:8080/"
        },
        "outputId": "494c9cbf-3c17-4681-eded-de6213e51277"
      },
      "source": [
        "# GPU 디바이스 이름 구함\r\n",
        "device_name = tf.test.gpu_device_name()\r\n",
        "\r\n",
        "# GPU 디바이스 이름 검사\r\n",
        "if device_name == '/device:GPU:0':\r\n",
        "    print('Found GPU at: {}'.format(device_name))\r\n",
        "else:\r\n",
        "    raise SystemError('GPU device not found')"
      ],
      "execution_count": 44,
      "outputs": [
        {
          "output_type": "stream",
          "text": [
            "Found GPU at: /device:GPU:0\n"
          ],
          "name": "stdout"
        }
      ]
    },
    {
      "cell_type": "code",
      "metadata": {
        "id": "2hteBH7tTcm-",
        "colab": {
          "base_uri": "https://localhost:8080/"
        },
        "outputId": "d449cdbc-03e4-4fd9-d7c5-bcdcc01e2cd3"
      },
      "source": [
        "model.compile(optimizer='rmsprop', loss='binary_crossentropy', metrics=['acc'])\r\n",
        "history = model.fit(X_train, Y_train, epochs=15, callbacks=[es, mc], batch_size=256, validation_split=0.2)"
      ],
      "execution_count": 45,
      "outputs": [
        {
          "output_type": "stream",
          "text": [
            "Epoch 1/15\n",
            "452/452 [==============================] - 14s 17ms/step - loss: 0.4784 - acc: 0.7624 - val_loss: 0.3892 - val_acc: 0.8268\n",
            "\n",
            "Epoch 00001: val_acc improved from -inf to 0.82679, saving model to best_model_bi_LSTM.h5\n",
            "Epoch 2/15\n",
            "452/452 [==============================] - 7s 16ms/step - loss: 0.3524 - acc: 0.8487 - val_loss: 0.3639 - val_acc: 0.8406\n",
            "\n",
            "Epoch 00002: val_acc improved from 0.82679 to 0.84057, saving model to best_model_bi_LSTM.h5\n",
            "Epoch 3/15\n",
            "452/452 [==============================] - 7s 16ms/step - loss: 0.3228 - acc: 0.8625 - val_loss: 0.3608 - val_acc: 0.8427\n",
            "\n",
            "Epoch 00003: val_acc improved from 0.84057 to 0.84268, saving model to best_model_bi_LSTM.h5\n",
            "Epoch 4/15\n",
            "452/452 [==============================] - 7s 16ms/step - loss: 0.2974 - acc: 0.8753 - val_loss: 0.3441 - val_acc: 0.8502\n",
            "\n",
            "Epoch 00004: val_acc improved from 0.84268 to 0.85022, saving model to best_model_bi_LSTM.h5\n",
            "Epoch 5/15\n",
            "452/452 [==============================] - 7s 15ms/step - loss: 0.2734 - acc: 0.8869 - val_loss: 0.3480 - val_acc: 0.8455\n",
            "\n",
            "Epoch 00005: val_acc did not improve from 0.85022\n",
            "Epoch 6/15\n",
            "452/452 [==============================] - 7s 14ms/step - loss: 0.2586 - acc: 0.8948 - val_loss: 0.3635 - val_acc: 0.8419\n",
            "\n",
            "Epoch 00006: val_acc did not improve from 0.85022\n",
            "Epoch 7/15\n",
            "452/452 [==============================] - 7s 15ms/step - loss: 0.2398 - acc: 0.9040 - val_loss: 0.3903 - val_acc: 0.8359\n",
            "\n",
            "Epoch 00007: val_acc did not improve from 0.85022\n",
            "Epoch 8/15\n",
            "452/452 [==============================] - 7s 15ms/step - loss: 0.2237 - acc: 0.9118 - val_loss: 0.3712 - val_acc: 0.8444\n",
            "\n",
            "Epoch 00008: val_acc did not improve from 0.85022\n",
            "Epoch 00008: early stopping\n"
          ],
          "name": "stdout"
        }
      ]
    },
    {
      "cell_type": "code",
      "metadata": {
        "id": "bA0dX_nxTcpD",
        "colab": {
          "base_uri": "https://localhost:8080/",
          "height": 397
        },
        "outputId": "bdeee859-5e78-46a4-d011-02c41f4c58f7"
      },
      "source": [
        "tf.keras.utils.plot_model(model, show_shapes=True, dpi=90) "
      ],
      "execution_count": 46,
      "outputs": [
        {
          "output_type": "execute_result",
          "data": {
            "image/png": "[encoded data removed]",
            "text/plain": [
              "<IPython.core.display.Image object>"
            ]
          },
          "metadata": {
            "tags": []
          },
          "execution_count": 46
        }
      ]
    },
    {
      "cell_type": "code",
      "metadata": {
        "id": "HynUTJImTcrv",
        "colab": {
          "base_uri": "https://localhost:8080/"
        },
        "outputId": "9ec6b755-39ce-4590-d923-f36a5a9f8269"
      },
      "source": [
        "loss, acc = model.evaluate(X_test, Y_test, batch_size=32)\r\n",
        "\r\n",
        "print('Test loss {0:.4f}:'.format(loss))\r\n",
        "print('Test accuracy {0:.4f}:'.format(acc))"
      ],
      "execution_count": 47,
      "outputs": [
        {
          "output_type": "stream",
          "text": [
            "1431/1431 [==============================] - 5s 4ms/step - loss: 0.3726 - acc: 0.8445\n",
            "Test loss 0.3726:\n",
            "Test accuracy 0.8445:\n"
          ],
          "name": "stdout"
        }
      ]
    },
    {
      "cell_type": "code",
      "metadata": {
        "id": "SokFJYqIUSTU"
      },
      "source": [
        "y_pred = (model.predict(X_test)>=0.5).astype('int')"
      ],
      "execution_count": 48,
      "outputs": []
    },
    {
      "cell_type": "code",
      "metadata": {
        "id": "Qkz7AagtUSV1",
        "colab": {
          "base_uri": "https://localhost:8080/"
        },
        "outputId": "2c581e8a-5890-44c7-c3c9-02dc4f9b2659"
      },
      "source": [
        "# Evaluate the model\r\n",
        "from sklearn.metrics import classification_report, confusion_matrix\r\n",
        "\r\n",
        "print(confusion_matrix(Y_test, y_pred))\r\n",
        "print(classification_report(Y_test, y_pred))"
      ],
      "execution_count": 49,
      "outputs": [
        {
          "output_type": "stream",
          "text": [
            "[[18742  4207]\n",
            " [ 2910 19921]]\n",
            "              precision    recall  f1-score   support\n",
            "\n",
            "           0       0.87      0.82      0.84     22949\n",
            "           1       0.83      0.87      0.85     22831\n",
            "\n",
            "    accuracy                           0.84     45780\n",
            "   macro avg       0.85      0.84      0.84     45780\n",
            "weighted avg       0.85      0.84      0.84     45780\n",
            "\n"
          ],
          "name": "stdout"
        }
      ]
    },
    {
      "cell_type": "code",
      "metadata": {
        "id": "_I-P5buqUWUj",
        "colab": {
          "base_uri": "https://localhost:8080/"
        },
        "outputId": "61eae1e9-cfcb-4531-8a85-feb5733a8383"
      },
      "source": [
        "from sklearn.metrics import precision_score, recall_score, f1_score\r\n",
        "p = precision_score(Y_test, y_pred)\r\n",
        "print('precision_score {0:.4f}'.format(p))\r\n",
        "r = recall_score(Y_test, y_pred)\r\n",
        "print('recall_score {0:.4f}'.format(r))\r\n",
        "f1 = f1_score(Y_test, y_pred)\r\n",
        "print('f1_score {0:.4f}'.format(f1))"
      ],
      "execution_count": 50,
      "outputs": [
        {
          "output_type": "stream",
          "text": [
            "precision_score 0.8256\n",
            "recall_score 0.8725\n",
            "f1_score 0.8484\n"
          ],
          "name": "stdout"
        }
      ]
    }
  ]
}