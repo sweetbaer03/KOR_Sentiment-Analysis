{
  "nbformat": 4,
  "nbformat_minor": 0,
  "metadata": {
    "colab": {
      "name": "네이버리뷰_bi-LSTM(PyKomoran).ipynb",
      "provenance": [],
      "collapsed_sections": [],
      "authorship_tag": "ABX9TyNYc8o1hnasFhi086SrVjBx",
      "include_colab_link": true
    },
    "kernelspec": {
      "name": "python3",
      "display_name": "Python 3"
    },
    "accelerator": "GPU"
  },
  "cells": [
    {
      "cell_type": "markdown",
      "metadata": {
        "id": "view-in-github",
        "colab_type": "text"
      },
      "source": [
        "<a href=\"https://colab.research.google.com/github/sweetbaer03/KOR_Sentiment-Analysis/blob/main/%EB%84%A4%EC%9D%B4%EB%B2%84%EB%A6%AC%EB%B7%B0_bi_LSTM(PyKomoran).ipynb\" target=\"_parent\"><img src=\"https://colab.research.google.com/assets/colab-badge.svg\" alt=\"Open In Colab\"/></a>"
      ]
    },
    {
      "cell_type": "markdown",
      "metadata": {
        "id": "rJIl5yX1sHtr"
      },
      "source": [
        "**NSMC Sentiment Analysis**\n",
        "\n",
        "bi-LSTM 모델 사용 \n",
        "(PyKomoran 형태소 분석 사용)\n",
        "\n",
        "---\n",
        "참고소스:\n",
        "https://wikidocs.net/44249\n",
        "\n",
        "https://skettee.github.io/post/long_short_term_memory/"
      ]
    },
    {
      "cell_type": "code",
      "metadata": {
        "colab": {
          "base_uri": "https://localhost:8080/"
        },
        "id": "CSacgfw_kxdq",
        "outputId": "2fc9e403-78a7-4964-eb5f-c6b4fcc83944"
      },
      "source": [
        "#코모란 형태소 분석기 사용\r\n",
        "!pip install PyKomoran"
      ],
      "execution_count": null,
      "outputs": [
        {
          "output_type": "stream",
          "text": [
            "Collecting PyKomoran\n",
            "\u001b[?25l  Downloading https://files.pythonhosted.org/packages/23/b0/ce6a46f311651ed64c39beb1cfe1c39a9906521139ace45430d08c489b62/PyKomoran-0.1.5-py3-none-any.whl (7.9MB)\n",
            "\u001b[K     |████████████████████████████████| 7.9MB 10.7MB/s \n",
            "\u001b[?25hCollecting py4j==0.10.8.1\n",
            "\u001b[?25l  Downloading https://files.pythonhosted.org/packages/04/de/2d314a921ef4c20b283e1de94e0780273678caac901564df06b948e4ba9b/py4j-0.10.8.1-py2.py3-none-any.whl (196kB)\n",
            "\u001b[K     |████████████████████████████████| 204kB 54.1MB/s \n",
            "\u001b[?25hInstalling collected packages: py4j, PyKomoran\n",
            "Successfully installed PyKomoran-0.1.5 py4j-0.10.8.1\n"
          ],
          "name": "stdout"
        }
      ]
    },
    {
      "cell_type": "code",
      "metadata": {
        "id": "llAfK7sV4-mZ"
      },
      "source": [
        "import tensorflow as tf\n",
        "import pandas as pd\n",
        "import numpy as np\n",
        "import random\n",
        "import time\n",
        "import re\n",
        "import os\n",
        "import pickle\n",
        "import datetime\n",
        "import urllib.request\n",
        "%matplotlib inline\n",
        "import matplotlib.pyplot as plt\n",
        "\n",
        "from keras.preprocessing.sequence import pad_sequences\n",
        "from sklearn.model_selection import train_test_split\n",
        "from keras.preprocessing.text import Tokenizer\n",
        "from keras.preprocessing.sequence import pad_sequences\n",
        "from sklearn.preprocessing import LabelEncoder\n",
        "from tensorflow.keras.layers import Embedding, Dense, LSTM,Bidirectional\n",
        "from tensorflow.keras.models import Sequential\n",
        "from tensorflow.keras.models import load_model\n",
        "from tensorflow.keras.callbacks import EarlyStopping, ModelCheckpoint\n",
        "from PyKomoran import *"
      ],
      "execution_count": null,
      "outputs": []
    },
    {
      "cell_type": "markdown",
      "metadata": {
        "id": "74VXDJUmvfj2"
      },
      "source": [
        "github에서 필요한 데이터파일 다운"
      ]
    },
    {
      "cell_type": "code",
      "metadata": {
        "colab": {
          "base_uri": "https://localhost:8080/"
        },
        "id": "1P3jXyTVve1F",
        "outputId": "8b78c24f-bd7e-48c9-ac9a-04149227204c"
      },
      "source": [
        "!git clone https://github.com/sweetbaer03/KOR_Sentiment-Analysis.git"
      ],
      "execution_count": null,
      "outputs": [
        {
          "output_type": "stream",
          "text": [
            "Cloning into 'KOR_Sentiment-Analysis'...\n",
            "remote: Enumerating objects: 21, done.\u001b[K\n",
            "remote: Counting objects: 100% (21/21), done.\u001b[K\n",
            "remote: Compressing objects: 100% (19/19), done.\u001b[K\n",
            "remote: Total 21 (delta 5), reused 8 (delta 1), pack-reused 0\u001b[K\n",
            "Unpacking objects: 100% (21/21), done.\n"
          ],
          "name": "stdout"
        }
      ]
    },
    {
      "cell_type": "code",
      "metadata": {
        "id": "xihCZn3wy0Mb"
      },
      "source": [
        "# train/test set 데이터 로드\n",
        "train_data = pd.read_csv(\"KOR_Sentiment-Analysis/data_in/ratings_train.txt\", sep='\\t')\n",
        "test_tmp = pd.read_csv(\"KOR_Sentiment-Analysis/data_in/ratings_test.txt\", sep='\\t')"
      ],
      "execution_count": null,
      "outputs": []
    },
    {
      "cell_type": "code",
      "metadata": {
        "colab": {
          "base_uri": "https://localhost:8080/",
          "height": 204
        },
        "id": "zFLKv8jG5M1u",
        "outputId": "9e5b6709-d03b-4fd8-f1f1-d4574ee28b1b"
      },
      "source": [
        "train_data.head()"
      ],
      "execution_count": null,
      "outputs": [
        {
          "output_type": "execute_result",
          "data": {
            "text/html": [
              "<div>\n",
              "<style scoped>\n",
              "    .dataframe tbody tr th:only-of-type {\n",
              "        vertical-align: middle;\n",
              "    }\n",
              "\n",
              "    .dataframe tbody tr th {\n",
              "        vertical-align: top;\n",
              "    }\n",
              "\n",
              "    .dataframe thead th {\n",
              "        text-align: right;\n",
              "    }\n",
              "</style>\n",
              "<table border=\"1\" class=\"dataframe\">\n",
              "  <thead>\n",
              "    <tr style=\"text-align: right;\">\n",
              "      <th></th>\n",
              "      <th>id</th>\n",
              "      <th>document</th>\n",
              "      <th>label</th>\n",
              "    </tr>\n",
              "  </thead>\n",
              "  <tbody>\n",
              "    <tr>\n",
              "      <th>0</th>\n",
              "      <td>9976970</td>\n",
              "      <td>아 더빙.. 진짜 짜증나네요 목소리</td>\n",
              "      <td>0</td>\n",
              "    </tr>\n",
              "    <tr>\n",
              "      <th>1</th>\n",
              "      <td>3819312</td>\n",
              "      <td>흠...포스터보고 초딩영화줄....오버연기조차 가볍지 않구나</td>\n",
              "      <td>1</td>\n",
              "    </tr>\n",
              "    <tr>\n",
              "      <th>2</th>\n",
              "      <td>10265843</td>\n",
              "      <td>너무재밓었다그래서보는것을추천한다</td>\n",
              "      <td>0</td>\n",
              "    </tr>\n",
              "    <tr>\n",
              "      <th>3</th>\n",
              "      <td>9045019</td>\n",
              "      <td>교도소 이야기구먼 ..솔직히 재미는 없다..평점 조정</td>\n",
              "      <td>0</td>\n",
              "    </tr>\n",
              "    <tr>\n",
              "      <th>4</th>\n",
              "      <td>6483659</td>\n",
              "      <td>사이몬페그의 익살스런 연기가 돋보였던 영화!스파이더맨에서 늙어보이기만 했던 커스틴 ...</td>\n",
              "      <td>1</td>\n",
              "    </tr>\n",
              "  </tbody>\n",
              "</table>\n",
              "</div>"
            ],
            "text/plain": [
              "         id                                           document  label\n",
              "0   9976970                                아 더빙.. 진짜 짜증나네요 목소리      0\n",
              "1   3819312                  흠...포스터보고 초딩영화줄....오버연기조차 가볍지 않구나      1\n",
              "2  10265843                                  너무재밓었다그래서보는것을추천한다      0\n",
              "3   9045019                      교도소 이야기구먼 ..솔직히 재미는 없다..평점 조정      0\n",
              "4   6483659  사이몬페그의 익살스런 연기가 돋보였던 영화!스파이더맨에서 늙어보이기만 했던 커스틴 ...      1"
            ]
          },
          "metadata": {
            "tags": []
          },
          "execution_count": 5
        }
      ]
    },
    {
      "cell_type": "code",
      "metadata": {
        "id": "Lh-0EJ4LbU6b",
        "colab": {
          "base_uri": "https://localhost:8080/",
          "height": 204
        },
        "outputId": "c1183126-1a5f-4948-b4af-3a51ffd33e50"
      },
      "source": [
        "test_tmp[:5]"
      ],
      "execution_count": null,
      "outputs": [
        {
          "output_type": "execute_result",
          "data": {
            "text/html": [
              "<div>\n",
              "<style scoped>\n",
              "    .dataframe tbody tr th:only-of-type {\n",
              "        vertical-align: middle;\n",
              "    }\n",
              "\n",
              "    .dataframe tbody tr th {\n",
              "        vertical-align: top;\n",
              "    }\n",
              "\n",
              "    .dataframe thead th {\n",
              "        text-align: right;\n",
              "    }\n",
              "</style>\n",
              "<table border=\"1\" class=\"dataframe\">\n",
              "  <thead>\n",
              "    <tr style=\"text-align: right;\">\n",
              "      <th></th>\n",
              "      <th>id</th>\n",
              "      <th>document</th>\n",
              "      <th>label</th>\n",
              "    </tr>\n",
              "  </thead>\n",
              "  <tbody>\n",
              "    <tr>\n",
              "      <th>0</th>\n",
              "      <td>6270596</td>\n",
              "      <td>굳 ㅋ</td>\n",
              "      <td>1</td>\n",
              "    </tr>\n",
              "    <tr>\n",
              "      <th>1</th>\n",
              "      <td>9274899</td>\n",
              "      <td>GDNTOPCLASSINTHECLUB</td>\n",
              "      <td>0</td>\n",
              "    </tr>\n",
              "    <tr>\n",
              "      <th>2</th>\n",
              "      <td>8544678</td>\n",
              "      <td>뭐야 이 평점들은.... 나쁘진 않지만 10점 짜리는 더더욱 아니잖아</td>\n",
              "      <td>0</td>\n",
              "    </tr>\n",
              "    <tr>\n",
              "      <th>3</th>\n",
              "      <td>6825595</td>\n",
              "      <td>지루하지는 않은데 완전 막장임... 돈주고 보기에는....</td>\n",
              "      <td>0</td>\n",
              "    </tr>\n",
              "    <tr>\n",
              "      <th>4</th>\n",
              "      <td>6723715</td>\n",
              "      <td>3D만 아니었어도 별 다섯 개 줬을텐데.. 왜 3D로 나와서 제 심기를 불편하게 하죠??</td>\n",
              "      <td>0</td>\n",
              "    </tr>\n",
              "  </tbody>\n",
              "</table>\n",
              "</div>"
            ],
            "text/plain": [
              "        id                                           document  label\n",
              "0  6270596                                                굳 ㅋ      1\n",
              "1  9274899                               GDNTOPCLASSINTHECLUB      0\n",
              "2  8544678             뭐야 이 평점들은.... 나쁘진 않지만 10점 짜리는 더더욱 아니잖아      0\n",
              "3  6825595                   지루하지는 않은데 완전 막장임... 돈주고 보기에는....      0\n",
              "4  6723715  3D만 아니었어도 별 다섯 개 줬을텐데.. 왜 3D로 나와서 제 심기를 불편하게 하죠??      0"
            ]
          },
          "metadata": {
            "tags": []
          },
          "execution_count": 6
        }
      ]
    },
    {
      "cell_type": "code",
      "metadata": {
        "id": "ZWlxRe9XbUwO",
        "colab": {
          "base_uri": "https://localhost:8080/"
        },
        "outputId": "cbd20888-db19-41c4-a5b5-26a5da6f011d"
      },
      "source": [
        "print('훈련용 리뷰 개수 :',len(train_data)) # 훈련용 리뷰 개수 출력\r\n",
        "print('테스트용 리뷰 개수 :',len(test_tmp)) # 테스트용 리뷰 개수 출력"
      ],
      "execution_count": null,
      "outputs": [
        {
          "output_type": "stream",
          "text": [
            "훈련용 리뷰 개수 : 150000\n",
            "테스트용 리뷰 개수 : 50000\n"
          ],
          "name": "stdout"
        }
      ]
    },
    {
      "cell_type": "markdown",
      "metadata": {
        "id": "QVG_PlXBlaSD"
      },
      "source": [
        "## 캐글데이터 불러오기"
      ]
    },
    {
      "cell_type": "code",
      "metadata": {
        "colab": {
          "base_uri": "https://localhost:8080/",
          "height": 204
        },
        "id": "uXmhgbOulZKR",
        "outputId": "24c88e03-52bf-4d2e-bb3a-80f976f09958"
      },
      "source": [
        "test_csv = pd.read_csv('KOR_Sentiment-Analysis/data_in/ko_data.csv', encoding = 'cp949')\r\n",
        "test_csv.head()"
      ],
      "execution_count": null,
      "outputs": [
        {
          "output_type": "execute_result",
          "data": {
            "text/html": [
              "<div>\n",
              "<style scoped>\n",
              "    .dataframe tbody tr th:only-of-type {\n",
              "        vertical-align: middle;\n",
              "    }\n",
              "\n",
              "    .dataframe tbody tr th {\n",
              "        vertical-align: top;\n",
              "    }\n",
              "\n",
              "    .dataframe thead th {\n",
              "        text-align: right;\n",
              "    }\n",
              "</style>\n",
              "<table border=\"1\" class=\"dataframe\">\n",
              "  <thead>\n",
              "    <tr style=\"text-align: right;\">\n",
              "      <th></th>\n",
              "      <th>Id</th>\n",
              "      <th>Sentence</th>\n",
              "    </tr>\n",
              "  </thead>\n",
              "  <tbody>\n",
              "    <tr>\n",
              "      <th>0</th>\n",
              "      <td>0</td>\n",
              "      <td>정말 많이 울었던 영화입니다.</td>\n",
              "    </tr>\n",
              "    <tr>\n",
              "      <th>1</th>\n",
              "      <td>1</td>\n",
              "      <td>시간 낭비예요.</td>\n",
              "    </tr>\n",
              "    <tr>\n",
              "      <th>2</th>\n",
              "      <td>2</td>\n",
              "      <td>포스터를 저렇게밖에 만들지 못했던 제작자의 소심함에 침을 뱉고 싶다.</td>\n",
              "    </tr>\n",
              "    <tr>\n",
              "      <th>3</th>\n",
              "      <td>3</td>\n",
              "      <td>지금 봐도 재미있는 영화!!! 코믹과 감동!!! 그리고 요리!!!</td>\n",
              "    </tr>\n",
              "    <tr>\n",
              "      <th>4</th>\n",
              "      <td>4</td>\n",
              "      <td>이걸 영화로 만드는 거야?얼마나 가는지 보자.</td>\n",
              "    </tr>\n",
              "  </tbody>\n",
              "</table>\n",
              "</div>"
            ],
            "text/plain": [
              "   Id                                Sentence\n",
              "0   0                        정말 많이 울었던 영화입니다.\n",
              "1   1                                시간 낭비예요.\n",
              "2   2  포스터를 저렇게밖에 만들지 못했던 제작자의 소심함에 침을 뱉고 싶다.\n",
              "3   3    지금 봐도 재미있는 영화!!! 코믹과 감동!!! 그리고 요리!!!\n",
              "4   4               이걸 영화로 만드는 거야?얼마나 가는지 보자."
            ]
          },
          "metadata": {
            "tags": []
          },
          "execution_count": 8
        }
      ]
    },
    {
      "cell_type": "markdown",
      "metadata": {
        "id": "K_OJD2j38bIF"
      },
      "source": [
        "# 데이터 정제하기"
      ]
    },
    {
      "cell_type": "code",
      "metadata": {
        "colab": {
          "base_uri": "https://localhost:8080/"
        },
        "id": "xzFRdEoTlZQQ",
        "outputId": "1216a882-9520-423f-e84b-82225398726b"
      },
      "source": [
        "train_data.isnull().any()\r\n",
        "test_tmp.isnull().any()"
      ],
      "execution_count": null,
      "outputs": [
        {
          "output_type": "execute_result",
          "data": {
            "text/plain": [
              "id          False\n",
              "document     True\n",
              "label       False\n",
              "dtype: bool"
            ]
          },
          "metadata": {
            "tags": []
          },
          "execution_count": 9
        }
      ]
    },
    {
      "cell_type": "code",
      "metadata": {
        "id": "y_vdPzWclZSX"
      },
      "source": [
        "train_data = train_data.dropna(axis=0).reset_index(drop=True)\r\n",
        "test_tmp = test_tmp.dropna(axis=0).reset_index(drop=True)"
      ],
      "execution_count": null,
      "outputs": []
    },
    {
      "cell_type": "code",
      "metadata": {
        "colab": {
          "base_uri": "https://localhost:8080/"
        },
        "id": "_1Y88Tyul4Dl",
        "outputId": "6783e289-a86b-4f96-a024-8c44b2507efe"
      },
      "source": [
        "print('훈련용 리뷰 개수 :',len(train_data)) # 훈련용 리뷰 개수 출력\r\n",
        "print('테스트용 리뷰 개수 :',len(test_tmp)) # 테스트용 리뷰 개수 출력"
      ],
      "execution_count": null,
      "outputs": [
        {
          "output_type": "stream",
          "text": [
            "훈련용 리뷰 개수 : 149995\n",
            "테스트용 리뷰 개수 : 49997\n"
          ],
          "name": "stdout"
        }
      ]
    },
    {
      "cell_type": "markdown",
      "metadata": {
        "id": "JERxFbya8Wx0"
      },
      "source": [
        "# 토큰화"
      ]
    },
    {
      "cell_type": "code",
      "metadata": {
        "id": "D5R6rhkwYo6L"
      },
      "source": [
        "train_data = train_data[['document', 'label']]\r\n",
        "test_tmp = test_tmp[['document', 'label']]"
      ],
      "execution_count": null,
      "outputs": []
    },
    {
      "cell_type": "code",
      "metadata": {
        "colab": {
          "base_uri": "https://localhost:8080/"
        },
        "id": "eOjjj0AJYrbC",
        "outputId": "33052606-4d81-4c18-a2f1-12e8f8c0c7be"
      },
      "source": [
        "print('Train data shape: ', train_data.shape)\r\n",
        "n_lebel = len(train_data[train_data.label == 0])\r\n",
        "print('Label 0 in Train data: {} ({:.1f}%)'.format(n_lebel, n_lebel*100/len(train_data)))\r\n",
        "n_lebel = len(train_data[train_data.label == 1])\r\n",
        "print('Label 1 in Train data: {} ({:.1f}%)'.format(n_lebel, n_lebel*100/len(train_data)))\r\n",
        "\r\n",
        "print('\\nTest data shape: ', test_tmp.shape)\r\n",
        "n_lebel = len(test_tmp[test_tmp.label == 0])\r\n",
        "print('Label 0 in Test data: {} ({:.1f}%)'.format(n_lebel, n_lebel*100/len(test_tmp)))\r\n",
        "n_lebel = len(test_tmp[test_tmp.label == 1])\r\n",
        "print('Label 1 in Test data: {} ({:.1f}%)'.format(n_lebel, n_lebel*100/len(test_tmp)))"
      ],
      "execution_count": null,
      "outputs": [
        {
          "output_type": "stream",
          "text": [
            "Train data shape:  (149995, 2)\n",
            "Label 0 in Train data: 75170 (50.1%)\n",
            "Label 1 in Train data: 74825 (49.9%)\n",
            "\n",
            "Test data shape:  (49997, 2)\n",
            "Label 0 in Test data: 24826 (49.7%)\n",
            "Label 1 in Test data: 25171 (50.3%)\n"
          ],
          "name": "stdout"
        }
      ]
    },
    {
      "cell_type": "code",
      "metadata": {
        "id": "6hwkRor7Xyqo"
      },
      "source": [
        "komoran = Komoran(\"STABLE\")\r\n",
        "stop_pos_tags =  ['IC', 'JKS', 'JKC', 'JKG', 'JKO', 'JKB', 'JKV', 'JKQ', 'JX', \r\n",
        "                   'EF', 'ETN', 'ETM', 'XSA', 'SF', 'SP', 'SS', 'SE', 'SO', 'SL', 'SH', \r\n",
        "                   'SW', 'NF', 'NV', 'SN', 'NA']"
      ],
      "execution_count": null,
      "outputs": []
    },
    {
      "cell_type": "code",
      "metadata": {
        "id": "exzvN4FHXys_"
      },
      "source": [
        "def tokenize(corpus, stop_pos_tags):\r\n",
        "    result = []\r\n",
        "    pairs = komoran.get_list(corpus)\r\n",
        "    for pair in pairs:\r\n",
        "        morph = pair.get_first()\r\n",
        "        pos = pair.get_second()\r\n",
        "        if pos not in stop_pos_tags:\r\n",
        "            if pos in ['VV', 'VA', 'VX', 'VCP', 'VCN']:\r\n",
        "                morph = morph + '다'\r\n",
        "            result.append(morph)\r\n",
        "    return result"
      ],
      "execution_count": null,
      "outputs": []
    },
    {
      "cell_type": "code",
      "metadata": {
        "id": "AjiQwa8xX709"
      },
      "source": [
        "tokens_list = []\r\n",
        "\r\n",
        "for i in range(len(train_data['document'])):\r\n",
        "    tokens_list.append(tokenize(train_data['document'][i], stop_pos_tags))"
      ],
      "execution_count": null,
      "outputs": []
    },
    {
      "cell_type": "code",
      "metadata": {
        "colab": {
          "base_uri": "https://localhost:8080/",
          "height": 255
        },
        "id": "NVzul8ScX73P",
        "outputId": "4025c69a-fbf8-40ab-c272-51039b17727d"
      },
      "source": [
        "train_data['tokens'] = tokens_list\r\n",
        "train_data.head()"
      ],
      "execution_count": null,
      "outputs": [
        {
          "output_type": "execute_result",
          "data": {
            "text/html": [
              "<div>\n",
              "<style scoped>\n",
              "    .dataframe tbody tr th:only-of-type {\n",
              "        vertical-align: middle;\n",
              "    }\n",
              "\n",
              "    .dataframe tbody tr th {\n",
              "        vertical-align: top;\n",
              "    }\n",
              "\n",
              "    .dataframe thead th {\n",
              "        text-align: right;\n",
              "    }\n",
              "</style>\n",
              "<table border=\"1\" class=\"dataframe\">\n",
              "  <thead>\n",
              "    <tr style=\"text-align: right;\">\n",
              "      <th></th>\n",
              "      <th>document</th>\n",
              "      <th>label</th>\n",
              "      <th>tokens</th>\n",
              "    </tr>\n",
              "  </thead>\n",
              "  <tbody>\n",
              "    <tr>\n",
              "      <th>0</th>\n",
              "      <td>아 더빙.. 진짜 짜증나네요 목소리</td>\n",
              "      <td>0</td>\n",
              "      <td>[더빙, 진짜, 짜증, 나다, 네요, 목소리]</td>\n",
              "    </tr>\n",
              "    <tr>\n",
              "      <th>1</th>\n",
              "      <td>흠...포스터보고 초딩영화줄....오버연기조차 가볍지 않구나</td>\n",
              "      <td>1</td>\n",
              "      <td>[포스터, 초, 딩, 영화, 줄, 오버, 연기, 가볍다, 지, 않다, 구나]</td>\n",
              "    </tr>\n",
              "    <tr>\n",
              "      <th>2</th>\n",
              "      <td>너무재밓었다그래서보는것을추천한다</td>\n",
              "      <td>0</td>\n",
              "      <td>[]</td>\n",
              "    </tr>\n",
              "    <tr>\n",
              "      <th>3</th>\n",
              "      <td>교도소 이야기구먼 ..솔직히 재미는 없다..평점 조정</td>\n",
              "      <td>0</td>\n",
              "      <td>[교도소, 이야기, 이다, 구먼, 솔직히, 재미, 없다, 평점, 조정]</td>\n",
              "    </tr>\n",
              "    <tr>\n",
              "      <th>4</th>\n",
              "      <td>사이몬페그의 익살스런 연기가 돋보였던 영화!스파이더맨에서 늙어보이기만 했던 커스틴 ...</td>\n",
              "      <td>1</td>\n",
              "      <td>[익살, 연기, 돋보이다, 었, 영화, 스파이, 더, 맨, 늙다, 어, 보이다, 하...</td>\n",
              "    </tr>\n",
              "  </tbody>\n",
              "</table>\n",
              "</div>"
            ],
            "text/plain": [
              "                                            document  ...                                             tokens\n",
              "0                                아 더빙.. 진짜 짜증나네요 목소리  ...                          [더빙, 진짜, 짜증, 나다, 네요, 목소리]\n",
              "1                  흠...포스터보고 초딩영화줄....오버연기조차 가볍지 않구나  ...         [포스터, 초, 딩, 영화, 줄, 오버, 연기, 가볍다, 지, 않다, 구나]\n",
              "2                                  너무재밓었다그래서보는것을추천한다  ...                                                 []\n",
              "3                      교도소 이야기구먼 ..솔직히 재미는 없다..평점 조정  ...            [교도소, 이야기, 이다, 구먼, 솔직히, 재미, 없다, 평점, 조정]\n",
              "4  사이몬페그의 익살스런 연기가 돋보였던 영화!스파이더맨에서 늙어보이기만 했던 커스틴 ...  ...  [익살, 연기, 돋보이다, 었, 영화, 스파이, 더, 맨, 늙다, 어, 보이다, 하...\n",
              "\n",
              "[5 rows x 3 columns]"
            ]
          },
          "metadata": {
            "tags": []
          },
          "execution_count": 17
        }
      ]
    },
    {
      "cell_type": "code",
      "metadata": {
        "id": "ZhuL09BWhRYq"
      },
      "source": [
        "train_data = train_data[train_data['tokens'].str.len() > 2]"
      ],
      "execution_count": null,
      "outputs": []
    },
    {
      "cell_type": "code",
      "metadata": {
        "colab": {
          "base_uri": "https://localhost:8080/",
          "height": 255
        },
        "id": "WbH5-uLoX75b",
        "outputId": "e52c071f-0168-4be4-eb4b-51de9d8309b1"
      },
      "source": [
        "tokens_list = []\r\n",
        "\r\n",
        "for i in range(len(test_tmp['document'])):\r\n",
        "    tokens_list.append(tokenize(test_tmp['document'][i], stop_pos_tags))\r\n",
        "test_tmp['tokens'] = tokens_list\r\n",
        "\r\n",
        "test_tmp.head()"
      ],
      "execution_count": null,
      "outputs": [
        {
          "output_type": "execute_result",
          "data": {
            "text/html": [
              "<div>\n",
              "<style scoped>\n",
              "    .dataframe tbody tr th:only-of-type {\n",
              "        vertical-align: middle;\n",
              "    }\n",
              "\n",
              "    .dataframe tbody tr th {\n",
              "        vertical-align: top;\n",
              "    }\n",
              "\n",
              "    .dataframe thead th {\n",
              "        text-align: right;\n",
              "    }\n",
              "</style>\n",
              "<table border=\"1\" class=\"dataframe\">\n",
              "  <thead>\n",
              "    <tr style=\"text-align: right;\">\n",
              "      <th></th>\n",
              "      <th>document</th>\n",
              "      <th>label</th>\n",
              "      <th>tokens</th>\n",
              "    </tr>\n",
              "  </thead>\n",
              "  <tbody>\n",
              "    <tr>\n",
              "      <th>0</th>\n",
              "      <td>굳 ㅋ</td>\n",
              "      <td>1</td>\n",
              "      <td>[굳다]</td>\n",
              "    </tr>\n",
              "    <tr>\n",
              "      <th>1</th>\n",
              "      <td>GDNTOPCLASSINTHECLUB</td>\n",
              "      <td>0</td>\n",
              "      <td>[]</td>\n",
              "    </tr>\n",
              "    <tr>\n",
              "      <th>2</th>\n",
              "      <td>뭐야 이 평점들은.... 나쁘진 않지만 10점 짜리는 더더욱 아니잖아</td>\n",
              "      <td>0</td>\n",
              "      <td>[뭐, 이, 평점, 들, 나쁘다, 지, 않다, 지만, 점, 짜리, 더더욱, 아니다,...</td>\n",
              "    </tr>\n",
              "    <tr>\n",
              "      <th>3</th>\n",
              "      <td>지루하지는 않은데 완전 막장임... 돈주고 보기에는....</td>\n",
              "      <td>0</td>\n",
              "      <td>[지루, 지, 않다, 은데, 완전, 막장, 이다, 돈, 주다, 고, 보다]</td>\n",
              "    </tr>\n",
              "    <tr>\n",
              "      <th>4</th>\n",
              "      <td>3D만 아니었어도 별 다섯 개 줬을텐데.. 왜 3D로 나와서 제 심기를 불편하게 하죠??</td>\n",
              "      <td>0</td>\n",
              "      <td>[아니다, 었, 어도, 별, 다섯, 개, 주다, 었, 텐, 데, 왜, 나오다, 아서...</td>\n",
              "    </tr>\n",
              "  </tbody>\n",
              "</table>\n",
              "</div>"
            ],
            "text/plain": [
              "                                            document  ...                                             tokens\n",
              "0                                                굳 ㅋ  ...                                               [굳다]\n",
              "1                               GDNTOPCLASSINTHECLUB  ...                                                 []\n",
              "2             뭐야 이 평점들은.... 나쁘진 않지만 10점 짜리는 더더욱 아니잖아  ...  [뭐, 이, 평점, 들, 나쁘다, 지, 않다, 지만, 점, 짜리, 더더욱, 아니다,...\n",
              "3                   지루하지는 않은데 완전 막장임... 돈주고 보기에는....  ...          [지루, 지, 않다, 은데, 완전, 막장, 이다, 돈, 주다, 고, 보다]\n",
              "4  3D만 아니었어도 별 다섯 개 줬을텐데.. 왜 3D로 나와서 제 심기를 불편하게 하죠??  ...  [아니다, 었, 어도, 별, 다섯, 개, 주다, 었, 텐, 데, 왜, 나오다, 아서...\n",
              "\n",
              "[5 rows x 3 columns]"
            ]
          },
          "metadata": {
            "tags": []
          },
          "execution_count": 19
        }
      ]
    },
    {
      "cell_type": "code",
      "metadata": {
        "id": "FyPKLRDQX77V"
      },
      "source": [
        "test_tmp = test_tmp[test_tmp['tokens'].str.len() > 2]"
      ],
      "execution_count": null,
      "outputs": []
    },
    {
      "cell_type": "code",
      "metadata": {
        "id": "Vy2G4FnFX79k"
      },
      "source": [
        "max_words = 20000\r\n",
        "tokenizer = Tokenizer(num_words=max_words, oov_token = True)\r\n",
        "tokenizer.fit_on_texts(train_data.tokens)\r\n",
        "train_data.tokens = tokenizer.texts_to_sequences(train_data.tokens)\r\n",
        "test_tmp.tokens = tokenizer.texts_to_sequences(test_tmp.tokens)"
      ],
      "execution_count": null,
      "outputs": []
    },
    {
      "cell_type": "code",
      "metadata": {
        "colab": {
          "base_uri": "https://localhost:8080/",
          "height": 272
        },
        "id": "ciYSIEVyt5RD",
        "outputId": "8d6088b8-0a8a-4d3c-e784-a7bca92bff93"
      },
      "source": [
        "train_data.head()"
      ],
      "execution_count": null,
      "outputs": [
        {
          "output_type": "execute_result",
          "data": {
            "text/html": [
              "<div>\n",
              "<style scoped>\n",
              "    .dataframe tbody tr th:only-of-type {\n",
              "        vertical-align: middle;\n",
              "    }\n",
              "\n",
              "    .dataframe tbody tr th {\n",
              "        vertical-align: top;\n",
              "    }\n",
              "\n",
              "    .dataframe thead th {\n",
              "        text-align: right;\n",
              "    }\n",
              "</style>\n",
              "<table border=\"1\" class=\"dataframe\">\n",
              "  <thead>\n",
              "    <tr style=\"text-align: right;\">\n",
              "      <th></th>\n",
              "      <th>document</th>\n",
              "      <th>label</th>\n",
              "      <th>tokens</th>\n",
              "    </tr>\n",
              "  </thead>\n",
              "  <tbody>\n",
              "    <tr>\n",
              "      <th>0</th>\n",
              "      <td>아 더빙.. 진짜 짜증나네요 목소리</td>\n",
              "      <td>0</td>\n",
              "      <td>[502, 31, 210, 66, 70, 716]</td>\n",
              "    </tr>\n",
              "    <tr>\n",
              "      <th>1</th>\n",
              "      <td>흠...포스터보고 초딩영화줄....오버연기조차 가볍지 않구나</td>\n",
              "      <td>1</td>\n",
              "      <td>[489, 305, 236, 2, 172, 1294, 42, 717, 16, 34,...</td>\n",
              "    </tr>\n",
              "    <tr>\n",
              "      <th>3</th>\n",
              "      <td>교도소 이야기구먼 ..솔직히 재미는 없다..평점 조정</td>\n",
              "      <td>0</td>\n",
              "      <td>[5551, 138, 3, 3988, 281, 87, 17, 46, 2881]</td>\n",
              "    </tr>\n",
              "    <tr>\n",
              "      <th>4</th>\n",
              "      <td>사이몬페그의 익살스런 연기가 돋보였던 영화!스파이더맨에서 늙어보이기만 했던 커스틴 ...</td>\n",
              "      <td>1</td>\n",
              "      <td>[6734, 42, 845, 10, 2, 1602, 67, 414, 1156, 12...</td>\n",
              "    </tr>\n",
              "    <tr>\n",
              "      <th>5</th>\n",
              "      <td>막 걸음마 뗀 3세부터 초등학교 1학년생인 8살용영화.ㅋㅋㅋ...별반개도 아까움.</td>\n",
              "      <td>0</td>\n",
              "      <td>[678, 13857, 1512, 264, 1678, 1452, 471, 3, 80]</td>\n",
              "    </tr>\n",
              "  </tbody>\n",
              "</table>\n",
              "</div>"
            ],
            "text/plain": [
              "                                            document  ...                                             tokens\n",
              "0                                아 더빙.. 진짜 짜증나네요 목소리  ...                        [502, 31, 210, 66, 70, 716]\n",
              "1                  흠...포스터보고 초딩영화줄....오버연기조차 가볍지 않구나  ...  [489, 305, 236, 2, 172, 1294, 42, 717, 16, 34,...\n",
              "3                      교도소 이야기구먼 ..솔직히 재미는 없다..평점 조정  ...        [5551, 138, 3, 3988, 281, 87, 17, 46, 2881]\n",
              "4  사이몬페그의 익살스런 연기가 돋보였던 영화!스파이더맨에서 늙어보이기만 했던 커스틴 ...  ...  [6734, 42, 845, 10, 2, 1602, 67, 414, 1156, 12...\n",
              "5      막 걸음마 뗀 3세부터 초등학교 1학년생인 8살용영화.ㅋㅋㅋ...별반개도 아까움.  ...    [678, 13857, 1512, 264, 1678, 1452, 471, 3, 80]\n",
              "\n",
              "[5 rows x 3 columns]"
            ]
          },
          "metadata": {
            "tags": []
          },
          "execution_count": 22
        }
      ]
    },
    {
      "cell_type": "code",
      "metadata": {
        "colab": {
          "base_uri": "https://localhost:8080/",
          "height": 272
        },
        "id": "C51-_MRfX7_X",
        "outputId": "17636693-ea04-4517-d606-b13e6f4feb98"
      },
      "source": [
        "test_tmp.head()"
      ],
      "execution_count": null,
      "outputs": [
        {
          "output_type": "execute_result",
          "data": {
            "text/html": [
              "<div>\n",
              "<style scoped>\n",
              "    .dataframe tbody tr th:only-of-type {\n",
              "        vertical-align: middle;\n",
              "    }\n",
              "\n",
              "    .dataframe tbody tr th {\n",
              "        vertical-align: top;\n",
              "    }\n",
              "\n",
              "    .dataframe thead th {\n",
              "        text-align: right;\n",
              "    }\n",
              "</style>\n",
              "<table border=\"1\" class=\"dataframe\">\n",
              "  <thead>\n",
              "    <tr style=\"text-align: right;\">\n",
              "      <th></th>\n",
              "      <th>document</th>\n",
              "      <th>label</th>\n",
              "      <th>tokens</th>\n",
              "    </tr>\n",
              "  </thead>\n",
              "  <tbody>\n",
              "    <tr>\n",
              "      <th>2</th>\n",
              "      <td>뭐야 이 평점들은.... 나쁘진 않지만 10점 짜리는 더더욱 아니잖아</td>\n",
              "      <td>0</td>\n",
              "      <td>[54, 18, 46, 13, 456, 16, 34, 35, 26, 605, 314...</td>\n",
              "    </tr>\n",
              "    <tr>\n",
              "      <th>3</th>\n",
              "      <td>지루하지는 않은데 완전 막장임... 돈주고 보기에는....</td>\n",
              "      <td>0</td>\n",
              "      <td>[78, 16, 34, 238, 128, 340, 3, 140, 22, 5, 4]</td>\n",
              "    </tr>\n",
              "    <tr>\n",
              "      <th>4</th>\n",
              "      <td>3D만 아니었어도 별 다섯 개 줬을텐데.. 왜 3D로 나와서 제 심기를 불편하게 하죠??</td>\n",
              "      <td>0</td>\n",
              "      <td>[41, 10, 243, 191, 1942, 109, 22, 10, 671, 188...</td>\n",
              "    </tr>\n",
              "    <tr>\n",
              "      <th>5</th>\n",
              "      <td>음악이 주가 된, 최고의 음악영화</td>\n",
              "      <td>1</td>\n",
              "      <td>[216, 3476, 45, 49, 216, 2]</td>\n",
              "    </tr>\n",
              "    <tr>\n",
              "      <th>7</th>\n",
              "      <td>마치 미국애니에서 튀어나온듯한 창의력없는 로봇디자인부터가,고개를 젖게한다</td>\n",
              "      <td>0</td>\n",
              "      <td>[1060, 395, 372, 4329, 282, 11, 6400, 17, 1378...</td>\n",
              "    </tr>\n",
              "  </tbody>\n",
              "</table>\n",
              "</div>"
            ],
            "text/plain": [
              "                                            document  ...                                             tokens\n",
              "2             뭐야 이 평점들은.... 나쁘진 않지만 10점 짜리는 더더욱 아니잖아  ...  [54, 18, 46, 13, 456, 16, 34, 35, 26, 605, 314...\n",
              "3                   지루하지는 않은데 완전 막장임... 돈주고 보기에는....  ...      [78, 16, 34, 238, 128, 340, 3, 140, 22, 5, 4]\n",
              "4  3D만 아니었어도 별 다섯 개 줬을텐데.. 왜 3D로 나와서 제 심기를 불편하게 하죠??  ...  [41, 10, 243, 191, 1942, 109, 22, 10, 671, 188...\n",
              "5                                 음악이 주가 된, 최고의 음악영화  ...                        [216, 3476, 45, 49, 216, 2]\n",
              "7           마치 미국애니에서 튀어나온듯한 창의력없는 로봇디자인부터가,고개를 젖게한다  ...  [1060, 395, 372, 4329, 282, 11, 6400, 17, 1378...\n",
              "\n",
              "[5 rows x 3 columns]"
            ]
          },
          "metadata": {
            "tags": []
          },
          "execution_count": 23
        }
      ]
    },
    {
      "cell_type": "code",
      "metadata": {
        "colab": {
          "base_uri": "https://localhost:8080/"
        },
        "id": "BM6TSbn0Xyvf",
        "outputId": "293b16f6-74c1-4766-c6af-fb35d40f08aa"
      },
      "source": [
        "X_train = train_data.tokens\r\n",
        "Y_train = train_data.label\r\n",
        "\r\n",
        "X_test = test_tmp.tokens\r\n",
        "Y_test = test_tmp.label\r\n",
        "\r\n",
        "print('X_train shape: ', X_train.shape)\r\n",
        "print('Y_train shape: ', Y_train.shape)\r\n",
        "print('\\nX_test shape: ', X_test.shape)\r\n",
        "print('Y_test shape: ', Y_test.shape)"
      ],
      "execution_count": null,
      "outputs": [
        {
          "output_type": "stream",
          "text": [
            "X_train shape:  (136927,)\n",
            "Y_train shape:  (136927,)\n",
            "\n",
            "X_test shape:  (45780,)\n",
            "Y_test shape:  (45780,)\n"
          ],
          "name": "stdout"
        }
      ]
    },
    {
      "cell_type": "code",
      "metadata": {
        "colab": {
          "base_uri": "https://localhost:8080/"
        },
        "id": "-9lq-JZ0q_Hg",
        "outputId": "4bded6a6-69e7-4d4d-ccd5-7ae5a33abb2c"
      },
      "source": [
        "max_len=30\r\n",
        "X_train = pad_sequences(X_train, maxlen=max_len)\r\n",
        "X_test = pad_sequences(X_test, maxlen=max_len)\r\n",
        "\r\n",
        "print('X_train shape: ', X_train.shape)\r\n",
        "print('X_test shape: ', X_test.shape)"
      ],
      "execution_count": null,
      "outputs": [
        {
          "output_type": "stream",
          "text": [
            "X_train shape:  (136927, 30)\n",
            "X_test shape:  (45780, 30)\n"
          ],
          "name": "stdout"
        }
      ]
    },
    {
      "cell_type": "code",
      "metadata": {
        "colab": {
          "base_uri": "https://localhost:8080/"
        },
        "id": "o_5geou6q_Jx",
        "outputId": "efecbcdd-1488-48f4-b404-e8beba9ad905"
      },
      "source": [
        "encoder = LabelEncoder()\r\n",
        "\r\n",
        "# Train\r\n",
        "batch_size = Y_train.shape[0]\r\n",
        "input_dim = 1\r\n",
        "Y_train = encoder.fit_transform(Y_train) # Labeling\r\n",
        "Y_train = np.reshape(Y_train, (batch_size, input_dim)) # Reshape\r\n",
        "\r\n",
        "# Test\r\n",
        "batch_size = Y_test.shape[0]\r\n",
        "Y_test = encoder.transform(Y_test) # Labeling\r\n",
        "Y_test = np.reshape(Y_test, (batch_size, input_dim)) # Reshape\r\n",
        "\r\n",
        "print(Y_train.shape)\r\n",
        "print(Y_test.shape)"
      ],
      "execution_count": null,
      "outputs": [
        {
          "output_type": "stream",
          "text": [
            "(136927, 1)\n",
            "(45780, 1)\n"
          ],
          "name": "stdout"
        }
      ]
    },
    {
      "cell_type": "code",
      "metadata": {
        "id": "UL0rDLyrTVaH"
      },
      "source": [
        "vocab_size = 20000"
      ],
      "execution_count": null,
      "outputs": []
    },
    {
      "cell_type": "markdown",
      "metadata": {
        "id": "7ExlA_lHrOyY"
      },
      "source": [
        "# 모델링"
      ]
    },
    {
      "cell_type": "code",
      "metadata": {
        "id": "xb_EruY0q_Om"
      },
      "source": [
        "model = Sequential()\r\n",
        "model.add(Embedding(vocab_size, 100))\r\n",
        "model.add(Bidirectional(LSTM(100)))\r\n",
        "model.add(Dense(1, activation='sigmoid'))"
      ],
      "execution_count": null,
      "outputs": []
    },
    {
      "cell_type": "code",
      "metadata": {
        "id": "SgPgp2MrTbRC"
      },
      "source": [
        "es = EarlyStopping(monitor='val_loss', mode='min', verbose=1, patience=4)\r\n",
        "mc = ModelCheckpoint('best_model_bi_LSTM.h5', monitor='val_acc', mode='max', verbose=1, save_best_only=True)"
      ],
      "execution_count": null,
      "outputs": []
    },
    {
      "cell_type": "code",
      "metadata": {
        "id": "V-RQCn6ATbTD",
        "colab": {
          "base_uri": "https://localhost:8080/"
        },
        "outputId": "1a3edcbe-d70a-4b7e-c3fa-f5d5a007efaf"
      },
      "source": [
        "# GPU 디바이스 이름 구함\r\n",
        "device_name = tf.test.gpu_device_name()\r\n",
        "\r\n",
        "# GPU 디바이스 이름 검사\r\n",
        "if device_name == '/device:GPU:0':\r\n",
        "    print('Found GPU at: {}'.format(device_name))\r\n",
        "else:\r\n",
        "    raise SystemError('GPU device not found')"
      ],
      "execution_count": null,
      "outputs": [
        {
          "output_type": "stream",
          "text": [
            "Found GPU at: /device:GPU:0\n"
          ],
          "name": "stdout"
        }
      ]
    },
    {
      "cell_type": "code",
      "metadata": {
        "id": "2hteBH7tTcm-",
        "colab": {
          "base_uri": "https://localhost:8080/"
        },
        "outputId": "534c28da-06d8-4c9c-efd8-0c807e6f44bd"
      },
      "source": [
        "model.compile(optimizer='rmsprop', loss='binary_crossentropy', metrics=['acc'])\r\n",
        "history = model.fit(X_train, Y_train, epochs=15, callbacks=[es, mc], batch_size=256, validation_split=0.2)"
      ],
      "execution_count": null,
      "outputs": [
        {
          "output_type": "stream",
          "text": [
            "Epoch 1/15\n",
            "428/428 [==============================] - 14s 19ms/step - loss: 0.4806 - acc: 0.7650 - val_loss: 0.3813 - val_acc: 0.8343\n",
            "\n",
            "Epoch 00001: val_acc improved from -inf to 0.83433, saving model to best_model_bi_LSTM.h5\n",
            "Epoch 2/15\n",
            "428/428 [==============================] - 7s 17ms/step - loss: 0.3521 - acc: 0.8455 - val_loss: 0.3638 - val_acc: 0.8412\n",
            "\n",
            "Epoch 00002: val_acc improved from 0.83433 to 0.84116, saving model to best_model_bi_LSTM.h5\n",
            "Epoch 3/15\n",
            "428/428 [==============================] - 7s 16ms/step - loss: 0.3271 - acc: 0.8578 - val_loss: 0.3588 - val_acc: 0.8462\n",
            "\n",
            "Epoch 00003: val_acc improved from 0.84116 to 0.84616, saving model to best_model_bi_LSTM.h5\n",
            "Epoch 4/15\n",
            "428/428 [==============================] - 7s 16ms/step - loss: 0.3070 - acc: 0.8684 - val_loss: 0.3538 - val_acc: 0.8459\n",
            "\n",
            "Epoch 00004: val_acc did not improve from 0.84616\n",
            "Epoch 5/15\n",
            "428/428 [==============================] - 7s 16ms/step - loss: 0.2871 - acc: 0.8794 - val_loss: 0.3543 - val_acc: 0.8476\n",
            "\n",
            "Epoch 00005: val_acc improved from 0.84616 to 0.84762, saving model to best_model_bi_LSTM.h5\n",
            "Epoch 6/15\n",
            "428/428 [==============================] - 7s 16ms/step - loss: 0.2657 - acc: 0.8898 - val_loss: 0.3502 - val_acc: 0.8483\n",
            "\n",
            "Epoch 00006: val_acc improved from 0.84762 to 0.84832, saving model to best_model_bi_LSTM.h5\n",
            "Epoch 7/15\n",
            "428/428 [==============================] - 7s 16ms/step - loss: 0.2478 - acc: 0.8995 - val_loss: 0.3493 - val_acc: 0.8498\n",
            "\n",
            "Epoch 00007: val_acc improved from 0.84832 to 0.84978, saving model to best_model_bi_LSTM.h5\n",
            "Epoch 8/15\n",
            "428/428 [==============================] - 7s 16ms/step - loss: 0.2341 - acc: 0.9057 - val_loss: 0.3578 - val_acc: 0.8480\n",
            "\n",
            "Epoch 00008: val_acc did not improve from 0.84978\n",
            "Epoch 9/15\n",
            "428/428 [==============================] - 7s 16ms/step - loss: 0.2182 - acc: 0.9138 - val_loss: 0.3649 - val_acc: 0.8418\n",
            "\n",
            "Epoch 00009: val_acc did not improve from 0.84978\n",
            "Epoch 10/15\n",
            "428/428 [==============================] - 7s 16ms/step - loss: 0.2084 - acc: 0.9175 - val_loss: 0.3906 - val_acc: 0.8451\n",
            "\n",
            "Epoch 00010: val_acc did not improve from 0.84978\n",
            "Epoch 11/15\n",
            "428/428 [==============================] - 8s 18ms/step - loss: 0.1949 - acc: 0.9242 - val_loss: 0.3975 - val_acc: 0.8411\n",
            "\n",
            "Epoch 00011: val_acc did not improve from 0.84978\n",
            "Epoch 00011: early stopping\n"
          ],
          "name": "stdout"
        }
      ]
    },
    {
      "cell_type": "code",
      "metadata": {
        "id": "bA0dX_nxTcpD",
        "colab": {
          "base_uri": "https://localhost:8080/",
          "height": 397
        },
        "outputId": "8b1526d8-0803-4930-d59c-c9c0788d5e5e"
      },
      "source": [
        "tf.keras.utils.plot_model(model, show_shapes=True, dpi=90) "
      ],
      "execution_count": null,
      "outputs": [
        {
          "output_type": "execute_result",
          "data": {
            "image/png": "[encoded data removed]",
            "text/plain": [
              "<IPython.core.display.Image object>"
            ]
          },
          "metadata": {
            "tags": []
          },
          "execution_count": 34
        }
      ]
    },
    {
      "cell_type": "code",
      "metadata": {
        "id": "HynUTJImTcrv",
        "colab": {
          "base_uri": "https://localhost:8080/"
        },
        "outputId": "8b6d2469-86ad-4c47-e2ba-6f61e7291018"
      },
      "source": [
        "loss, acc = model.evaluate(X_test, Y_test, batch_size=32)\r\n",
        "\r\n",
        "print('Test loss {0:.4f}:'.format(loss))\r\n",
        "print('Test accuracy {0:.4f}:'.format(acc))"
      ],
      "execution_count": null,
      "outputs": [
        {
          "output_type": "stream",
          "text": [
            "1431/1431 [==============================] - 6s 4ms/step - loss: 0.4021 - acc: 0.8393\n",
            "Test loss 0.4021:\n",
            "Test accuracy 0.8393:\n"
          ],
          "name": "stdout"
        }
      ]
    },
    {
      "cell_type": "code",
      "metadata": {
        "id": "SokFJYqIUSTU"
      },
      "source": [
        "y_pred = (model.predict(X_test)>=0.5).astype('int')"
      ],
      "execution_count": null,
      "outputs": []
    },
    {
      "cell_type": "code",
      "metadata": {
        "id": "Qkz7AagtUSV1",
        "colab": {
          "base_uri": "https://localhost:8080/"
        },
        "outputId": "c55e392a-5831-4072-a52e-7e8a080dfd2d"
      },
      "source": [
        "# Evaluate the model\r\n",
        "from sklearn.metrics import classification_report, confusion_matrix\r\n",
        "\r\n",
        "print(confusion_matrix(Y_test, y_pred))\r\n",
        "print(classification_report(Y_test, y_pred))"
      ],
      "execution_count": null,
      "outputs": [
        {
          "output_type": "stream",
          "text": [
            "[[19661  3288]\n",
            " [ 4071 18760]]\n",
            "              precision    recall  f1-score   support\n",
            "\n",
            "           0       0.83      0.86      0.84     22949\n",
            "           1       0.85      0.82      0.84     22831\n",
            "\n",
            "    accuracy                           0.84     45780\n",
            "   macro avg       0.84      0.84      0.84     45780\n",
            "weighted avg       0.84      0.84      0.84     45780\n",
            "\n"
          ],
          "name": "stdout"
        }
      ]
    },
    {
      "cell_type": "code",
      "metadata": {
        "id": "_I-P5buqUWUj",
        "colab": {
          "base_uri": "https://localhost:8080/"
        },
        "outputId": "2d48a0b1-b99c-4a96-e610-6168fc98d048"
      },
      "source": [
        "from sklearn.metrics import precision_score, recall_score, f1_score\r\n",
        "p = precision_score(Y_test, y_pred)\r\n",
        "print('precision_score {0:.4f}'.format(p))\r\n",
        "r = recall_score(Y_test, y_pred)\r\n",
        "print('recall_score {0:.4f}'.format(r))\r\n",
        "f1 = f1_score(Y_test, y_pred)\r\n",
        "print('f1_score {0:.4f}'.format(f1))"
      ],
      "execution_count": null,
      "outputs": [
        {
          "output_type": "stream",
          "text": [
            "precision_score 0.8509\n",
            "recall_score 0.8217\n",
            "f1_score 0.8360\n"
          ],
          "name": "stdout"
        }
      ]
    },
    {
      "cell_type": "code",
      "metadata": {
        "id": "LtpHJ4ktUSX7"
      },
      "source": [
        ""
      ],
      "execution_count": null,
      "outputs": []
    },
    {
      "cell_type": "code",
      "metadata": {
        "id": "xW37n0c2USZ8"
      },
      "source": [
        ""
      ],
      "execution_count": null,
      "outputs": []
    },
    {
      "cell_type": "code",
      "metadata": {
        "id": "xfYCBrWLDelx"
      },
      "source": [
        "class BahdanauAttention(tf.keras.Model):\r\n",
        "  def __init__(self, units):\r\n",
        "    super(BahdanauAttention, self).__init__()\r\n",
        "    self.W1 = Dense(units)\r\n",
        "    self.W2 = Dense(units)\r\n",
        "    self.V = Dense(1)\r\n",
        "\r\n",
        "  def call(self, values, query): # 단, key와 value는 같음\r\n",
        "    # query shape == (batch_size, hidden size)\r\n",
        "    # hidden_with_time_axis shape == (batch_size, 1, hidden size)\r\n",
        "    # score 계산을 위해 뒤에서 할 덧셈을 위해서 차원을 변경해줍니다.\r\n",
        "    hidden_with_time_axis = tf.expand_dims(query, 1)\r\n",
        "\r\n",
        "    # score shape == (batch_size, max_length, 1)\r\n",
        "    # we get 1 at the last axis because we are applying score to self.V\r\n",
        "    # the shape of the tensor before applying self.V is (batch_size, max_length, units)\r\n",
        "    score = self.V(tf.nn.tanh(\r\n",
        "        self.W1(values) + self.W2(hidden_with_time_axis)))\r\n",
        "\r\n",
        "    # attention_weights shape == (batch_size, max_length, 1)\r\n",
        "    attention_weights = tf.nn.softmax(score, axis=1)\r\n",
        "\r\n",
        "    # context_vector shape after sum == (batch_size, hidden_size)\r\n",
        "    context_vector = attention_weights * values\r\n",
        "    context_vector = tf.reduce_sum(context_vector, axis=1)\r\n",
        "\r\n",
        "    return context_vector, attention_weights"
      ],
      "execution_count": null,
      "outputs": []
    },
    {
      "cell_type": "code",
      "metadata": {
        "id": "5MQQOmr1DQEk"
      },
      "source": [
        "vocab_size = 20000"
      ],
      "execution_count": null,
      "outputs": []
    },
    {
      "cell_type": "code",
      "metadata": {
        "id": "jtQ1d-s5DI4G"
      },
      "source": [
        "from tensorflow.keras.layers import Dense, Embedding, Bidirectional, LSTM, Concatenate, Dropout\r\n",
        "from tensorflow.keras import Input, Model\r\n",
        "from tensorflow.keras import optimizers\r\n",
        "import os\r\n",
        "\r\n",
        "sequence_input = Input(shape=(max_len,), dtype='int32')\r\n",
        "embedded_sequences = Embedding(max_words, 128, input_length=max_len, mask_zero = True)(sequence_input)"
      ],
      "execution_count": null,
      "outputs": []
    },
    {
      "cell_type": "code",
      "metadata": {
        "id": "QF-vs5rzDSFk"
      },
      "source": [
        "lstm = Bidirectional(LSTM(100, dropout=0.5, return_sequences = True))(embedded_sequences)\r\n",
        "\r\n",
        "lstm, forward_h, forward_c, backward_h, backward_c = Bidirectional \\\r\n",
        "  (LSTM(100, dropout=0.5, return_sequences=True, return_state=True))(lstm)"
      ],
      "execution_count": null,
      "outputs": []
    },
    {
      "cell_type": "code",
      "metadata": {
        "colab": {
          "base_uri": "https://localhost:8080/"
        },
        "id": "GyNQzDgiDXPk",
        "outputId": "3a97d844-24e0-4332-db91-b83bbf7fdf27"
      },
      "source": [
        "print(lstm.shape, forward_h.shape, forward_c.shape, backward_h.shape, backward_c.shape)"
      ],
      "execution_count": null,
      "outputs": [
        {
          "output_type": "stream",
          "text": [
            "(None, 30, 200) (None, 100) (None, 100) (None, 100) (None, 100)\n"
          ],
          "name": "stdout"
        }
      ]
    },
    {
      "cell_type": "code",
      "metadata": {
        "id": "eUXpmUKBDaL0"
      },
      "source": [
        "state_h = Concatenate()([forward_h, backward_h]) # 은닉 상태\r\n",
        "state_c = Concatenate()([forward_c, backward_c]) # 셀 상태"
      ],
      "execution_count": null,
      "outputs": []
    },
    {
      "cell_type": "code",
      "metadata": {
        "id": "W3a_YiUPDbor"
      },
      "source": [
        "attention = BahdanauAttention(100) # 가중치 크기 정의\r\n",
        "context_vector, attention_weights = attention(lstm, state_h)"
      ],
      "execution_count": null,
      "outputs": []
    },
    {
      "cell_type": "code",
      "metadata": {
        "id": "R--FxlaTCBY3"
      },
      "source": [
        "dense1 = Dense(20, activation=\"relu\")(context_vector)\r\n",
        "dropout = Dropout(0.5)(dense1)\r\n",
        "output = Dense(1, activation=\"sigmoid\")(dropout)\r\n",
        "model = Model(inputs=sequence_input, outputs=output)\r\n",
        "\r\n",
        "model.compile(loss='binary_crossentropy', optimizer='adam', metrics=['acc'])"
      ],
      "execution_count": null,
      "outputs": []
    },
    {
      "cell_type": "code",
      "metadata": {
        "id": "4bxctIFsu8Di"
      },
      "source": [
        "es = EarlyStopping(monitor='val_loss', mode='min', verbose=1, patience=4)\r\n",
        "mc = ModelCheckpoint('best_model_LSTM.h5', monitor='val_acc', mode='max', verbose=1, save_best_only=True)"
      ],
      "execution_count": null,
      "outputs": []
    },
    {
      "cell_type": "code",
      "metadata": {
        "colab": {
          "base_uri": "https://localhost:8080/"
        },
        "id": "PpYP6nF-q_Qr",
        "outputId": "3901630b-466d-4f2a-8304-7ffa08b0724c"
      },
      "source": [
        "#hist = model.fit(X_train, Y_train, batch_size=32, epochs=20\r\n",
        "#                 , callbacks=[es, mc], validation_split=0.2)\r\n",
        "history = model.fit(X_train, Y_train, epochs = 20, \r\n",
        "                    batch_size = 32, validation_data=(X_test, Y_test), verbose=1)\r\n",
        "\r\n",
        "#model.compile(optimizer='rmsprop', loss='binary_crossentropy', metrics=['acc'])\r\n",
        "#history = model.fit(X_train, y_train, epochs=15, callbacks=[es, mc], batch_size=60, validation_split=0.2)"
      ],
      "execution_count": null,
      "outputs": [
        {
          "output_type": "stream",
          "text": [
            "Epoch 1/20\n",
            "4279/4279 [==============================] - 1468s 340ms/step - loss: 0.1747 - acc: 0.9327 - val_loss: 0.6008 - val_acc: 0.8372\n",
            "Epoch 2/20\n",
            "4279/4279 [==============================] - 1429s 334ms/step - loss: 0.1505 - acc: 0.9420 - val_loss: 0.5748 - val_acc: 0.8355\n",
            "Epoch 3/20\n",
            "4279/4279 [==============================] - 1402s 328ms/step - loss: 0.1431 - acc: 0.9448 - val_loss: 0.6235 - val_acc: 0.8317\n",
            "Epoch 4/20\n",
            "4279/4279 [==============================] - 1372s 321ms/step - loss: 0.1401 - acc: 0.9469 - val_loss: 0.6285 - val_acc: 0.8367\n",
            "Epoch 5/20\n",
            "4279/4279 [==============================] - 1381s 323ms/step - loss: 0.1340 - acc: 0.9488 - val_loss: 0.7152 - val_acc: 0.8348\n",
            "Epoch 6/20\n",
            "4279/4279 [==============================] - 1367s 319ms/step - loss: 0.1289 - acc: 0.9500 - val_loss: 0.7230 - val_acc: 0.8355\n",
            "Epoch 7/20\n",
            "4279/4279 [==============================] - 1366s 319ms/step - loss: 0.1263 - acc: 0.9528 - val_loss: 0.8267 - val_acc: 0.8341\n",
            "Epoch 8/20\n",
            "4279/4279 [==============================] - 1432s 335ms/step - loss: 0.1215 - acc: 0.9542 - val_loss: 0.7846 - val_acc: 0.8353\n",
            "Epoch 9/20\n",
            "4279/4279 [==============================] - 1462s 342ms/step - loss: 0.1164 - acc: 0.9559 - val_loss: 0.7979 - val_acc: 0.8355\n",
            "Epoch 10/20\n",
            "4279/4279 [==============================] - 1463s 342ms/step - loss: 0.1145 - acc: 0.9565 - val_loss: 0.8024 - val_acc: 0.8317\n",
            "Epoch 11/20\n",
            "4279/4279 [==============================] - 1462s 342ms/step - loss: 0.1126 - acc: 0.9577 - val_loss: 0.8706 - val_acc: 0.8322\n",
            "Epoch 12/20\n",
            "4279/4279 [==============================] - 1436s 336ms/step - loss: 0.1106 - acc: 0.9587 - val_loss: 0.9122 - val_acc: 0.8350\n",
            "Epoch 13/20\n",
            "4279/4279 [==============================] - 1393s 326ms/step - loss: 0.1074 - acc: 0.9599 - val_loss: 0.8864 - val_acc: 0.8312\n",
            "Epoch 14/20\n",
            "4279/4279 [==============================] - 1357s 317ms/step - loss: 0.1066 - acc: 0.9604 - val_loss: 0.9189 - val_acc: 0.8329\n",
            "Epoch 15/20\n",
            "4279/4279 [==============================] - 1391s 325ms/step - loss: 0.1040 - acc: 0.9606 - val_loss: 0.9729 - val_acc: 0.8325\n",
            "Epoch 16/20\n",
            "4279/4279 [==============================] - 1427s 333ms/step - loss: 0.1045 - acc: 0.9614 - val_loss: 0.9674 - val_acc: 0.8347\n",
            "Epoch 17/20\n",
            "4279/4279 [==============================] - 1427s 333ms/step - loss: 0.1017 - acc: 0.9626 - val_loss: 0.9446 - val_acc: 0.8340\n",
            "Epoch 18/20\n",
            "4279/4279 [==============================] - 1328s 310ms/step - loss: 0.1018 - acc: 0.9620 - val_loss: 0.9561 - val_acc: 0.8338\n",
            "Epoch 19/20\n",
            "4279/4279 [==============================] - 1283s 300ms/step - loss: 0.0977 - acc: 0.9638 - val_loss: 1.0257 - val_acc: 0.8316\n",
            "Epoch 20/20\n",
            "4279/4279 [==============================] - 1277s 298ms/step - loss: 0.0984 - acc: 0.9641 - val_loss: 0.9596 - val_acc: 0.8337\n"
          ],
          "name": "stdout"
        }
      ]
    },
    {
      "cell_type": "code",
      "metadata": {
        "colab": {
          "base_uri": "https://localhost:8080/",
          "height": 172
        },
        "id": "-KVu7Xg2D5BY",
        "outputId": "4f5f247e-cdcd-4acc-de14-b6c7fca0e502"
      },
      "source": [
        "Dense.clear"
      ],
      "execution_count": null,
      "outputs": [
        {
          "output_type": "error",
          "ename": "AttributeError",
          "evalue": "ignored",
          "traceback": [
            "\u001b[0;31m---------------------------------------------------------------------------\u001b[0m",
            "\u001b[0;31mAttributeError\u001b[0m                            Traceback (most recent call last)",
            "\u001b[0;32m<ipython-input-92-2cd1d09d03a0>\u001b[0m in \u001b[0;36m<module>\u001b[0;34m()\u001b[0m\n\u001b[0;32m----> 1\u001b[0;31m \u001b[0mDense\u001b[0m\u001b[0;34m.\u001b[0m\u001b[0mclear\u001b[0m\u001b[0;34m\u001b[0m\u001b[0;34m\u001b[0m\u001b[0m\n\u001b[0m",
            "\u001b[0;31mAttributeError\u001b[0m: type object 'Dense' has no attribute 'clear'"
          ]
        }
      ]
    },
    {
      "cell_type": "code",
      "metadata": {
        "id": "iK48idgkD5O1"
      },
      "source": [
        "model1 = Sequential()\r\n",
        "model1.add(Embedding(vocab_size, 100))\r\n",
        "model1.add(Bidirectional(LSTM(100)))\r\n",
        "model1.add(Dense(1, activation='sigmoid'))"
      ],
      "execution_count": null,
      "outputs": []
    },
    {
      "cell_type": "code",
      "metadata": {
        "id": "nijL5Ot8D5Rf"
      },
      "source": [
        "es = EarlyStopping(monitor='val_loss', mode='min', verbose=1, patience=4)\r\n",
        "mc = ModelCheckpoint('best_model_bi_LSTM.h5', monitor='val_acc', mode='max', verbose=1, save_best_only=True)"
      ],
      "execution_count": null,
      "outputs": []
    },
    {
      "cell_type": "code",
      "metadata": {
        "colab": {
          "base_uri": "https://localhost:8080/",
          "height": 682
        },
        "id": "d2IeWz1ZEAhw",
        "outputId": "5a8d244d-f15a-4124-9759-979f513603ba"
      },
      "source": [
        "model.compile(optimizer='rmsprop', loss='binary_crossentropy', metrics=['acc'])\r\n",
        "history = model.fit(X_train, Y_train, epochs=15, callbacks=[es, mc], batch_size=256, validation_split=0.2)"
      ],
      "execution_count": null,
      "outputs": [
        {
          "output_type": "stream",
          "text": [
            "Epoch 1/15\n"
          ],
          "name": "stdout"
        },
        {
          "output_type": "error",
          "ename": "InvalidArgumentError",
          "evalue": "ignored",
          "traceback": [
            "\u001b[0;31m---------------------------------------------------------------------------\u001b[0m",
            "\u001b[0;31mInvalidArgumentError\u001b[0m                      Traceback (most recent call last)",
            "\u001b[0;32m<ipython-input-91-54d1f5fd3e4a>\u001b[0m in \u001b[0;36m<module>\u001b[0;34m()\u001b[0m\n\u001b[1;32m      1\u001b[0m \u001b[0mmodel\u001b[0m\u001b[0;34m.\u001b[0m\u001b[0mcompile\u001b[0m\u001b[0;34m(\u001b[0m\u001b[0moptimizer\u001b[0m\u001b[0;34m=\u001b[0m\u001b[0;34m'rmsprop'\u001b[0m\u001b[0;34m,\u001b[0m \u001b[0mloss\u001b[0m\u001b[0;34m=\u001b[0m\u001b[0;34m'binary_crossentropy'\u001b[0m\u001b[0;34m,\u001b[0m \u001b[0mmetrics\u001b[0m\u001b[0;34m=\u001b[0m\u001b[0;34m[\u001b[0m\u001b[0;34m'acc'\u001b[0m\u001b[0;34m]\u001b[0m\u001b[0;34m)\u001b[0m\u001b[0;34m\u001b[0m\u001b[0;34m\u001b[0m\u001b[0m\n\u001b[0;32m----> 2\u001b[0;31m \u001b[0mhistory\u001b[0m \u001b[0;34m=\u001b[0m \u001b[0mmodel\u001b[0m\u001b[0;34m.\u001b[0m\u001b[0mfit\u001b[0m\u001b[0;34m(\u001b[0m\u001b[0mX_train\u001b[0m\u001b[0;34m,\u001b[0m \u001b[0mY_train\u001b[0m\u001b[0;34m,\u001b[0m \u001b[0mepochs\u001b[0m\u001b[0;34m=\u001b[0m\u001b[0;36m15\u001b[0m\u001b[0;34m,\u001b[0m \u001b[0mcallbacks\u001b[0m\u001b[0;34m=\u001b[0m\u001b[0;34m[\u001b[0m\u001b[0mes\u001b[0m\u001b[0;34m,\u001b[0m \u001b[0mmc\u001b[0m\u001b[0;34m]\u001b[0m\u001b[0;34m,\u001b[0m \u001b[0mbatch_size\u001b[0m\u001b[0;34m=\u001b[0m\u001b[0;36m256\u001b[0m\u001b[0;34m,\u001b[0m \u001b[0mvalidation_split\u001b[0m\u001b[0;34m=\u001b[0m\u001b[0;36m0.2\u001b[0m\u001b[0;34m)\u001b[0m\u001b[0;34m\u001b[0m\u001b[0;34m\u001b[0m\u001b[0m\n\u001b[0m",
            "\u001b[0;32m/usr/local/lib/python3.6/dist-packages/tensorflow/python/keras/engine/training.py\u001b[0m in \u001b[0;36mfit\u001b[0;34m(self, x, y, batch_size, epochs, verbose, callbacks, validation_split, validation_data, shuffle, class_weight, sample_weight, initial_epoch, steps_per_epoch, validation_steps, validation_batch_size, validation_freq, max_queue_size, workers, use_multiprocessing)\u001b[0m\n\u001b[1;32m   1098\u001b[0m                 _r=1):\n\u001b[1;32m   1099\u001b[0m               \u001b[0mcallbacks\u001b[0m\u001b[0;34m.\u001b[0m\u001b[0mon_train_batch_begin\u001b[0m\u001b[0;34m(\u001b[0m\u001b[0mstep\u001b[0m\u001b[0;34m)\u001b[0m\u001b[0;34m\u001b[0m\u001b[0;34m\u001b[0m\u001b[0m\n\u001b[0;32m-> 1100\u001b[0;31m               \u001b[0mtmp_logs\u001b[0m \u001b[0;34m=\u001b[0m \u001b[0mself\u001b[0m\u001b[0;34m.\u001b[0m\u001b[0mtrain_function\u001b[0m\u001b[0;34m(\u001b[0m\u001b[0miterator\u001b[0m\u001b[0;34m)\u001b[0m\u001b[0;34m\u001b[0m\u001b[0;34m\u001b[0m\u001b[0m\n\u001b[0m\u001b[1;32m   1101\u001b[0m               \u001b[0;32mif\u001b[0m \u001b[0mdata_handler\u001b[0m\u001b[0;34m.\u001b[0m\u001b[0mshould_sync\u001b[0m\u001b[0;34m:\u001b[0m\u001b[0;34m\u001b[0m\u001b[0;34m\u001b[0m\u001b[0m\n\u001b[1;32m   1102\u001b[0m                 \u001b[0mcontext\u001b[0m\u001b[0;34m.\u001b[0m\u001b[0masync_wait\u001b[0m\u001b[0;34m(\u001b[0m\u001b[0;34m)\u001b[0m\u001b[0;34m\u001b[0m\u001b[0;34m\u001b[0m\u001b[0m\n",
            "\u001b[0;32m/usr/local/lib/python3.6/dist-packages/tensorflow/python/eager/def_function.py\u001b[0m in \u001b[0;36m__call__\u001b[0;34m(self, *args, **kwds)\u001b[0m\n\u001b[1;32m    826\u001b[0m     \u001b[0mtracing_count\u001b[0m \u001b[0;34m=\u001b[0m \u001b[0mself\u001b[0m\u001b[0;34m.\u001b[0m\u001b[0mexperimental_get_tracing_count\u001b[0m\u001b[0;34m(\u001b[0m\u001b[0;34m)\u001b[0m\u001b[0;34m\u001b[0m\u001b[0;34m\u001b[0m\u001b[0m\n\u001b[1;32m    827\u001b[0m     \u001b[0;32mwith\u001b[0m \u001b[0mtrace\u001b[0m\u001b[0;34m.\u001b[0m\u001b[0mTrace\u001b[0m\u001b[0;34m(\u001b[0m\u001b[0mself\u001b[0m\u001b[0;34m.\u001b[0m\u001b[0m_name\u001b[0m\u001b[0;34m)\u001b[0m \u001b[0;32mas\u001b[0m \u001b[0mtm\u001b[0m\u001b[0;34m:\u001b[0m\u001b[0;34m\u001b[0m\u001b[0;34m\u001b[0m\u001b[0m\n\u001b[0;32m--> 828\u001b[0;31m       \u001b[0mresult\u001b[0m \u001b[0;34m=\u001b[0m \u001b[0mself\u001b[0m\u001b[0;34m.\u001b[0m\u001b[0m_call\u001b[0m\u001b[0;34m(\u001b[0m\u001b[0;34m*\u001b[0m\u001b[0margs\u001b[0m\u001b[0;34m,\u001b[0m \u001b[0;34m**\u001b[0m\u001b[0mkwds\u001b[0m\u001b[0;34m)\u001b[0m\u001b[0;34m\u001b[0m\u001b[0;34m\u001b[0m\u001b[0m\n\u001b[0m\u001b[1;32m    829\u001b[0m       \u001b[0mcompiler\u001b[0m \u001b[0;34m=\u001b[0m \u001b[0;34m\"xla\"\u001b[0m \u001b[0;32mif\u001b[0m \u001b[0mself\u001b[0m\u001b[0;34m.\u001b[0m\u001b[0m_experimental_compile\u001b[0m \u001b[0;32melse\u001b[0m \u001b[0;34m\"nonXla\"\u001b[0m\u001b[0;34m\u001b[0m\u001b[0;34m\u001b[0m\u001b[0m\n\u001b[1;32m    830\u001b[0m       \u001b[0mnew_tracing_count\u001b[0m \u001b[0;34m=\u001b[0m \u001b[0mself\u001b[0m\u001b[0;34m.\u001b[0m\u001b[0mexperimental_get_tracing_count\u001b[0m\u001b[0;34m(\u001b[0m\u001b[0;34m)\u001b[0m\u001b[0;34m\u001b[0m\u001b[0;34m\u001b[0m\u001b[0m\n",
            "\u001b[0;32m/usr/local/lib/python3.6/dist-packages/tensorflow/python/eager/def_function.py\u001b[0m in \u001b[0;36m_call\u001b[0;34m(self, *args, **kwds)\u001b[0m\n\u001b[1;32m    886\u001b[0m         \u001b[0;31m# Lifting succeeded, so variables are initialized and we can run the\u001b[0m\u001b[0;34m\u001b[0m\u001b[0;34m\u001b[0m\u001b[0;34m\u001b[0m\u001b[0m\n\u001b[1;32m    887\u001b[0m         \u001b[0;31m# stateless function.\u001b[0m\u001b[0;34m\u001b[0m\u001b[0;34m\u001b[0m\u001b[0;34m\u001b[0m\u001b[0m\n\u001b[0;32m--> 888\u001b[0;31m         \u001b[0;32mreturn\u001b[0m \u001b[0mself\u001b[0m\u001b[0;34m.\u001b[0m\u001b[0m_stateless_fn\u001b[0m\u001b[0;34m(\u001b[0m\u001b[0;34m*\u001b[0m\u001b[0margs\u001b[0m\u001b[0;34m,\u001b[0m \u001b[0;34m**\u001b[0m\u001b[0mkwds\u001b[0m\u001b[0;34m)\u001b[0m\u001b[0;34m\u001b[0m\u001b[0;34m\u001b[0m\u001b[0m\n\u001b[0m\u001b[1;32m    889\u001b[0m     \u001b[0;32melse\u001b[0m\u001b[0;34m:\u001b[0m\u001b[0;34m\u001b[0m\u001b[0;34m\u001b[0m\u001b[0m\n\u001b[1;32m    890\u001b[0m       \u001b[0m_\u001b[0m\u001b[0;34m,\u001b[0m \u001b[0m_\u001b[0m\u001b[0;34m,\u001b[0m \u001b[0m_\u001b[0m\u001b[0;34m,\u001b[0m \u001b[0mfiltered_flat_args\u001b[0m \u001b[0;34m=\u001b[0m\u001b[0;31m \u001b[0m\u001b[0;31m\\\u001b[0m\u001b[0;34m\u001b[0m\u001b[0;34m\u001b[0m\u001b[0m\n",
            "\u001b[0;32m/usr/local/lib/python3.6/dist-packages/tensorflow/python/eager/function.py\u001b[0m in \u001b[0;36m__call__\u001b[0;34m(self, *args, **kwargs)\u001b[0m\n\u001b[1;32m   2941\u001b[0m        filtered_flat_args) = self._maybe_define_function(args, kwargs)\n\u001b[1;32m   2942\u001b[0m     return graph_function._call_flat(\n\u001b[0;32m-> 2943\u001b[0;31m         filtered_flat_args, captured_inputs=graph_function.captured_inputs)  # pylint: disable=protected-access\n\u001b[0m\u001b[1;32m   2944\u001b[0m \u001b[0;34m\u001b[0m\u001b[0m\n\u001b[1;32m   2945\u001b[0m   \u001b[0;34m@\u001b[0m\u001b[0mproperty\u001b[0m\u001b[0;34m\u001b[0m\u001b[0;34m\u001b[0m\u001b[0m\n",
            "\u001b[0;32m/usr/local/lib/python3.6/dist-packages/tensorflow/python/eager/function.py\u001b[0m in \u001b[0;36m_call_flat\u001b[0;34m(self, args, captured_inputs, cancellation_manager)\u001b[0m\n\u001b[1;32m   1917\u001b[0m       \u001b[0;31m# No tape is watching; skip to running the function.\u001b[0m\u001b[0;34m\u001b[0m\u001b[0;34m\u001b[0m\u001b[0;34m\u001b[0m\u001b[0m\n\u001b[1;32m   1918\u001b[0m       return self._build_call_outputs(self._inference_function.call(\n\u001b[0;32m-> 1919\u001b[0;31m           ctx, args, cancellation_manager=cancellation_manager))\n\u001b[0m\u001b[1;32m   1920\u001b[0m     forward_backward = self._select_forward_and_backward_functions(\n\u001b[1;32m   1921\u001b[0m         \u001b[0margs\u001b[0m\u001b[0;34m,\u001b[0m\u001b[0;34m\u001b[0m\u001b[0;34m\u001b[0m\u001b[0m\n",
            "\u001b[0;32m/usr/local/lib/python3.6/dist-packages/tensorflow/python/eager/function.py\u001b[0m in \u001b[0;36mcall\u001b[0;34m(self, ctx, args, cancellation_manager)\u001b[0m\n\u001b[1;32m    558\u001b[0m               \u001b[0minputs\u001b[0m\u001b[0;34m=\u001b[0m\u001b[0margs\u001b[0m\u001b[0;34m,\u001b[0m\u001b[0;34m\u001b[0m\u001b[0;34m\u001b[0m\u001b[0m\n\u001b[1;32m    559\u001b[0m               \u001b[0mattrs\u001b[0m\u001b[0;34m=\u001b[0m\u001b[0mattrs\u001b[0m\u001b[0;34m,\u001b[0m\u001b[0;34m\u001b[0m\u001b[0;34m\u001b[0m\u001b[0m\n\u001b[0;32m--> 560\u001b[0;31m               ctx=ctx)\n\u001b[0m\u001b[1;32m    561\u001b[0m         \u001b[0;32melse\u001b[0m\u001b[0;34m:\u001b[0m\u001b[0;34m\u001b[0m\u001b[0;34m\u001b[0m\u001b[0m\n\u001b[1;32m    562\u001b[0m           outputs = execute.execute_with_cancellation(\n",
            "\u001b[0;32m/usr/local/lib/python3.6/dist-packages/tensorflow/python/eager/execute.py\u001b[0m in \u001b[0;36mquick_execute\u001b[0;34m(op_name, num_outputs, inputs, attrs, ctx, name)\u001b[0m\n\u001b[1;32m     58\u001b[0m     \u001b[0mctx\u001b[0m\u001b[0;34m.\u001b[0m\u001b[0mensure_initialized\u001b[0m\u001b[0;34m(\u001b[0m\u001b[0;34m)\u001b[0m\u001b[0;34m\u001b[0m\u001b[0;34m\u001b[0m\u001b[0m\n\u001b[1;32m     59\u001b[0m     tensors = pywrap_tfe.TFE_Py_Execute(ctx._handle, device_name, op_name,\n\u001b[0;32m---> 60\u001b[0;31m                                         inputs, attrs, num_outputs)\n\u001b[0m\u001b[1;32m     61\u001b[0m   \u001b[0;32mexcept\u001b[0m \u001b[0mcore\u001b[0m\u001b[0;34m.\u001b[0m\u001b[0m_NotOkStatusException\u001b[0m \u001b[0;32mas\u001b[0m \u001b[0me\u001b[0m\u001b[0;34m:\u001b[0m\u001b[0;34m\u001b[0m\u001b[0;34m\u001b[0m\u001b[0m\n\u001b[1;32m     62\u001b[0m     \u001b[0;32mif\u001b[0m \u001b[0mname\u001b[0m \u001b[0;32mis\u001b[0m \u001b[0;32mnot\u001b[0m \u001b[0;32mNone\u001b[0m\u001b[0;34m:\u001b[0m\u001b[0;34m\u001b[0m\u001b[0;34m\u001b[0m\u001b[0m\n",
            "\u001b[0;31mInvalidArgumentError\u001b[0m: 2 root error(s) found.\n  (0) Invalid argument:  indices[232,6] = 20677 is not in [0, 20000)\n\t [[node sequential_4/embedding_5/embedding_lookup (defined at <ipython-input-91-54d1f5fd3e4a>:2) ]]\n\t [[sequential_4/embedding_5/embedding_lookup/_20]]\n  (1) Invalid argument:  indices[232,6] = 20677 is not in [0, 20000)\n\t [[node sequential_4/embedding_5/embedding_lookup (defined at <ipython-input-91-54d1f5fd3e4a>:2) ]]\n0 successful operations.\n0 derived errors ignored. [Op:__inference_train_function_450297]\n\nErrors may have originated from an input operation.\nInput Source operations connected to node sequential_4/embedding_5/embedding_lookup:\n sequential_4/embedding_5/embedding_lookup/448020 (defined at /usr/lib/python3.6/contextlib.py:81)\n\nInput Source operations connected to node sequential_4/embedding_5/embedding_lookup:\n sequential_4/embedding_5/embedding_lookup/448020 (defined at /usr/lib/python3.6/contextlib.py:81)\n\nFunction call stack:\ntrain_function -> train_function\n"
          ]
        }
      ]
    },
    {
      "cell_type": "code",
      "metadata": {
        "id": "3rZa63coEAj1"
      },
      "source": [
        ""
      ],
      "execution_count": null,
      "outputs": []
    },
    {
      "cell_type": "code",
      "metadata": {
        "colab": {
          "base_uri": "https://localhost:8080/",
          "height": 397
        },
        "id": "n-GoYhZ39IYG",
        "outputId": "43c56e0c-0032-42ab-9e69-c9a30be07e93"
      },
      "source": [
        "tf.keras.utils.plot_model(model1, show_shapes=True, dpi=90) "
      ],
      "execution_count": null,
      "outputs": [
        {
          "output_type": "execute_result",
          "data": {
            "image/png": "[encoded data removed]",
            "text/plain": [
              "<IPython.core.display.Image object>"
            ]
          },
          "metadata": {
            "tags": []
          },
          "execution_count": 87
        }
      ]
    },
    {
      "cell_type": "code",
      "metadata": {
        "colab": {
          "base_uri": "https://localhost:8080/"
        },
        "id": "Tji76j_Eq_S5",
        "outputId": "36df6e7d-2319-4236-aa97-c95ffc7b6b56"
      },
      "source": [
        "loss, acc = model.evaluate(X_test, Y_test, batch_size=32)\r\n",
        "\r\n",
        "print('Test loss {0:.4f}:'.format(loss))\r\n",
        "print('Test accuracy {0:.4f}:'.format(acc))"
      ],
      "execution_count": null,
      "outputs": [
        {
          "output_type": "stream",
          "text": [
            "1431/1431 [==============================] - 51s 36ms/step - loss: 0.9596 - acc: 0.8337\n",
            "Test loss 0.9596:\n",
            "Test accuracy 0.8337:\n"
          ],
          "name": "stdout"
        }
      ]
    },
    {
      "cell_type": "code",
      "metadata": {
        "id": "09yVNm1OMtgT"
      },
      "source": [
        "y_pred = (model.predict(X_test)>=0.5).astype('int')"
      ],
      "execution_count": null,
      "outputs": []
    },
    {
      "cell_type": "code",
      "metadata": {
        "colab": {
          "base_uri": "https://localhost:8080/"
        },
        "id": "9aVLqf6qra51",
        "outputId": "d86d7660-1f3d-4b74-bc72-d4aeb7370831"
      },
      "source": [
        "# Evaluate the model\r\n",
        "from sklearn.metrics import classification_report, confusion_matrix\r\n",
        "\r\n",
        "print(confusion_matrix(Y_test, y_pred))\r\n",
        "print(classification_report(Y_test, y_pred))"
      ],
      "execution_count": null,
      "outputs": [
        {
          "output_type": "stream",
          "text": [
            "[[18989  3960]\n",
            " [ 3654 19177]]\n",
            "              precision    recall  f1-score   support\n",
            "\n",
            "           0       0.84      0.83      0.83     22949\n",
            "           1       0.83      0.84      0.83     22831\n",
            "\n",
            "    accuracy                           0.83     45780\n",
            "   macro avg       0.83      0.83      0.83     45780\n",
            "weighted avg       0.83      0.83      0.83     45780\n",
            "\n"
          ],
          "name": "stdout"
        }
      ]
    },
    {
      "cell_type": "code",
      "metadata": {
        "colab": {
          "base_uri": "https://localhost:8080/"
        },
        "id": "ryzioefyra8C",
        "outputId": "3923d56c-2bf4-46b9-c03a-dcb83556d190"
      },
      "source": [
        "from sklearn.metrics import precision_score, recall_score, f1_score\r\n",
        "p = precision_score(Y_test, y_pred)\r\n",
        "print('precision_score {0:.4f}'.format(p))\r\n",
        "r = recall_score(Y_test, y_pred)\r\n",
        "print('recall_score {0:.4f}'.format(r))\r\n",
        "f1 = f1_score(Y_test, y_pred)\r\n",
        "print('f1_score {0:.4f}'.format(f1))"
      ],
      "execution_count": null,
      "outputs": [
        {
          "output_type": "stream",
          "text": [
            "precision_score 0.8288\n",
            "recall_score 0.8400\n",
            "f1_score 0.8344\n"
          ],
          "name": "stdout"
        }
      ]
    }
  ]
}